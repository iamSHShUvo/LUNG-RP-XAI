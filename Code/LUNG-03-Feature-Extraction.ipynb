{
 "cells": [
  {
   "cell_type": "code",
   "execution_count": 1,
   "id": "8b21d1fb",
   "metadata": {},
   "outputs": [
    {
     "name": "stdout",
     "output_type": "stream",
     "text": [
      "Libraries imported and configuration set.\n"
     ]
    }
   ],
   "source": [
    "# Importing all necessary libraries\n",
    "import os\n",
    "import pandas as pd  # For handling data in tables (DataFrames)\n",
    "import SimpleITK as sitk\n",
    "from radiomics import featureextractor  \n",
    "# The main PyRadiomics class\n",
    "import logging\n",
    "\n",
    "# --- Configuration ---\n",
    "# Setting up a logger to show PyRadiomics progress and warnings, but not too much detail\n",
    "\n",
    "logging.getLogger('radiomics').setLevel(logging.WARNING)\n",
    "\n",
    "# Setting the base path to our data\n",
    "# This is where the images and masks are stored\n",
    "data_base_path = '../Data/NSCLC-Radiomics'\n",
    "\n",
    "print(\"Libraries imported and configuration set.\")"
   ]
  },
  {
   "cell_type": "code",
   "execution_count": 2,
   "id": "178aa7f0",
   "metadata": {},
   "outputs": [
    {
     "name": "stdout",
     "output_type": "stream",
     "text": [
      "Customizing extractor settings...\n",
      "PyRadiomics feature extractor initialized and configured successfully.\n"
     ]
    }
   ],
   "source": [
    "# --- Extractor Setup ---\n",
    "\n",
    "# First, initialize an empty extractor\n",
    "from radiomics import featureextractor\n",
    "import SimpleITK as sitk\n",
    "\n",
    "extractor = featureextractor.RadiomicsFeatureExtractor()\n",
    "\n",
    "# Now, we manually set the parameters we want to customize.\n",
    "# This is the modern and correct way to do it.\n",
    "print(\"Customizing extractor settings...\")\n",
    "extractor.settings['binWidth'] = 25\n",
    "extractor.settings['resampledPixelSpacing'] = [1, 1, 1]  # Resample to 1x1x1 mm voxels\n",
    "extractor.settings['interpolator'] = 'sitkBSpline'      # Use B-Spline interpolation\n",
    "# For lung RTSTRUCT files, the primary tumor (GTV) is almost always label '1'\n",
    "extractor.settings['label'] = 1\n",
    "\n",
    "# For now, let's enable all feature classes\n",
    "extractor.enableAllFeatures()\n",
    "\n",
    "print(\"PyRadiomics feature extractor initialized and configured successfully.\")"
   ]
  },
  {
   "cell_type": "code",
   "execution_count": 3,
   "id": "38010664",
   "metadata": {},
   "outputs": [
    {
     "name": "stdout",
     "output_type": "stream",
     "text": [
      "Found 422 patients. Starting extraction...\n",
      "Processing patient: LUNG1-001...\n"
     ]
    },
    {
     "name": "stderr",
     "output_type": "stream",
     "text": [
      "parameter force2D must be set to True to enable shape2D extraction\n",
      "GLCM is symmetrical, therefore Sum Average = 2 * Joint Average, only 1 needs to be calculated\n"
     ]
    },
    {
     "name": "stdout",
     "output_type": "stream",
     "text": [
      "  > Success! Extracted 144 features.\n",
      "Processing patient: LUNG1-002...\n"
     ]
    },
    {
     "name": "stderr",
     "output_type": "stream",
     "text": [
      "parameter force2D must be set to True to enable shape2D extraction\n",
      "GLCM is symmetrical, therefore Sum Average = 2 * Joint Average, only 1 needs to be calculated\n"
     ]
    },
    {
     "name": "stdout",
     "output_type": "stream",
     "text": [
      "  > Success! Extracted 144 features.\n",
      "Processing patient: LUNG1-003...\n"
     ]
    },
    {
     "name": "stderr",
     "output_type": "stream",
     "text": [
      "parameter force2D must be set to True to enable shape2D extraction\n",
      "GLCM is symmetrical, therefore Sum Average = 2 * Joint Average, only 1 needs to be calculated\n"
     ]
    },
    {
     "name": "stdout",
     "output_type": "stream",
     "text": [
      "  > Success! Extracted 144 features.\n",
      "Processing patient: LUNG1-004...\n"
     ]
    },
    {
     "name": "stderr",
     "output_type": "stream",
     "text": [
      "parameter force2D must be set to True to enable shape2D extraction\n",
      "GLCM is symmetrical, therefore Sum Average = 2 * Joint Average, only 1 needs to be calculated\n"
     ]
    },
    {
     "name": "stdout",
     "output_type": "stream",
     "text": [
      "  > Success! Extracted 144 features.\n",
      "Processing patient: LUNG1-005...\n"
     ]
    },
    {
     "name": "stderr",
     "output_type": "stream",
     "text": [
      "parameter force2D must be set to True to enable shape2D extraction\n",
      "GLCM is symmetrical, therefore Sum Average = 2 * Joint Average, only 1 needs to be calculated\n"
     ]
    },
    {
     "name": "stdout",
     "output_type": "stream",
     "text": [
      "  > Success! Extracted 144 features.\n",
      "Processing patient: LUNG1-006...\n"
     ]
    },
    {
     "name": "stderr",
     "output_type": "stream",
     "text": [
      "parameter force2D must be set to True to enable shape2D extraction\n",
      "GLCM is symmetrical, therefore Sum Average = 2 * Joint Average, only 1 needs to be calculated\n"
     ]
    },
    {
     "name": "stdout",
     "output_type": "stream",
     "text": [
      "  > Success! Extracted 144 features.\n",
      "Processing patient: LUNG1-007...\n"
     ]
    },
    {
     "name": "stderr",
     "output_type": "stream",
     "text": [
      "parameter force2D must be set to True to enable shape2D extraction\n",
      "GLCM is symmetrical, therefore Sum Average = 2 * Joint Average, only 1 needs to be calculated\n"
     ]
    },
    {
     "name": "stdout",
     "output_type": "stream",
     "text": [
      "  > Success! Extracted 144 features.\n",
      "Processing patient: LUNG1-008...\n"
     ]
    },
    {
     "name": "stderr",
     "output_type": "stream",
     "text": [
      "parameter force2D must be set to True to enable shape2D extraction\n",
      "GLCM is symmetrical, therefore Sum Average = 2 * Joint Average, only 1 needs to be calculated\n"
     ]
    },
    {
     "name": "stdout",
     "output_type": "stream",
     "text": [
      "  > Success! Extracted 144 features.\n",
      "Processing patient: LUNG1-009...\n"
     ]
    },
    {
     "name": "stderr",
     "output_type": "stream",
     "text": [
      "parameter force2D must be set to True to enable shape2D extraction\n",
      "GLCM is symmetrical, therefore Sum Average = 2 * Joint Average, only 1 needs to be calculated\n"
     ]
    },
    {
     "name": "stdout",
     "output_type": "stream",
     "text": [
      "  > Success! Extracted 144 features.\n",
      "Processing patient: LUNG1-010...\n"
     ]
    },
    {
     "name": "stderr",
     "output_type": "stream",
     "text": [
      "parameter force2D must be set to True to enable shape2D extraction\n",
      "GLCM is symmetrical, therefore Sum Average = 2 * Joint Average, only 1 needs to be calculated\n"
     ]
    },
    {
     "name": "stdout",
     "output_type": "stream",
     "text": [
      "  > Success! Extracted 144 features.\n",
      "Processing patient: LUNG1-011...\n"
     ]
    },
    {
     "name": "stderr",
     "output_type": "stream",
     "text": [
      "parameter force2D must be set to True to enable shape2D extraction\n",
      "GLCM is symmetrical, therefore Sum Average = 2 * Joint Average, only 1 needs to be calculated\n"
     ]
    },
    {
     "name": "stdout",
     "output_type": "stream",
     "text": [
      "  > Success! Extracted 144 features.\n",
      "Processing patient: LUNG1-012...\n"
     ]
    },
    {
     "name": "stderr",
     "output_type": "stream",
     "text": [
      "parameter force2D must be set to True to enable shape2D extraction\n",
      "GLCM is symmetrical, therefore Sum Average = 2 * Joint Average, only 1 needs to be calculated\n"
     ]
    },
    {
     "name": "stdout",
     "output_type": "stream",
     "text": [
      "  > Success! Extracted 144 features.\n",
      "Processing patient: LUNG1-013...\n"
     ]
    },
    {
     "name": "stderr",
     "output_type": "stream",
     "text": [
      "parameter force2D must be set to True to enable shape2D extraction\n",
      "GLCM is symmetrical, therefore Sum Average = 2 * Joint Average, only 1 needs to be calculated\n"
     ]
    },
    {
     "name": "stdout",
     "output_type": "stream",
     "text": [
      "  > Success! Extracted 144 features.\n",
      "Processing patient: LUNG1-014...\n"
     ]
    },
    {
     "name": "stderr",
     "output_type": "stream",
     "text": [
      "parameter force2D must be set to True to enable shape2D extraction\n",
      "GLCM is symmetrical, therefore Sum Average = 2 * Joint Average, only 1 needs to be calculated\n"
     ]
    },
    {
     "name": "stdout",
     "output_type": "stream",
     "text": [
      "  > Success! Extracted 144 features.\n",
      "Processing patient: LUNG1-015...\n"
     ]
    },
    {
     "name": "stderr",
     "output_type": "stream",
     "text": [
      "parameter force2D must be set to True to enable shape2D extraction\n",
      "GLCM is symmetrical, therefore Sum Average = 2 * Joint Average, only 1 needs to be calculated\n"
     ]
    },
    {
     "name": "stdout",
     "output_type": "stream",
     "text": [
      "  > Success! Extracted 144 features.\n",
      "Processing patient: LUNG1-016...\n"
     ]
    },
    {
     "name": "stderr",
     "output_type": "stream",
     "text": [
      "parameter force2D must be set to True to enable shape2D extraction\n",
      "GLCM is symmetrical, therefore Sum Average = 2 * Joint Average, only 1 needs to be calculated\n"
     ]
    },
    {
     "name": "stdout",
     "output_type": "stream",
     "text": [
      "  > Success! Extracted 144 features.\n",
      "Processing patient: LUNG1-017...\n"
     ]
    },
    {
     "name": "stderr",
     "output_type": "stream",
     "text": [
      "parameter force2D must be set to True to enable shape2D extraction\n",
      "GLCM is symmetrical, therefore Sum Average = 2 * Joint Average, only 1 needs to be calculated\n"
     ]
    },
    {
     "name": "stdout",
     "output_type": "stream",
     "text": [
      "  > Success! Extracted 144 features.\n",
      "Processing patient: LUNG1-018...\n"
     ]
    },
    {
     "name": "stderr",
     "output_type": "stream",
     "text": [
      "parameter force2D must be set to True to enable shape2D extraction\n",
      "GLCM is symmetrical, therefore Sum Average = 2 * Joint Average, only 1 needs to be calculated\n"
     ]
    },
    {
     "name": "stdout",
     "output_type": "stream",
     "text": [
      "  > Success! Extracted 144 features.\n",
      "Processing patient: LUNG1-019...\n"
     ]
    },
    {
     "name": "stderr",
     "output_type": "stream",
     "text": [
      "parameter force2D must be set to True to enable shape2D extraction\n",
      "GLCM is symmetrical, therefore Sum Average = 2 * Joint Average, only 1 needs to be calculated\n"
     ]
    },
    {
     "name": "stdout",
     "output_type": "stream",
     "text": [
      "  > Success! Extracted 144 features.\n",
      "Processing patient: LUNG1-020...\n"
     ]
    },
    {
     "name": "stderr",
     "output_type": "stream",
     "text": [
      "parameter force2D must be set to True to enable shape2D extraction\n",
      "GLCM is symmetrical, therefore Sum Average = 2 * Joint Average, only 1 needs to be calculated\n"
     ]
    },
    {
     "name": "stdout",
     "output_type": "stream",
     "text": [
      "  > Success! Extracted 144 features.\n",
      "Processing patient: LUNG1-021...\n"
     ]
    },
    {
     "name": "stderr",
     "output_type": "stream",
     "text": [
      "parameter force2D must be set to True to enable shape2D extraction\n",
      "GLCM is symmetrical, therefore Sum Average = 2 * Joint Average, only 1 needs to be calculated\n"
     ]
    },
    {
     "name": "stdout",
     "output_type": "stream",
     "text": [
      "  > Success! Extracted 144 features.\n",
      "Processing patient: LUNG1-022...\n"
     ]
    },
    {
     "name": "stderr",
     "output_type": "stream",
     "text": [
      "parameter force2D must be set to True to enable shape2D extraction\n",
      "GLCM is symmetrical, therefore Sum Average = 2 * Joint Average, only 1 needs to be calculated\n"
     ]
    },
    {
     "name": "stdout",
     "output_type": "stream",
     "text": [
      "  > Success! Extracted 144 features.\n",
      "Processing patient: LUNG1-023...\n"
     ]
    },
    {
     "name": "stderr",
     "output_type": "stream",
     "text": [
      "parameter force2D must be set to True to enable shape2D extraction\n",
      "GLCM is symmetrical, therefore Sum Average = 2 * Joint Average, only 1 needs to be calculated\n"
     ]
    },
    {
     "name": "stdout",
     "output_type": "stream",
     "text": [
      "  > Success! Extracted 144 features.\n",
      "Processing patient: LUNG1-024...\n"
     ]
    },
    {
     "name": "stderr",
     "output_type": "stream",
     "text": [
      "parameter force2D must be set to True to enable shape2D extraction\n",
      "GLCM is symmetrical, therefore Sum Average = 2 * Joint Average, only 1 needs to be calculated\n"
     ]
    },
    {
     "name": "stdout",
     "output_type": "stream",
     "text": [
      "  > Success! Extracted 144 features.\n",
      "Processing patient: LUNG1-025...\n"
     ]
    },
    {
     "name": "stderr",
     "output_type": "stream",
     "text": [
      "parameter force2D must be set to True to enable shape2D extraction\n",
      "GLCM is symmetrical, therefore Sum Average = 2 * Joint Average, only 1 needs to be calculated\n"
     ]
    },
    {
     "name": "stdout",
     "output_type": "stream",
     "text": [
      "  > Success! Extracted 144 features.\n",
      "Processing patient: LUNG1-026...\n"
     ]
    },
    {
     "name": "stderr",
     "output_type": "stream",
     "text": [
      "parameter force2D must be set to True to enable shape2D extraction\n",
      "GLCM is symmetrical, therefore Sum Average = 2 * Joint Average, only 1 needs to be calculated\n"
     ]
    },
    {
     "name": "stdout",
     "output_type": "stream",
     "text": [
      "  > Success! Extracted 144 features.\n",
      "Processing patient: LUNG1-027...\n"
     ]
    },
    {
     "name": "stderr",
     "output_type": "stream",
     "text": [
      "parameter force2D must be set to True to enable shape2D extraction\n",
      "GLCM is symmetrical, therefore Sum Average = 2 * Joint Average, only 1 needs to be calculated\n"
     ]
    },
    {
     "name": "stdout",
     "output_type": "stream",
     "text": [
      "  > Success! Extracted 144 features.\n",
      "Processing patient: LUNG1-028...\n"
     ]
    },
    {
     "name": "stderr",
     "output_type": "stream",
     "text": [
      "parameter force2D must be set to True to enable shape2D extraction\n",
      "GLCM is symmetrical, therefore Sum Average = 2 * Joint Average, only 1 needs to be calculated\n"
     ]
    },
    {
     "name": "stdout",
     "output_type": "stream",
     "text": [
      "  > Success! Extracted 144 features.\n",
      "Processing patient: LUNG1-029...\n"
     ]
    },
    {
     "name": "stderr",
     "output_type": "stream",
     "text": [
      "parameter force2D must be set to True to enable shape2D extraction\n",
      "GLCM is symmetrical, therefore Sum Average = 2 * Joint Average, only 1 needs to be calculated\n"
     ]
    },
    {
     "name": "stdout",
     "output_type": "stream",
     "text": [
      "  > Success! Extracted 144 features.\n",
      "Processing patient: LUNG1-030...\n"
     ]
    },
    {
     "name": "stderr",
     "output_type": "stream",
     "text": [
      "parameter force2D must be set to True to enable shape2D extraction\n",
      "GLCM is symmetrical, therefore Sum Average = 2 * Joint Average, only 1 needs to be calculated\n"
     ]
    },
    {
     "name": "stdout",
     "output_type": "stream",
     "text": [
      "  > Success! Extracted 144 features.\n",
      "Processing patient: LUNG1-031...\n"
     ]
    },
    {
     "name": "stderr",
     "output_type": "stream",
     "text": [
      "parameter force2D must be set to True to enable shape2D extraction\n",
      "GLCM is symmetrical, therefore Sum Average = 2 * Joint Average, only 1 needs to be calculated\n"
     ]
    },
    {
     "name": "stdout",
     "output_type": "stream",
     "text": [
      "  > Success! Extracted 144 features.\n",
      "Processing patient: LUNG1-032...\n"
     ]
    },
    {
     "name": "stderr",
     "output_type": "stream",
     "text": [
      "parameter force2D must be set to True to enable shape2D extraction\n",
      "GLCM is symmetrical, therefore Sum Average = 2 * Joint Average, only 1 needs to be calculated\n"
     ]
    },
    {
     "name": "stdout",
     "output_type": "stream",
     "text": [
      "  > Success! Extracted 144 features.\n",
      "Processing patient: LUNG1-033...\n"
     ]
    },
    {
     "name": "stderr",
     "output_type": "stream",
     "text": [
      "parameter force2D must be set to True to enable shape2D extraction\n",
      "GLCM is symmetrical, therefore Sum Average = 2 * Joint Average, only 1 needs to be calculated\n"
     ]
    },
    {
     "name": "stdout",
     "output_type": "stream",
     "text": [
      "  > Success! Extracted 144 features.\n",
      "Processing patient: LUNG1-034...\n"
     ]
    },
    {
     "name": "stderr",
     "output_type": "stream",
     "text": [
      "parameter force2D must be set to True to enable shape2D extraction\n",
      "GLCM is symmetrical, therefore Sum Average = 2 * Joint Average, only 1 needs to be calculated\n"
     ]
    },
    {
     "name": "stdout",
     "output_type": "stream",
     "text": [
      "  > Success! Extracted 144 features.\n",
      "Processing patient: LUNG1-035...\n"
     ]
    },
    {
     "name": "stderr",
     "output_type": "stream",
     "text": [
      "parameter force2D must be set to True to enable shape2D extraction\n",
      "GLCM is symmetrical, therefore Sum Average = 2 * Joint Average, only 1 needs to be calculated\n"
     ]
    },
    {
     "name": "stdout",
     "output_type": "stream",
     "text": [
      "  > Success! Extracted 144 features.\n",
      "Processing patient: LUNG1-036...\n"
     ]
    },
    {
     "name": "stderr",
     "output_type": "stream",
     "text": [
      "parameter force2D must be set to True to enable shape2D extraction\n",
      "GLCM is symmetrical, therefore Sum Average = 2 * Joint Average, only 1 needs to be calculated\n"
     ]
    },
    {
     "name": "stdout",
     "output_type": "stream",
     "text": [
      "  > Success! Extracted 144 features.\n",
      "Processing patient: LUNG1-037...\n"
     ]
    },
    {
     "name": "stderr",
     "output_type": "stream",
     "text": [
      "parameter force2D must be set to True to enable shape2D extraction\n",
      "GLCM is symmetrical, therefore Sum Average = 2 * Joint Average, only 1 needs to be calculated\n"
     ]
    },
    {
     "name": "stdout",
     "output_type": "stream",
     "text": [
      "  > Success! Extracted 144 features.\n",
      "Processing patient: LUNG1-038...\n"
     ]
    },
    {
     "name": "stderr",
     "output_type": "stream",
     "text": [
      "parameter force2D must be set to True to enable shape2D extraction\n",
      "GLCM is symmetrical, therefore Sum Average = 2 * Joint Average, only 1 needs to be calculated\n"
     ]
    },
    {
     "name": "stdout",
     "output_type": "stream",
     "text": [
      "  > Success! Extracted 144 features.\n",
      "Processing patient: LUNG1-039...\n"
     ]
    },
    {
     "name": "stderr",
     "output_type": "stream",
     "text": [
      "parameter force2D must be set to True to enable shape2D extraction\n",
      "GLCM is symmetrical, therefore Sum Average = 2 * Joint Average, only 1 needs to be calculated\n"
     ]
    },
    {
     "name": "stdout",
     "output_type": "stream",
     "text": [
      "  > Success! Extracted 144 features.\n",
      "Processing patient: LUNG1-040...\n"
     ]
    },
    {
     "name": "stderr",
     "output_type": "stream",
     "text": [
      "parameter force2D must be set to True to enable shape2D extraction\n",
      "GLCM is symmetrical, therefore Sum Average = 2 * Joint Average, only 1 needs to be calculated\n"
     ]
    },
    {
     "name": "stdout",
     "output_type": "stream",
     "text": [
      "  > Success! Extracted 144 features.\n",
      "Processing patient: LUNG1-041...\n"
     ]
    },
    {
     "name": "stderr",
     "output_type": "stream",
     "text": [
      "parameter force2D must be set to True to enable shape2D extraction\n",
      "GLCM is symmetrical, therefore Sum Average = 2 * Joint Average, only 1 needs to be calculated\n"
     ]
    },
    {
     "name": "stdout",
     "output_type": "stream",
     "text": [
      "  > Success! Extracted 144 features.\n",
      "Processing patient: LUNG1-042...\n"
     ]
    },
    {
     "name": "stderr",
     "output_type": "stream",
     "text": [
      "parameter force2D must be set to True to enable shape2D extraction\n",
      "GLCM is symmetrical, therefore Sum Average = 2 * Joint Average, only 1 needs to be calculated\n"
     ]
    },
    {
     "name": "stdout",
     "output_type": "stream",
     "text": [
      "  > Success! Extracted 144 features.\n",
      "Processing patient: LUNG1-043...\n"
     ]
    },
    {
     "name": "stderr",
     "output_type": "stream",
     "text": [
      "parameter force2D must be set to True to enable shape2D extraction\n",
      "GLCM is symmetrical, therefore Sum Average = 2 * Joint Average, only 1 needs to be calculated\n"
     ]
    },
    {
     "name": "stdout",
     "output_type": "stream",
     "text": [
      "  > Success! Extracted 144 features.\n",
      "Processing patient: LUNG1-044...\n"
     ]
    },
    {
     "name": "stderr",
     "output_type": "stream",
     "text": [
      "parameter force2D must be set to True to enable shape2D extraction\n",
      "GLCM is symmetrical, therefore Sum Average = 2 * Joint Average, only 1 needs to be calculated\n"
     ]
    },
    {
     "name": "stdout",
     "output_type": "stream",
     "text": [
      "  > Success! Extracted 144 features.\n",
      "Processing patient: LUNG1-045...\n"
     ]
    },
    {
     "name": "stderr",
     "output_type": "stream",
     "text": [
      "parameter force2D must be set to True to enable shape2D extraction\n",
      "GLCM is symmetrical, therefore Sum Average = 2 * Joint Average, only 1 needs to be calculated\n"
     ]
    },
    {
     "name": "stdout",
     "output_type": "stream",
     "text": [
      "  > Success! Extracted 144 features.\n",
      "Processing patient: LUNG1-046...\n"
     ]
    },
    {
     "name": "stderr",
     "output_type": "stream",
     "text": [
      "parameter force2D must be set to True to enable shape2D extraction\n",
      "GLCM is symmetrical, therefore Sum Average = 2 * Joint Average, only 1 needs to be calculated\n"
     ]
    },
    {
     "name": "stdout",
     "output_type": "stream",
     "text": [
      "  > Success! Extracted 144 features.\n",
      "Processing patient: LUNG1-047...\n"
     ]
    },
    {
     "name": "stderr",
     "output_type": "stream",
     "text": [
      "parameter force2D must be set to True to enable shape2D extraction\n",
      "GLCM is symmetrical, therefore Sum Average = 2 * Joint Average, only 1 needs to be calculated\n"
     ]
    },
    {
     "name": "stdout",
     "output_type": "stream",
     "text": [
      "  > Success! Extracted 144 features.\n",
      "Processing patient: LUNG1-048...\n"
     ]
    },
    {
     "name": "stderr",
     "output_type": "stream",
     "text": [
      "parameter force2D must be set to True to enable shape2D extraction\n",
      "GLCM is symmetrical, therefore Sum Average = 2 * Joint Average, only 1 needs to be calculated\n"
     ]
    },
    {
     "name": "stdout",
     "output_type": "stream",
     "text": [
      "  > Success! Extracted 144 features.\n",
      "Processing patient: LUNG1-049...\n"
     ]
    },
    {
     "name": "stderr",
     "output_type": "stream",
     "text": [
      "parameter force2D must be set to True to enable shape2D extraction\n",
      "GLCM is symmetrical, therefore Sum Average = 2 * Joint Average, only 1 needs to be calculated\n"
     ]
    },
    {
     "name": "stdout",
     "output_type": "stream",
     "text": [
      "  > Success! Extracted 144 features.\n",
      "Processing patient: LUNG1-050...\n"
     ]
    },
    {
     "name": "stderr",
     "output_type": "stream",
     "text": [
      "parameter force2D must be set to True to enable shape2D extraction\n",
      "GLCM is symmetrical, therefore Sum Average = 2 * Joint Average, only 1 needs to be calculated\n"
     ]
    },
    {
     "name": "stdout",
     "output_type": "stream",
     "text": [
      "  > Success! Extracted 144 features.\n",
      "Processing patient: LUNG1-051...\n"
     ]
    },
    {
     "name": "stderr",
     "output_type": "stream",
     "text": [
      "parameter force2D must be set to True to enable shape2D extraction\n",
      "GLCM is symmetrical, therefore Sum Average = 2 * Joint Average, only 1 needs to be calculated\n"
     ]
    },
    {
     "name": "stdout",
     "output_type": "stream",
     "text": [
      "  > Success! Extracted 144 features.\n",
      "Processing patient: LUNG1-052...\n"
     ]
    },
    {
     "name": "stderr",
     "output_type": "stream",
     "text": [
      "parameter force2D must be set to True to enable shape2D extraction\n",
      "GLCM is symmetrical, therefore Sum Average = 2 * Joint Average, only 1 needs to be calculated\n"
     ]
    },
    {
     "name": "stdout",
     "output_type": "stream",
     "text": [
      "  > Success! Extracted 144 features.\n",
      "Processing patient: LUNG1-053...\n"
     ]
    },
    {
     "name": "stderr",
     "output_type": "stream",
     "text": [
      "parameter force2D must be set to True to enable shape2D extraction\n",
      "GLCM is symmetrical, therefore Sum Average = 2 * Joint Average, only 1 needs to be calculated\n"
     ]
    },
    {
     "name": "stdout",
     "output_type": "stream",
     "text": [
      "  > Success! Extracted 144 features.\n",
      "Processing patient: LUNG1-054...\n"
     ]
    },
    {
     "name": "stderr",
     "output_type": "stream",
     "text": [
      "parameter force2D must be set to True to enable shape2D extraction\n",
      "GLCM is symmetrical, therefore Sum Average = 2 * Joint Average, only 1 needs to be calculated\n"
     ]
    },
    {
     "name": "stdout",
     "output_type": "stream",
     "text": [
      "  > Success! Extracted 144 features.\n",
      "Processing patient: LUNG1-055...\n"
     ]
    },
    {
     "name": "stderr",
     "output_type": "stream",
     "text": [
      "parameter force2D must be set to True to enable shape2D extraction\n",
      "GLCM is symmetrical, therefore Sum Average = 2 * Joint Average, only 1 needs to be calculated\n"
     ]
    },
    {
     "name": "stdout",
     "output_type": "stream",
     "text": [
      "  > Success! Extracted 144 features.\n",
      "Processing patient: LUNG1-056...\n"
     ]
    },
    {
     "name": "stderr",
     "output_type": "stream",
     "text": [
      "parameter force2D must be set to True to enable shape2D extraction\n",
      "GLCM is symmetrical, therefore Sum Average = 2 * Joint Average, only 1 needs to be calculated\n"
     ]
    },
    {
     "name": "stdout",
     "output_type": "stream",
     "text": [
      "  > Success! Extracted 144 features.\n",
      "Processing patient: LUNG1-057...\n"
     ]
    },
    {
     "name": "stderr",
     "output_type": "stream",
     "text": [
      "parameter force2D must be set to True to enable shape2D extraction\n",
      "GLCM is symmetrical, therefore Sum Average = 2 * Joint Average, only 1 needs to be calculated\n"
     ]
    },
    {
     "name": "stdout",
     "output_type": "stream",
     "text": [
      "  > Success! Extracted 144 features.\n",
      "Processing patient: LUNG1-058...\n"
     ]
    },
    {
     "name": "stderr",
     "output_type": "stream",
     "text": [
      "parameter force2D must be set to True to enable shape2D extraction\n",
      "GLCM is symmetrical, therefore Sum Average = 2 * Joint Average, only 1 needs to be calculated\n"
     ]
    },
    {
     "name": "stdout",
     "output_type": "stream",
     "text": [
      "  > Success! Extracted 144 features.\n",
      "Processing patient: LUNG1-059...\n"
     ]
    },
    {
     "name": "stderr",
     "output_type": "stream",
     "text": [
      "parameter force2D must be set to True to enable shape2D extraction\n",
      "GLCM is symmetrical, therefore Sum Average = 2 * Joint Average, only 1 needs to be calculated\n"
     ]
    },
    {
     "name": "stdout",
     "output_type": "stream",
     "text": [
      "  > Success! Extracted 144 features.\n",
      "Processing patient: LUNG1-060...\n"
     ]
    },
    {
     "name": "stderr",
     "output_type": "stream",
     "text": [
      "parameter force2D must be set to True to enable shape2D extraction\n",
      "GLCM is symmetrical, therefore Sum Average = 2 * Joint Average, only 1 needs to be calculated\n"
     ]
    },
    {
     "name": "stdout",
     "output_type": "stream",
     "text": [
      "  > Success! Extracted 144 features.\n",
      "Processing patient: LUNG1-061...\n"
     ]
    },
    {
     "name": "stderr",
     "output_type": "stream",
     "text": [
      "parameter force2D must be set to True to enable shape2D extraction\n",
      "GLCM is symmetrical, therefore Sum Average = 2 * Joint Average, only 1 needs to be calculated\n"
     ]
    },
    {
     "name": "stdout",
     "output_type": "stream",
     "text": [
      "  > Success! Extracted 144 features.\n",
      "Processing patient: LUNG1-062...\n"
     ]
    },
    {
     "name": "stderr",
     "output_type": "stream",
     "text": [
      "parameter force2D must be set to True to enable shape2D extraction\n",
      "GLCM is symmetrical, therefore Sum Average = 2 * Joint Average, only 1 needs to be calculated\n"
     ]
    },
    {
     "name": "stdout",
     "output_type": "stream",
     "text": [
      "  > Success! Extracted 144 features.\n",
      "Processing patient: LUNG1-063...\n"
     ]
    },
    {
     "name": "stderr",
     "output_type": "stream",
     "text": [
      "parameter force2D must be set to True to enable shape2D extraction\n",
      "GLCM is symmetrical, therefore Sum Average = 2 * Joint Average, only 1 needs to be calculated\n"
     ]
    },
    {
     "name": "stdout",
     "output_type": "stream",
     "text": [
      "  > Success! Extracted 144 features.\n",
      "Processing patient: LUNG1-064...\n"
     ]
    },
    {
     "name": "stderr",
     "output_type": "stream",
     "text": [
      "parameter force2D must be set to True to enable shape2D extraction\n",
      "GLCM is symmetrical, therefore Sum Average = 2 * Joint Average, only 1 needs to be calculated\n"
     ]
    },
    {
     "name": "stdout",
     "output_type": "stream",
     "text": [
      "  > Success! Extracted 144 features.\n",
      "Processing patient: LUNG1-065...\n"
     ]
    },
    {
     "name": "stderr",
     "output_type": "stream",
     "text": [
      "parameter force2D must be set to True to enable shape2D extraction\n",
      "GLCM is symmetrical, therefore Sum Average = 2 * Joint Average, only 1 needs to be calculated\n"
     ]
    },
    {
     "name": "stdout",
     "output_type": "stream",
     "text": [
      "  > Success! Extracted 144 features.\n",
      "Processing patient: LUNG1-066...\n"
     ]
    },
    {
     "name": "stderr",
     "output_type": "stream",
     "text": [
      "parameter force2D must be set to True to enable shape2D extraction\n",
      "GLCM is symmetrical, therefore Sum Average = 2 * Joint Average, only 1 needs to be calculated\n"
     ]
    },
    {
     "name": "stdout",
     "output_type": "stream",
     "text": [
      "  > Success! Extracted 144 features.\n",
      "Processing patient: LUNG1-067...\n"
     ]
    },
    {
     "name": "stderr",
     "output_type": "stream",
     "text": [
      "parameter force2D must be set to True to enable shape2D extraction\n",
      "GLCM is symmetrical, therefore Sum Average = 2 * Joint Average, only 1 needs to be calculated\n"
     ]
    },
    {
     "name": "stdout",
     "output_type": "stream",
     "text": [
      "  > Success! Extracted 144 features.\n",
      "Processing patient: LUNG1-068...\n"
     ]
    },
    {
     "name": "stderr",
     "output_type": "stream",
     "text": [
      "parameter force2D must be set to True to enable shape2D extraction\n",
      "GLCM is symmetrical, therefore Sum Average = 2 * Joint Average, only 1 needs to be calculated\n"
     ]
    },
    {
     "name": "stdout",
     "output_type": "stream",
     "text": [
      "  > Success! Extracted 144 features.\n",
      "Processing patient: LUNG1-069...\n"
     ]
    },
    {
     "name": "stderr",
     "output_type": "stream",
     "text": [
      "parameter force2D must be set to True to enable shape2D extraction\n",
      "GLCM is symmetrical, therefore Sum Average = 2 * Joint Average, only 1 needs to be calculated\n"
     ]
    },
    {
     "name": "stdout",
     "output_type": "stream",
     "text": [
      "  > Success! Extracted 144 features.\n",
      "Processing patient: LUNG1-070...\n"
     ]
    },
    {
     "name": "stderr",
     "output_type": "stream",
     "text": [
      "parameter force2D must be set to True to enable shape2D extraction\n",
      "GLCM is symmetrical, therefore Sum Average = 2 * Joint Average, only 1 needs to be calculated\n"
     ]
    },
    {
     "name": "stdout",
     "output_type": "stream",
     "text": [
      "  > Success! Extracted 144 features.\n",
      "Processing patient: LUNG1-071...\n"
     ]
    },
    {
     "name": "stderr",
     "output_type": "stream",
     "text": [
      "parameter force2D must be set to True to enable shape2D extraction\n",
      "GLCM is symmetrical, therefore Sum Average = 2 * Joint Average, only 1 needs to be calculated\n"
     ]
    },
    {
     "name": "stdout",
     "output_type": "stream",
     "text": [
      "  > Success! Extracted 144 features.\n",
      "Processing patient: LUNG1-072...\n"
     ]
    },
    {
     "name": "stderr",
     "output_type": "stream",
     "text": [
      "parameter force2D must be set to True to enable shape2D extraction\n",
      "GLCM is symmetrical, therefore Sum Average = 2 * Joint Average, only 1 needs to be calculated\n"
     ]
    },
    {
     "name": "stdout",
     "output_type": "stream",
     "text": [
      "  > Success! Extracted 144 features.\n",
      "Processing patient: LUNG1-073...\n"
     ]
    },
    {
     "name": "stderr",
     "output_type": "stream",
     "text": [
      "parameter force2D must be set to True to enable shape2D extraction\n",
      "GLCM is symmetrical, therefore Sum Average = 2 * Joint Average, only 1 needs to be calculated\n"
     ]
    },
    {
     "name": "stdout",
     "output_type": "stream",
     "text": [
      "  > Success! Extracted 144 features.\n",
      "Processing patient: LUNG1-074...\n"
     ]
    },
    {
     "name": "stderr",
     "output_type": "stream",
     "text": [
      "parameter force2D must be set to True to enable shape2D extraction\n",
      "GLCM is symmetrical, therefore Sum Average = 2 * Joint Average, only 1 needs to be calculated\n"
     ]
    },
    {
     "name": "stdout",
     "output_type": "stream",
     "text": [
      "  > Success! Extracted 144 features.\n",
      "Processing patient: LUNG1-075...\n"
     ]
    },
    {
     "name": "stderr",
     "output_type": "stream",
     "text": [
      "parameter force2D must be set to True to enable shape2D extraction\n",
      "GLCM is symmetrical, therefore Sum Average = 2 * Joint Average, only 1 needs to be calculated\n"
     ]
    },
    {
     "name": "stdout",
     "output_type": "stream",
     "text": [
      "  > Success! Extracted 144 features.\n",
      "Processing patient: LUNG1-076...\n"
     ]
    },
    {
     "name": "stderr",
     "output_type": "stream",
     "text": [
      "parameter force2D must be set to True to enable shape2D extraction\n",
      "GLCM is symmetrical, therefore Sum Average = 2 * Joint Average, only 1 needs to be calculated\n"
     ]
    },
    {
     "name": "stdout",
     "output_type": "stream",
     "text": [
      "  > Success! Extracted 144 features.\n",
      "Processing patient: LUNG1-077...\n"
     ]
    },
    {
     "name": "stderr",
     "output_type": "stream",
     "text": [
      "parameter force2D must be set to True to enable shape2D extraction\n",
      "GLCM is symmetrical, therefore Sum Average = 2 * Joint Average, only 1 needs to be calculated\n"
     ]
    },
    {
     "name": "stdout",
     "output_type": "stream",
     "text": [
      "  > Success! Extracted 144 features.\n",
      "Processing patient: LUNG1-078...\n"
     ]
    },
    {
     "name": "stderr",
     "output_type": "stream",
     "text": [
      "parameter force2D must be set to True to enable shape2D extraction\n",
      "GLCM is symmetrical, therefore Sum Average = 2 * Joint Average, only 1 needs to be calculated\n"
     ]
    },
    {
     "name": "stdout",
     "output_type": "stream",
     "text": [
      "  > Success! Extracted 144 features.\n",
      "Processing patient: LUNG1-079...\n"
     ]
    },
    {
     "name": "stderr",
     "output_type": "stream",
     "text": [
      "parameter force2D must be set to True to enable shape2D extraction\n",
      "GLCM is symmetrical, therefore Sum Average = 2 * Joint Average, only 1 needs to be calculated\n"
     ]
    },
    {
     "name": "stdout",
     "output_type": "stream",
     "text": [
      "  > Success! Extracted 144 features.\n",
      "Processing patient: LUNG1-080...\n"
     ]
    },
    {
     "name": "stderr",
     "output_type": "stream",
     "text": [
      "parameter force2D must be set to True to enable shape2D extraction\n",
      "GLCM is symmetrical, therefore Sum Average = 2 * Joint Average, only 1 needs to be calculated\n"
     ]
    },
    {
     "name": "stdout",
     "output_type": "stream",
     "text": [
      "  > Success! Extracted 144 features.\n",
      "Processing patient: LUNG1-081...\n"
     ]
    },
    {
     "name": "stderr",
     "output_type": "stream",
     "text": [
      "parameter force2D must be set to True to enable shape2D extraction\n",
      "GLCM is symmetrical, therefore Sum Average = 2 * Joint Average, only 1 needs to be calculated\n"
     ]
    },
    {
     "name": "stdout",
     "output_type": "stream",
     "text": [
      "  > Success! Extracted 144 features.\n",
      "Processing patient: LUNG1-082...\n"
     ]
    },
    {
     "name": "stderr",
     "output_type": "stream",
     "text": [
      "parameter force2D must be set to True to enable shape2D extraction\n",
      "GLCM is symmetrical, therefore Sum Average = 2 * Joint Average, only 1 needs to be calculated\n"
     ]
    },
    {
     "name": "stdout",
     "output_type": "stream",
     "text": [
      "  > Success! Extracted 144 features.\n",
      "Processing patient: LUNG1-083...\n"
     ]
    },
    {
     "name": "stderr",
     "output_type": "stream",
     "text": [
      "parameter force2D must be set to True to enable shape2D extraction\n",
      "GLCM is symmetrical, therefore Sum Average = 2 * Joint Average, only 1 needs to be calculated\n"
     ]
    },
    {
     "name": "stdout",
     "output_type": "stream",
     "text": [
      "  > Success! Extracted 144 features.\n",
      "Processing patient: LUNG1-084...\n"
     ]
    },
    {
     "name": "stderr",
     "output_type": "stream",
     "text": [
      "parameter force2D must be set to True to enable shape2D extraction\n",
      "GLCM is symmetrical, therefore Sum Average = 2 * Joint Average, only 1 needs to be calculated\n"
     ]
    },
    {
     "name": "stdout",
     "output_type": "stream",
     "text": [
      "  > Success! Extracted 144 features.\n",
      "Processing patient: LUNG1-085...\n"
     ]
    },
    {
     "name": "stderr",
     "output_type": "stream",
     "text": [
      "parameter force2D must be set to True to enable shape2D extraction\n",
      "GLCM is symmetrical, therefore Sum Average = 2 * Joint Average, only 1 needs to be calculated\n"
     ]
    },
    {
     "name": "stdout",
     "output_type": "stream",
     "text": [
      "  > Success! Extracted 144 features.\n",
      "Processing patient: LUNG1-086...\n"
     ]
    },
    {
     "name": "stderr",
     "output_type": "stream",
     "text": [
      "parameter force2D must be set to True to enable shape2D extraction\n",
      "GLCM is symmetrical, therefore Sum Average = 2 * Joint Average, only 1 needs to be calculated\n"
     ]
    },
    {
     "name": "stdout",
     "output_type": "stream",
     "text": [
      "  > Success! Extracted 144 features.\n",
      "Processing patient: LUNG1-087...\n"
     ]
    },
    {
     "name": "stderr",
     "output_type": "stream",
     "text": [
      "parameter force2D must be set to True to enable shape2D extraction\n",
      "GLCM is symmetrical, therefore Sum Average = 2 * Joint Average, only 1 needs to be calculated\n"
     ]
    },
    {
     "name": "stdout",
     "output_type": "stream",
     "text": [
      "  > Success! Extracted 144 features.\n",
      "Processing patient: LUNG1-088...\n"
     ]
    },
    {
     "name": "stderr",
     "output_type": "stream",
     "text": [
      "parameter force2D must be set to True to enable shape2D extraction\n",
      "GLCM is symmetrical, therefore Sum Average = 2 * Joint Average, only 1 needs to be calculated\n"
     ]
    },
    {
     "name": "stdout",
     "output_type": "stream",
     "text": [
      "  > Success! Extracted 144 features.\n",
      "Processing patient: LUNG1-089...\n"
     ]
    },
    {
     "name": "stderr",
     "output_type": "stream",
     "text": [
      "parameter force2D must be set to True to enable shape2D extraction\n",
      "GLCM is symmetrical, therefore Sum Average = 2 * Joint Average, only 1 needs to be calculated\n"
     ]
    },
    {
     "name": "stdout",
     "output_type": "stream",
     "text": [
      "  > Success! Extracted 144 features.\n",
      "Processing patient: LUNG1-090...\n"
     ]
    },
    {
     "name": "stderr",
     "output_type": "stream",
     "text": [
      "parameter force2D must be set to True to enable shape2D extraction\n",
      "GLCM is symmetrical, therefore Sum Average = 2 * Joint Average, only 1 needs to be calculated\n"
     ]
    },
    {
     "name": "stdout",
     "output_type": "stream",
     "text": [
      "  > Success! Extracted 144 features.\n",
      "Processing patient: LUNG1-091...\n"
     ]
    },
    {
     "name": "stderr",
     "output_type": "stream",
     "text": [
      "parameter force2D must be set to True to enable shape2D extraction\n",
      "GLCM is symmetrical, therefore Sum Average = 2 * Joint Average, only 1 needs to be calculated\n"
     ]
    },
    {
     "name": "stdout",
     "output_type": "stream",
     "text": [
      "  > Success! Extracted 144 features.\n",
      "Processing patient: LUNG1-092...\n"
     ]
    },
    {
     "name": "stderr",
     "output_type": "stream",
     "text": [
      "parameter force2D must be set to True to enable shape2D extraction\n",
      "GLCM is symmetrical, therefore Sum Average = 2 * Joint Average, only 1 needs to be calculated\n"
     ]
    },
    {
     "name": "stdout",
     "output_type": "stream",
     "text": [
      "  > Success! Extracted 144 features.\n",
      "Processing patient: LUNG1-093...\n"
     ]
    },
    {
     "name": "stderr",
     "output_type": "stream",
     "text": [
      "parameter force2D must be set to True to enable shape2D extraction\n",
      "GLCM is symmetrical, therefore Sum Average = 2 * Joint Average, only 1 needs to be calculated\n"
     ]
    },
    {
     "name": "stdout",
     "output_type": "stream",
     "text": [
      "  > Success! Extracted 144 features.\n",
      "Processing patient: LUNG1-094...\n"
     ]
    },
    {
     "name": "stderr",
     "output_type": "stream",
     "text": [
      "parameter force2D must be set to True to enable shape2D extraction\n",
      "GLCM is symmetrical, therefore Sum Average = 2 * Joint Average, only 1 needs to be calculated\n"
     ]
    },
    {
     "name": "stdout",
     "output_type": "stream",
     "text": [
      "  > Success! Extracted 144 features.\n",
      "Processing patient: LUNG1-095...\n"
     ]
    },
    {
     "name": "stderr",
     "output_type": "stream",
     "text": [
      "parameter force2D must be set to True to enable shape2D extraction\n",
      "GLCM is symmetrical, therefore Sum Average = 2 * Joint Average, only 1 needs to be calculated\n"
     ]
    },
    {
     "name": "stdout",
     "output_type": "stream",
     "text": [
      "  > Success! Extracted 144 features.\n",
      "Processing patient: LUNG1-096...\n"
     ]
    },
    {
     "name": "stderr",
     "output_type": "stream",
     "text": [
      "parameter force2D must be set to True to enable shape2D extraction\n",
      "GLCM is symmetrical, therefore Sum Average = 2 * Joint Average, only 1 needs to be calculated\n"
     ]
    },
    {
     "name": "stdout",
     "output_type": "stream",
     "text": [
      "  > Success! Extracted 144 features.\n",
      "Processing patient: LUNG1-097...\n"
     ]
    },
    {
     "name": "stderr",
     "output_type": "stream",
     "text": [
      "parameter force2D must be set to True to enable shape2D extraction\n",
      "GLCM is symmetrical, therefore Sum Average = 2 * Joint Average, only 1 needs to be calculated\n"
     ]
    },
    {
     "name": "stdout",
     "output_type": "stream",
     "text": [
      "  > Success! Extracted 144 features.\n",
      "Processing patient: LUNG1-098...\n"
     ]
    },
    {
     "name": "stderr",
     "output_type": "stream",
     "text": [
      "parameter force2D must be set to True to enable shape2D extraction\n",
      "GLCM is symmetrical, therefore Sum Average = 2 * Joint Average, only 1 needs to be calculated\n"
     ]
    },
    {
     "name": "stdout",
     "output_type": "stream",
     "text": [
      "  > Success! Extracted 144 features.\n",
      "Processing patient: LUNG1-099...\n"
     ]
    },
    {
     "name": "stderr",
     "output_type": "stream",
     "text": [
      "parameter force2D must be set to True to enable shape2D extraction\n",
      "GLCM is symmetrical, therefore Sum Average = 2 * Joint Average, only 1 needs to be calculated\n"
     ]
    },
    {
     "name": "stdout",
     "output_type": "stream",
     "text": [
      "  > Success! Extracted 144 features.\n",
      "Processing patient: LUNG1-100...\n"
     ]
    },
    {
     "name": "stderr",
     "output_type": "stream",
     "text": [
      "parameter force2D must be set to True to enable shape2D extraction\n",
      "GLCM is symmetrical, therefore Sum Average = 2 * Joint Average, only 1 needs to be calculated\n"
     ]
    },
    {
     "name": "stdout",
     "output_type": "stream",
     "text": [
      "  > Success! Extracted 144 features.\n",
      "Processing patient: LUNG1-101...\n"
     ]
    },
    {
     "name": "stderr",
     "output_type": "stream",
     "text": [
      "parameter force2D must be set to True to enable shape2D extraction\n",
      "GLCM is symmetrical, therefore Sum Average = 2 * Joint Average, only 1 needs to be calculated\n"
     ]
    },
    {
     "name": "stdout",
     "output_type": "stream",
     "text": [
      "  > Success! Extracted 144 features.\n",
      "Processing patient: LUNG1-102...\n"
     ]
    },
    {
     "name": "stderr",
     "output_type": "stream",
     "text": [
      "parameter force2D must be set to True to enable shape2D extraction\n",
      "GLCM is symmetrical, therefore Sum Average = 2 * Joint Average, only 1 needs to be calculated\n"
     ]
    },
    {
     "name": "stdout",
     "output_type": "stream",
     "text": [
      "  > Success! Extracted 144 features.\n",
      "Processing patient: LUNG1-103...\n"
     ]
    },
    {
     "name": "stderr",
     "output_type": "stream",
     "text": [
      "parameter force2D must be set to True to enable shape2D extraction\n",
      "GLCM is symmetrical, therefore Sum Average = 2 * Joint Average, only 1 needs to be calculated\n"
     ]
    },
    {
     "name": "stdout",
     "output_type": "stream",
     "text": [
      "  > Success! Extracted 144 features.\n",
      "Processing patient: LUNG1-104...\n"
     ]
    },
    {
     "name": "stderr",
     "output_type": "stream",
     "text": [
      "parameter force2D must be set to True to enable shape2D extraction\n",
      "GLCM is symmetrical, therefore Sum Average = 2 * Joint Average, only 1 needs to be calculated\n"
     ]
    },
    {
     "name": "stdout",
     "output_type": "stream",
     "text": [
      "  > Success! Extracted 144 features.\n",
      "Processing patient: LUNG1-105...\n"
     ]
    },
    {
     "name": "stderr",
     "output_type": "stream",
     "text": [
      "parameter force2D must be set to True to enable shape2D extraction\n",
      "GLCM is symmetrical, therefore Sum Average = 2 * Joint Average, only 1 needs to be calculated\n"
     ]
    },
    {
     "name": "stdout",
     "output_type": "stream",
     "text": [
      "  > Success! Extracted 144 features.\n",
      "Processing patient: LUNG1-106...\n"
     ]
    },
    {
     "name": "stderr",
     "output_type": "stream",
     "text": [
      "parameter force2D must be set to True to enable shape2D extraction\n",
      "GLCM is symmetrical, therefore Sum Average = 2 * Joint Average, only 1 needs to be calculated\n"
     ]
    },
    {
     "name": "stdout",
     "output_type": "stream",
     "text": [
      "  > Success! Extracted 144 features.\n",
      "Processing patient: LUNG1-107...\n"
     ]
    },
    {
     "name": "stderr",
     "output_type": "stream",
     "text": [
      "parameter force2D must be set to True to enable shape2D extraction\n",
      "GLCM is symmetrical, therefore Sum Average = 2 * Joint Average, only 1 needs to be calculated\n"
     ]
    },
    {
     "name": "stdout",
     "output_type": "stream",
     "text": [
      "  > Success! Extracted 144 features.\n",
      "Processing patient: LUNG1-108...\n"
     ]
    },
    {
     "name": "stderr",
     "output_type": "stream",
     "text": [
      "parameter force2D must be set to True to enable shape2D extraction\n",
      "GLCM is symmetrical, therefore Sum Average = 2 * Joint Average, only 1 needs to be calculated\n"
     ]
    },
    {
     "name": "stdout",
     "output_type": "stream",
     "text": [
      "  > Success! Extracted 144 features.\n",
      "Processing patient: LUNG1-109...\n"
     ]
    },
    {
     "name": "stderr",
     "output_type": "stream",
     "text": [
      "parameter force2D must be set to True to enable shape2D extraction\n",
      "GLCM is symmetrical, therefore Sum Average = 2 * Joint Average, only 1 needs to be calculated\n"
     ]
    },
    {
     "name": "stdout",
     "output_type": "stream",
     "text": [
      "  > Success! Extracted 144 features.\n",
      "Processing patient: LUNG1-110...\n"
     ]
    },
    {
     "name": "stderr",
     "output_type": "stream",
     "text": [
      "parameter force2D must be set to True to enable shape2D extraction\n",
      "GLCM is symmetrical, therefore Sum Average = 2 * Joint Average, only 1 needs to be calculated\n"
     ]
    },
    {
     "name": "stdout",
     "output_type": "stream",
     "text": [
      "  > Success! Extracted 144 features.\n",
      "Processing patient: LUNG1-111...\n"
     ]
    },
    {
     "name": "stderr",
     "output_type": "stream",
     "text": [
      "parameter force2D must be set to True to enable shape2D extraction\n",
      "GLCM is symmetrical, therefore Sum Average = 2 * Joint Average, only 1 needs to be calculated\n"
     ]
    },
    {
     "name": "stdout",
     "output_type": "stream",
     "text": [
      "  > Success! Extracted 144 features.\n",
      "Processing patient: LUNG1-112...\n"
     ]
    },
    {
     "name": "stderr",
     "output_type": "stream",
     "text": [
      "parameter force2D must be set to True to enable shape2D extraction\n",
      "GLCM is symmetrical, therefore Sum Average = 2 * Joint Average, only 1 needs to be calculated\n"
     ]
    },
    {
     "name": "stdout",
     "output_type": "stream",
     "text": [
      "  > Success! Extracted 144 features.\n",
      "Processing patient: LUNG1-113...\n"
     ]
    },
    {
     "name": "stderr",
     "output_type": "stream",
     "text": [
      "parameter force2D must be set to True to enable shape2D extraction\n",
      "GLCM is symmetrical, therefore Sum Average = 2 * Joint Average, only 1 needs to be calculated\n"
     ]
    },
    {
     "name": "stdout",
     "output_type": "stream",
     "text": [
      "  > Success! Extracted 144 features.\n",
      "Processing patient: LUNG1-114...\n"
     ]
    },
    {
     "name": "stderr",
     "output_type": "stream",
     "text": [
      "parameter force2D must be set to True to enable shape2D extraction\n",
      "GLCM is symmetrical, therefore Sum Average = 2 * Joint Average, only 1 needs to be calculated\n"
     ]
    },
    {
     "name": "stdout",
     "output_type": "stream",
     "text": [
      "  > Success! Extracted 144 features.\n",
      "Processing patient: LUNG1-115...\n"
     ]
    },
    {
     "name": "stderr",
     "output_type": "stream",
     "text": [
      "parameter force2D must be set to True to enable shape2D extraction\n",
      "GLCM is symmetrical, therefore Sum Average = 2 * Joint Average, only 1 needs to be calculated\n"
     ]
    },
    {
     "name": "stdout",
     "output_type": "stream",
     "text": [
      "  > Success! Extracted 144 features.\n",
      "Processing patient: LUNG1-116...\n"
     ]
    },
    {
     "name": "stderr",
     "output_type": "stream",
     "text": [
      "parameter force2D must be set to True to enable shape2D extraction\n",
      "GLCM is symmetrical, therefore Sum Average = 2 * Joint Average, only 1 needs to be calculated\n"
     ]
    },
    {
     "name": "stdout",
     "output_type": "stream",
     "text": [
      "  > Success! Extracted 144 features.\n",
      "Processing patient: LUNG1-117...\n"
     ]
    },
    {
     "name": "stderr",
     "output_type": "stream",
     "text": [
      "parameter force2D must be set to True to enable shape2D extraction\n",
      "GLCM is symmetrical, therefore Sum Average = 2 * Joint Average, only 1 needs to be calculated\n"
     ]
    },
    {
     "name": "stdout",
     "output_type": "stream",
     "text": [
      "  > Success! Extracted 144 features.\n",
      "Processing patient: LUNG1-118...\n"
     ]
    },
    {
     "name": "stderr",
     "output_type": "stream",
     "text": [
      "parameter force2D must be set to True to enable shape2D extraction\n",
      "GLCM is symmetrical, therefore Sum Average = 2 * Joint Average, only 1 needs to be calculated\n"
     ]
    },
    {
     "name": "stdout",
     "output_type": "stream",
     "text": [
      "  > Success! Extracted 144 features.\n",
      "Processing patient: LUNG1-119...\n"
     ]
    },
    {
     "name": "stderr",
     "output_type": "stream",
     "text": [
      "parameter force2D must be set to True to enable shape2D extraction\n",
      "GLCM is symmetrical, therefore Sum Average = 2 * Joint Average, only 1 needs to be calculated\n"
     ]
    },
    {
     "name": "stdout",
     "output_type": "stream",
     "text": [
      "  > Success! Extracted 144 features.\n",
      "Processing patient: LUNG1-120...\n"
     ]
    },
    {
     "name": "stderr",
     "output_type": "stream",
     "text": [
      "parameter force2D must be set to True to enable shape2D extraction\n",
      "GLCM is symmetrical, therefore Sum Average = 2 * Joint Average, only 1 needs to be calculated\n"
     ]
    },
    {
     "name": "stdout",
     "output_type": "stream",
     "text": [
      "  > Success! Extracted 144 features.\n",
      "Processing patient: LUNG1-121...\n"
     ]
    },
    {
     "name": "stderr",
     "output_type": "stream",
     "text": [
      "parameter force2D must be set to True to enable shape2D extraction\n",
      "GLCM is symmetrical, therefore Sum Average = 2 * Joint Average, only 1 needs to be calculated\n"
     ]
    },
    {
     "name": "stdout",
     "output_type": "stream",
     "text": [
      "  > Success! Extracted 144 features.\n",
      "Processing patient: LUNG1-122...\n"
     ]
    },
    {
     "name": "stderr",
     "output_type": "stream",
     "text": [
      "parameter force2D must be set to True to enable shape2D extraction\n",
      "GLCM is symmetrical, therefore Sum Average = 2 * Joint Average, only 1 needs to be calculated\n"
     ]
    },
    {
     "name": "stdout",
     "output_type": "stream",
     "text": [
      "  > Success! Extracted 144 features.\n",
      "Processing patient: LUNG1-123...\n"
     ]
    },
    {
     "name": "stderr",
     "output_type": "stream",
     "text": [
      "parameter force2D must be set to True to enable shape2D extraction\n",
      "GLCM is symmetrical, therefore Sum Average = 2 * Joint Average, only 1 needs to be calculated\n"
     ]
    },
    {
     "name": "stdout",
     "output_type": "stream",
     "text": [
      "  > Success! Extracted 144 features.\n",
      "Processing patient: LUNG1-124...\n"
     ]
    },
    {
     "name": "stderr",
     "output_type": "stream",
     "text": [
      "parameter force2D must be set to True to enable shape2D extraction\n",
      "GLCM is symmetrical, therefore Sum Average = 2 * Joint Average, only 1 needs to be calculated\n"
     ]
    },
    {
     "name": "stdout",
     "output_type": "stream",
     "text": [
      "  > Success! Extracted 144 features.\n",
      "Processing patient: LUNG1-125...\n"
     ]
    },
    {
     "name": "stderr",
     "output_type": "stream",
     "text": [
      "parameter force2D must be set to True to enable shape2D extraction\n",
      "GLCM is symmetrical, therefore Sum Average = 2 * Joint Average, only 1 needs to be calculated\n"
     ]
    },
    {
     "name": "stdout",
     "output_type": "stream",
     "text": [
      "  > Success! Extracted 144 features.\n",
      "Processing patient: LUNG1-126...\n"
     ]
    },
    {
     "name": "stderr",
     "output_type": "stream",
     "text": [
      "parameter force2D must be set to True to enable shape2D extraction\n",
      "GLCM is symmetrical, therefore Sum Average = 2 * Joint Average, only 1 needs to be calculated\n"
     ]
    },
    {
     "name": "stdout",
     "output_type": "stream",
     "text": [
      "  > Success! Extracted 144 features.\n",
      "Processing patient: LUNG1-127...\n"
     ]
    },
    {
     "name": "stderr",
     "output_type": "stream",
     "text": [
      "parameter force2D must be set to True to enable shape2D extraction\n",
      "GLCM is symmetrical, therefore Sum Average = 2 * Joint Average, only 1 needs to be calculated\n"
     ]
    },
    {
     "name": "stdout",
     "output_type": "stream",
     "text": [
      "  > Success! Extracted 144 features.\n",
      "Processing patient: LUNG1-128...\n",
      "  > FAILED for patient LUNG1-128. Could not find image or mask path.\n",
      "Processing patient: LUNG1-129...\n"
     ]
    },
    {
     "name": "stderr",
     "output_type": "stream",
     "text": [
      "parameter force2D must be set to True to enable shape2D extraction\n",
      "GLCM is symmetrical, therefore Sum Average = 2 * Joint Average, only 1 needs to be calculated\n"
     ]
    },
    {
     "name": "stdout",
     "output_type": "stream",
     "text": [
      "  > Success! Extracted 144 features.\n",
      "Processing patient: LUNG1-130...\n"
     ]
    },
    {
     "name": "stderr",
     "output_type": "stream",
     "text": [
      "parameter force2D must be set to True to enable shape2D extraction\n",
      "GLCM is symmetrical, therefore Sum Average = 2 * Joint Average, only 1 needs to be calculated\n"
     ]
    },
    {
     "name": "stdout",
     "output_type": "stream",
     "text": [
      "  > Success! Extracted 144 features.\n",
      "Processing patient: LUNG1-131...\n"
     ]
    },
    {
     "name": "stderr",
     "output_type": "stream",
     "text": [
      "parameter force2D must be set to True to enable shape2D extraction\n",
      "GLCM is symmetrical, therefore Sum Average = 2 * Joint Average, only 1 needs to be calculated\n"
     ]
    },
    {
     "name": "stdout",
     "output_type": "stream",
     "text": [
      "  > Success! Extracted 144 features.\n",
      "Processing patient: LUNG1-132...\n"
     ]
    },
    {
     "name": "stderr",
     "output_type": "stream",
     "text": [
      "parameter force2D must be set to True to enable shape2D extraction\n",
      "GLCM is symmetrical, therefore Sum Average = 2 * Joint Average, only 1 needs to be calculated\n"
     ]
    },
    {
     "name": "stdout",
     "output_type": "stream",
     "text": [
      "  > Success! Extracted 144 features.\n",
      "Processing patient: LUNG1-133...\n"
     ]
    },
    {
     "name": "stderr",
     "output_type": "stream",
     "text": [
      "parameter force2D must be set to True to enable shape2D extraction\n",
      "GLCM is symmetrical, therefore Sum Average = 2 * Joint Average, only 1 needs to be calculated\n"
     ]
    },
    {
     "name": "stdout",
     "output_type": "stream",
     "text": [
      "  > Success! Extracted 144 features.\n",
      "Processing patient: LUNG1-134...\n"
     ]
    },
    {
     "name": "stderr",
     "output_type": "stream",
     "text": [
      "parameter force2D must be set to True to enable shape2D extraction\n",
      "GLCM is symmetrical, therefore Sum Average = 2 * Joint Average, only 1 needs to be calculated\n"
     ]
    },
    {
     "name": "stdout",
     "output_type": "stream",
     "text": [
      "  > Success! Extracted 144 features.\n",
      "Processing patient: LUNG1-135...\n"
     ]
    },
    {
     "name": "stderr",
     "output_type": "stream",
     "text": [
      "parameter force2D must be set to True to enable shape2D extraction\n",
      "GLCM is symmetrical, therefore Sum Average = 2 * Joint Average, only 1 needs to be calculated\n"
     ]
    },
    {
     "name": "stdout",
     "output_type": "stream",
     "text": [
      "  > Success! Extracted 144 features.\n",
      "Processing patient: LUNG1-136...\n"
     ]
    },
    {
     "name": "stderr",
     "output_type": "stream",
     "text": [
      "parameter force2D must be set to True to enable shape2D extraction\n",
      "GLCM is symmetrical, therefore Sum Average = 2 * Joint Average, only 1 needs to be calculated\n"
     ]
    },
    {
     "name": "stdout",
     "output_type": "stream",
     "text": [
      "  > Success! Extracted 144 features.\n",
      "Processing patient: LUNG1-137...\n"
     ]
    },
    {
     "name": "stderr",
     "output_type": "stream",
     "text": [
      "parameter force2D must be set to True to enable shape2D extraction\n",
      "GLCM is symmetrical, therefore Sum Average = 2 * Joint Average, only 1 needs to be calculated\n"
     ]
    },
    {
     "name": "stdout",
     "output_type": "stream",
     "text": [
      "  > Success! Extracted 144 features.\n",
      "Processing patient: LUNG1-138...\n"
     ]
    },
    {
     "name": "stderr",
     "output_type": "stream",
     "text": [
      "parameter force2D must be set to True to enable shape2D extraction\n",
      "GLCM is symmetrical, therefore Sum Average = 2 * Joint Average, only 1 needs to be calculated\n"
     ]
    },
    {
     "name": "stdout",
     "output_type": "stream",
     "text": [
      "  > Success! Extracted 144 features.\n",
      "Processing patient: LUNG1-139...\n"
     ]
    },
    {
     "name": "stderr",
     "output_type": "stream",
     "text": [
      "parameter force2D must be set to True to enable shape2D extraction\n",
      "GLCM is symmetrical, therefore Sum Average = 2 * Joint Average, only 1 needs to be calculated\n"
     ]
    },
    {
     "name": "stdout",
     "output_type": "stream",
     "text": [
      "  > Success! Extracted 144 features.\n",
      "Processing patient: LUNG1-140...\n"
     ]
    },
    {
     "name": "stderr",
     "output_type": "stream",
     "text": [
      "parameter force2D must be set to True to enable shape2D extraction\n",
      "GLCM is symmetrical, therefore Sum Average = 2 * Joint Average, only 1 needs to be calculated\n"
     ]
    },
    {
     "name": "stdout",
     "output_type": "stream",
     "text": [
      "  > Success! Extracted 144 features.\n",
      "Processing patient: LUNG1-141...\n"
     ]
    },
    {
     "name": "stderr",
     "output_type": "stream",
     "text": [
      "parameter force2D must be set to True to enable shape2D extraction\n",
      "GLCM is symmetrical, therefore Sum Average = 2 * Joint Average, only 1 needs to be calculated\n"
     ]
    },
    {
     "name": "stdout",
     "output_type": "stream",
     "text": [
      "  > Success! Extracted 144 features.\n",
      "Processing patient: LUNG1-142...\n"
     ]
    },
    {
     "name": "stderr",
     "output_type": "stream",
     "text": [
      "parameter force2D must be set to True to enable shape2D extraction\n",
      "GLCM is symmetrical, therefore Sum Average = 2 * Joint Average, only 1 needs to be calculated\n"
     ]
    },
    {
     "name": "stdout",
     "output_type": "stream",
     "text": [
      "  > Success! Extracted 144 features.\n",
      "Processing patient: LUNG1-143...\n"
     ]
    },
    {
     "name": "stderr",
     "output_type": "stream",
     "text": [
      "parameter force2D must be set to True to enable shape2D extraction\n",
      "GLCM is symmetrical, therefore Sum Average = 2 * Joint Average, only 1 needs to be calculated\n"
     ]
    },
    {
     "name": "stdout",
     "output_type": "stream",
     "text": [
      "  > Success! Extracted 144 features.\n",
      "Processing patient: LUNG1-144...\n"
     ]
    },
    {
     "name": "stderr",
     "output_type": "stream",
     "text": [
      "parameter force2D must be set to True to enable shape2D extraction\n",
      "GLCM is symmetrical, therefore Sum Average = 2 * Joint Average, only 1 needs to be calculated\n"
     ]
    },
    {
     "name": "stdout",
     "output_type": "stream",
     "text": [
      "  > Success! Extracted 144 features.\n",
      "Processing patient: LUNG1-145...\n"
     ]
    },
    {
     "name": "stderr",
     "output_type": "stream",
     "text": [
      "parameter force2D must be set to True to enable shape2D extraction\n",
      "GLCM is symmetrical, therefore Sum Average = 2 * Joint Average, only 1 needs to be calculated\n"
     ]
    },
    {
     "name": "stdout",
     "output_type": "stream",
     "text": [
      "  > Success! Extracted 144 features.\n",
      "Processing patient: LUNG1-146...\n"
     ]
    },
    {
     "name": "stderr",
     "output_type": "stream",
     "text": [
      "parameter force2D must be set to True to enable shape2D extraction\n",
      "GLCM is symmetrical, therefore Sum Average = 2 * Joint Average, only 1 needs to be calculated\n"
     ]
    },
    {
     "name": "stdout",
     "output_type": "stream",
     "text": [
      "  > Success! Extracted 144 features.\n",
      "Processing patient: LUNG1-147...\n"
     ]
    },
    {
     "name": "stderr",
     "output_type": "stream",
     "text": [
      "parameter force2D must be set to True to enable shape2D extraction\n",
      "GLCM is symmetrical, therefore Sum Average = 2 * Joint Average, only 1 needs to be calculated\n"
     ]
    },
    {
     "name": "stdout",
     "output_type": "stream",
     "text": [
      "  > Success! Extracted 144 features.\n",
      "Processing patient: LUNG1-148...\n"
     ]
    },
    {
     "name": "stderr",
     "output_type": "stream",
     "text": [
      "parameter force2D must be set to True to enable shape2D extraction\n",
      "GLCM is symmetrical, therefore Sum Average = 2 * Joint Average, only 1 needs to be calculated\n"
     ]
    },
    {
     "name": "stdout",
     "output_type": "stream",
     "text": [
      "  > Success! Extracted 144 features.\n",
      "Processing patient: LUNG1-149...\n"
     ]
    },
    {
     "name": "stderr",
     "output_type": "stream",
     "text": [
      "parameter force2D must be set to True to enable shape2D extraction\n",
      "GLCM is symmetrical, therefore Sum Average = 2 * Joint Average, only 1 needs to be calculated\n"
     ]
    },
    {
     "name": "stdout",
     "output_type": "stream",
     "text": [
      "  > Success! Extracted 144 features.\n",
      "Processing patient: LUNG1-150...\n"
     ]
    },
    {
     "name": "stderr",
     "output_type": "stream",
     "text": [
      "parameter force2D must be set to True to enable shape2D extraction\n",
      "GLCM is symmetrical, therefore Sum Average = 2 * Joint Average, only 1 needs to be calculated\n"
     ]
    },
    {
     "name": "stdout",
     "output_type": "stream",
     "text": [
      "  > Success! Extracted 144 features.\n",
      "Processing patient: LUNG1-151...\n"
     ]
    },
    {
     "name": "stderr",
     "output_type": "stream",
     "text": [
      "parameter force2D must be set to True to enable shape2D extraction\n",
      "GLCM is symmetrical, therefore Sum Average = 2 * Joint Average, only 1 needs to be calculated\n"
     ]
    },
    {
     "name": "stdout",
     "output_type": "stream",
     "text": [
      "  > Success! Extracted 144 features.\n",
      "Processing patient: LUNG1-152...\n"
     ]
    },
    {
     "name": "stderr",
     "output_type": "stream",
     "text": [
      "parameter force2D must be set to True to enable shape2D extraction\n",
      "GLCM is symmetrical, therefore Sum Average = 2 * Joint Average, only 1 needs to be calculated\n"
     ]
    },
    {
     "name": "stdout",
     "output_type": "stream",
     "text": [
      "  > Success! Extracted 144 features.\n",
      "Processing patient: LUNG1-153...\n"
     ]
    },
    {
     "name": "stderr",
     "output_type": "stream",
     "text": [
      "parameter force2D must be set to True to enable shape2D extraction\n",
      "GLCM is symmetrical, therefore Sum Average = 2 * Joint Average, only 1 needs to be calculated\n"
     ]
    },
    {
     "name": "stdout",
     "output_type": "stream",
     "text": [
      "  > Success! Extracted 144 features.\n",
      "Processing patient: LUNG1-154...\n"
     ]
    },
    {
     "name": "stderr",
     "output_type": "stream",
     "text": [
      "parameter force2D must be set to True to enable shape2D extraction\n",
      "GLCM is symmetrical, therefore Sum Average = 2 * Joint Average, only 1 needs to be calculated\n"
     ]
    },
    {
     "name": "stdout",
     "output_type": "stream",
     "text": [
      "  > Success! Extracted 144 features.\n",
      "Processing patient: LUNG1-155...\n"
     ]
    },
    {
     "name": "stderr",
     "output_type": "stream",
     "text": [
      "parameter force2D must be set to True to enable shape2D extraction\n",
      "GLCM is symmetrical, therefore Sum Average = 2 * Joint Average, only 1 needs to be calculated\n"
     ]
    },
    {
     "name": "stdout",
     "output_type": "stream",
     "text": [
      "  > Success! Extracted 144 features.\n",
      "Processing patient: LUNG1-156...\n"
     ]
    },
    {
     "name": "stderr",
     "output_type": "stream",
     "text": [
      "parameter force2D must be set to True to enable shape2D extraction\n",
      "GLCM is symmetrical, therefore Sum Average = 2 * Joint Average, only 1 needs to be calculated\n"
     ]
    },
    {
     "name": "stdout",
     "output_type": "stream",
     "text": [
      "  > Success! Extracted 144 features.\n",
      "Processing patient: LUNG1-157...\n"
     ]
    },
    {
     "name": "stderr",
     "output_type": "stream",
     "text": [
      "parameter force2D must be set to True to enable shape2D extraction\n",
      "GLCM is symmetrical, therefore Sum Average = 2 * Joint Average, only 1 needs to be calculated\n"
     ]
    },
    {
     "name": "stdout",
     "output_type": "stream",
     "text": [
      "  > Success! Extracted 144 features.\n",
      "Processing patient: LUNG1-158...\n"
     ]
    },
    {
     "name": "stderr",
     "output_type": "stream",
     "text": [
      "parameter force2D must be set to True to enable shape2D extraction\n",
      "GLCM is symmetrical, therefore Sum Average = 2 * Joint Average, only 1 needs to be calculated\n"
     ]
    },
    {
     "name": "stdout",
     "output_type": "stream",
     "text": [
      "  > Success! Extracted 144 features.\n",
      "Processing patient: LUNG1-159...\n"
     ]
    },
    {
     "name": "stderr",
     "output_type": "stream",
     "text": [
      "parameter force2D must be set to True to enable shape2D extraction\n",
      "GLCM is symmetrical, therefore Sum Average = 2 * Joint Average, only 1 needs to be calculated\n"
     ]
    },
    {
     "name": "stdout",
     "output_type": "stream",
     "text": [
      "  > Success! Extracted 144 features.\n",
      "Processing patient: LUNG1-160...\n"
     ]
    },
    {
     "name": "stderr",
     "output_type": "stream",
     "text": [
      "parameter force2D must be set to True to enable shape2D extraction\n",
      "GLCM is symmetrical, therefore Sum Average = 2 * Joint Average, only 1 needs to be calculated\n"
     ]
    },
    {
     "name": "stdout",
     "output_type": "stream",
     "text": [
      "  > Success! Extracted 144 features.\n",
      "Processing patient: LUNG1-161...\n"
     ]
    },
    {
     "name": "stderr",
     "output_type": "stream",
     "text": [
      "parameter force2D must be set to True to enable shape2D extraction\n",
      "GLCM is symmetrical, therefore Sum Average = 2 * Joint Average, only 1 needs to be calculated\n"
     ]
    },
    {
     "name": "stdout",
     "output_type": "stream",
     "text": [
      "  > Success! Extracted 144 features.\n",
      "Processing patient: LUNG1-162...\n"
     ]
    },
    {
     "name": "stderr",
     "output_type": "stream",
     "text": [
      "parameter force2D must be set to True to enable shape2D extraction\n",
      "GLCM is symmetrical, therefore Sum Average = 2 * Joint Average, only 1 needs to be calculated\n"
     ]
    },
    {
     "name": "stdout",
     "output_type": "stream",
     "text": [
      "  > Success! Extracted 144 features.\n",
      "Processing patient: LUNG1-163...\n"
     ]
    },
    {
     "name": "stderr",
     "output_type": "stream",
     "text": [
      "parameter force2D must be set to True to enable shape2D extraction\n",
      "GLCM is symmetrical, therefore Sum Average = 2 * Joint Average, only 1 needs to be calculated\n"
     ]
    },
    {
     "name": "stdout",
     "output_type": "stream",
     "text": [
      "  > Success! Extracted 144 features.\n",
      "Processing patient: LUNG1-164...\n"
     ]
    },
    {
     "name": "stderr",
     "output_type": "stream",
     "text": [
      "parameter force2D must be set to True to enable shape2D extraction\n",
      "GLCM is symmetrical, therefore Sum Average = 2 * Joint Average, only 1 needs to be calculated\n"
     ]
    },
    {
     "name": "stdout",
     "output_type": "stream",
     "text": [
      "  > Success! Extracted 144 features.\n",
      "Processing patient: LUNG1-165...\n"
     ]
    },
    {
     "name": "stderr",
     "output_type": "stream",
     "text": [
      "parameter force2D must be set to True to enable shape2D extraction\n",
      "GLCM is symmetrical, therefore Sum Average = 2 * Joint Average, only 1 needs to be calculated\n"
     ]
    },
    {
     "name": "stdout",
     "output_type": "stream",
     "text": [
      "  > Success! Extracted 144 features.\n",
      "Processing patient: LUNG1-166...\n"
     ]
    },
    {
     "name": "stderr",
     "output_type": "stream",
     "text": [
      "parameter force2D must be set to True to enable shape2D extraction\n",
      "GLCM is symmetrical, therefore Sum Average = 2 * Joint Average, only 1 needs to be calculated\n"
     ]
    },
    {
     "name": "stdout",
     "output_type": "stream",
     "text": [
      "  > Success! Extracted 144 features.\n",
      "Processing patient: LUNG1-167...\n"
     ]
    },
    {
     "name": "stderr",
     "output_type": "stream",
     "text": [
      "parameter force2D must be set to True to enable shape2D extraction\n",
      "GLCM is symmetrical, therefore Sum Average = 2 * Joint Average, only 1 needs to be calculated\n"
     ]
    },
    {
     "name": "stdout",
     "output_type": "stream",
     "text": [
      "  > Success! Extracted 144 features.\n",
      "Processing patient: LUNG1-168...\n"
     ]
    },
    {
     "name": "stderr",
     "output_type": "stream",
     "text": [
      "parameter force2D must be set to True to enable shape2D extraction\n",
      "GLCM is symmetrical, therefore Sum Average = 2 * Joint Average, only 1 needs to be calculated\n"
     ]
    },
    {
     "name": "stdout",
     "output_type": "stream",
     "text": [
      "  > Success! Extracted 144 features.\n",
      "Processing patient: LUNG1-169...\n"
     ]
    },
    {
     "name": "stderr",
     "output_type": "stream",
     "text": [
      "parameter force2D must be set to True to enable shape2D extraction\n",
      "GLCM is symmetrical, therefore Sum Average = 2 * Joint Average, only 1 needs to be calculated\n"
     ]
    },
    {
     "name": "stdout",
     "output_type": "stream",
     "text": [
      "  > Success! Extracted 144 features.\n",
      "Processing patient: LUNG1-170...\n"
     ]
    },
    {
     "name": "stderr",
     "output_type": "stream",
     "text": [
      "parameter force2D must be set to True to enable shape2D extraction\n",
      "GLCM is symmetrical, therefore Sum Average = 2 * Joint Average, only 1 needs to be calculated\n"
     ]
    },
    {
     "name": "stdout",
     "output_type": "stream",
     "text": [
      "  > Success! Extracted 144 features.\n",
      "Processing patient: LUNG1-171...\n"
     ]
    },
    {
     "name": "stderr",
     "output_type": "stream",
     "text": [
      "parameter force2D must be set to True to enable shape2D extraction\n",
      "GLCM is symmetrical, therefore Sum Average = 2 * Joint Average, only 1 needs to be calculated\n"
     ]
    },
    {
     "name": "stdout",
     "output_type": "stream",
     "text": [
      "  > Success! Extracted 144 features.\n",
      "Processing patient: LUNG1-172...\n"
     ]
    },
    {
     "name": "stderr",
     "output_type": "stream",
     "text": [
      "parameter force2D must be set to True to enable shape2D extraction\n",
      "GLCM is symmetrical, therefore Sum Average = 2 * Joint Average, only 1 needs to be calculated\n"
     ]
    },
    {
     "name": "stdout",
     "output_type": "stream",
     "text": [
      "  > Success! Extracted 144 features.\n",
      "Processing patient: LUNG1-173...\n"
     ]
    },
    {
     "name": "stderr",
     "output_type": "stream",
     "text": [
      "parameter force2D must be set to True to enable shape2D extraction\n",
      "GLCM is symmetrical, therefore Sum Average = 2 * Joint Average, only 1 needs to be calculated\n"
     ]
    },
    {
     "name": "stdout",
     "output_type": "stream",
     "text": [
      "  > Success! Extracted 144 features.\n",
      "Processing patient: LUNG1-174...\n"
     ]
    },
    {
     "name": "stderr",
     "output_type": "stream",
     "text": [
      "parameter force2D must be set to True to enable shape2D extraction\n",
      "GLCM is symmetrical, therefore Sum Average = 2 * Joint Average, only 1 needs to be calculated\n"
     ]
    },
    {
     "name": "stdout",
     "output_type": "stream",
     "text": [
      "  > Success! Extracted 144 features.\n",
      "Processing patient: LUNG1-175...\n"
     ]
    },
    {
     "name": "stderr",
     "output_type": "stream",
     "text": [
      "parameter force2D must be set to True to enable shape2D extraction\n",
      "GLCM is symmetrical, therefore Sum Average = 2 * Joint Average, only 1 needs to be calculated\n"
     ]
    },
    {
     "name": "stdout",
     "output_type": "stream",
     "text": [
      "  > Success! Extracted 144 features.\n",
      "Processing patient: LUNG1-176...\n"
     ]
    },
    {
     "name": "stderr",
     "output_type": "stream",
     "text": [
      "parameter force2D must be set to True to enable shape2D extraction\n",
      "GLCM is symmetrical, therefore Sum Average = 2 * Joint Average, only 1 needs to be calculated\n"
     ]
    },
    {
     "name": "stdout",
     "output_type": "stream",
     "text": [
      "  > Success! Extracted 144 features.\n",
      "Processing patient: LUNG1-177...\n"
     ]
    },
    {
     "name": "stderr",
     "output_type": "stream",
     "text": [
      "parameter force2D must be set to True to enable shape2D extraction\n",
      "GLCM is symmetrical, therefore Sum Average = 2 * Joint Average, only 1 needs to be calculated\n"
     ]
    },
    {
     "name": "stdout",
     "output_type": "stream",
     "text": [
      "  > Success! Extracted 144 features.\n",
      "Processing patient: LUNG1-178...\n"
     ]
    },
    {
     "name": "stderr",
     "output_type": "stream",
     "text": [
      "parameter force2D must be set to True to enable shape2D extraction\n",
      "GLCM is symmetrical, therefore Sum Average = 2 * Joint Average, only 1 needs to be calculated\n"
     ]
    },
    {
     "name": "stdout",
     "output_type": "stream",
     "text": [
      "  > Success! Extracted 144 features.\n",
      "Processing patient: LUNG1-179...\n"
     ]
    },
    {
     "name": "stderr",
     "output_type": "stream",
     "text": [
      "parameter force2D must be set to True to enable shape2D extraction\n",
      "GLCM is symmetrical, therefore Sum Average = 2 * Joint Average, only 1 needs to be calculated\n"
     ]
    },
    {
     "name": "stdout",
     "output_type": "stream",
     "text": [
      "  > Success! Extracted 144 features.\n",
      "Processing patient: LUNG1-180...\n"
     ]
    },
    {
     "name": "stderr",
     "output_type": "stream",
     "text": [
      "parameter force2D must be set to True to enable shape2D extraction\n",
      "GLCM is symmetrical, therefore Sum Average = 2 * Joint Average, only 1 needs to be calculated\n"
     ]
    },
    {
     "name": "stdout",
     "output_type": "stream",
     "text": [
      "  > Success! Extracted 144 features.\n",
      "Processing patient: LUNG1-181...\n"
     ]
    },
    {
     "name": "stderr",
     "output_type": "stream",
     "text": [
      "parameter force2D must be set to True to enable shape2D extraction\n",
      "GLCM is symmetrical, therefore Sum Average = 2 * Joint Average, only 1 needs to be calculated\n"
     ]
    },
    {
     "name": "stdout",
     "output_type": "stream",
     "text": [
      "  > Success! Extracted 144 features.\n",
      "Processing patient: LUNG1-182...\n"
     ]
    },
    {
     "name": "stderr",
     "output_type": "stream",
     "text": [
      "parameter force2D must be set to True to enable shape2D extraction\n",
      "GLCM is symmetrical, therefore Sum Average = 2 * Joint Average, only 1 needs to be calculated\n"
     ]
    },
    {
     "name": "stdout",
     "output_type": "stream",
     "text": [
      "  > Success! Extracted 144 features.\n",
      "Processing patient: LUNG1-183...\n"
     ]
    },
    {
     "name": "stderr",
     "output_type": "stream",
     "text": [
      "parameter force2D must be set to True to enable shape2D extraction\n",
      "GLCM is symmetrical, therefore Sum Average = 2 * Joint Average, only 1 needs to be calculated\n"
     ]
    },
    {
     "name": "stdout",
     "output_type": "stream",
     "text": [
      "  > Success! Extracted 144 features.\n",
      "Processing patient: LUNG1-184...\n"
     ]
    },
    {
     "name": "stderr",
     "output_type": "stream",
     "text": [
      "parameter force2D must be set to True to enable shape2D extraction\n",
      "GLCM is symmetrical, therefore Sum Average = 2 * Joint Average, only 1 needs to be calculated\n"
     ]
    },
    {
     "name": "stdout",
     "output_type": "stream",
     "text": [
      "  > Success! Extracted 144 features.\n",
      "Processing patient: LUNG1-185...\n"
     ]
    },
    {
     "name": "stderr",
     "output_type": "stream",
     "text": [
      "parameter force2D must be set to True to enable shape2D extraction\n",
      "GLCM is symmetrical, therefore Sum Average = 2 * Joint Average, only 1 needs to be calculated\n"
     ]
    },
    {
     "name": "stdout",
     "output_type": "stream",
     "text": [
      "  > Success! Extracted 144 features.\n",
      "Processing patient: LUNG1-186...\n"
     ]
    },
    {
     "name": "stderr",
     "output_type": "stream",
     "text": [
      "parameter force2D must be set to True to enable shape2D extraction\n",
      "GLCM is symmetrical, therefore Sum Average = 2 * Joint Average, only 1 needs to be calculated\n"
     ]
    },
    {
     "name": "stdout",
     "output_type": "stream",
     "text": [
      "  > Success! Extracted 144 features.\n",
      "Processing patient: LUNG1-187...\n"
     ]
    },
    {
     "name": "stderr",
     "output_type": "stream",
     "text": [
      "parameter force2D must be set to True to enable shape2D extraction\n",
      "GLCM is symmetrical, therefore Sum Average = 2 * Joint Average, only 1 needs to be calculated\n"
     ]
    },
    {
     "name": "stdout",
     "output_type": "stream",
     "text": [
      "  > Success! Extracted 144 features.\n",
      "Processing patient: LUNG1-188...\n"
     ]
    },
    {
     "name": "stderr",
     "output_type": "stream",
     "text": [
      "parameter force2D must be set to True to enable shape2D extraction\n",
      "GLCM is symmetrical, therefore Sum Average = 2 * Joint Average, only 1 needs to be calculated\n"
     ]
    },
    {
     "name": "stdout",
     "output_type": "stream",
     "text": [
      "  > Success! Extracted 144 features.\n",
      "Processing patient: LUNG1-189...\n"
     ]
    },
    {
     "name": "stderr",
     "output_type": "stream",
     "text": [
      "parameter force2D must be set to True to enable shape2D extraction\n",
      "GLCM is symmetrical, therefore Sum Average = 2 * Joint Average, only 1 needs to be calculated\n"
     ]
    },
    {
     "name": "stdout",
     "output_type": "stream",
     "text": [
      "  > Success! Extracted 144 features.\n",
      "Processing patient: LUNG1-190...\n"
     ]
    },
    {
     "name": "stderr",
     "output_type": "stream",
     "text": [
      "parameter force2D must be set to True to enable shape2D extraction\n",
      "GLCM is symmetrical, therefore Sum Average = 2 * Joint Average, only 1 needs to be calculated\n"
     ]
    },
    {
     "name": "stdout",
     "output_type": "stream",
     "text": [
      "  > Success! Extracted 144 features.\n",
      "Processing patient: LUNG1-191...\n"
     ]
    },
    {
     "name": "stderr",
     "output_type": "stream",
     "text": [
      "parameter force2D must be set to True to enable shape2D extraction\n",
      "GLCM is symmetrical, therefore Sum Average = 2 * Joint Average, only 1 needs to be calculated\n"
     ]
    },
    {
     "name": "stdout",
     "output_type": "stream",
     "text": [
      "  > Success! Extracted 144 features.\n",
      "Processing patient: LUNG1-192...\n"
     ]
    },
    {
     "name": "stderr",
     "output_type": "stream",
     "text": [
      "parameter force2D must be set to True to enable shape2D extraction\n",
      "GLCM is symmetrical, therefore Sum Average = 2 * Joint Average, only 1 needs to be calculated\n"
     ]
    },
    {
     "name": "stdout",
     "output_type": "stream",
     "text": [
      "  > Success! Extracted 144 features.\n",
      "Processing patient: LUNG1-193...\n"
     ]
    },
    {
     "name": "stderr",
     "output_type": "stream",
     "text": [
      "parameter force2D must be set to True to enable shape2D extraction\n",
      "GLCM is symmetrical, therefore Sum Average = 2 * Joint Average, only 1 needs to be calculated\n"
     ]
    },
    {
     "name": "stdout",
     "output_type": "stream",
     "text": [
      "  > Success! Extracted 144 features.\n",
      "Processing patient: LUNG1-194...\n"
     ]
    },
    {
     "name": "stderr",
     "output_type": "stream",
     "text": [
      "parameter force2D must be set to True to enable shape2D extraction\n",
      "GLCM is symmetrical, therefore Sum Average = 2 * Joint Average, only 1 needs to be calculated\n"
     ]
    },
    {
     "name": "stdout",
     "output_type": "stream",
     "text": [
      "  > Success! Extracted 144 features.\n",
      "Processing patient: LUNG1-195...\n"
     ]
    },
    {
     "name": "stderr",
     "output_type": "stream",
     "text": [
      "parameter force2D must be set to True to enable shape2D extraction\n",
      "GLCM is symmetrical, therefore Sum Average = 2 * Joint Average, only 1 needs to be calculated\n"
     ]
    },
    {
     "name": "stdout",
     "output_type": "stream",
     "text": [
      "  > Success! Extracted 144 features.\n",
      "Processing patient: LUNG1-196...\n"
     ]
    },
    {
     "name": "stderr",
     "output_type": "stream",
     "text": [
      "parameter force2D must be set to True to enable shape2D extraction\n",
      "GLCM is symmetrical, therefore Sum Average = 2 * Joint Average, only 1 needs to be calculated\n"
     ]
    },
    {
     "name": "stdout",
     "output_type": "stream",
     "text": [
      "  > Success! Extracted 144 features.\n",
      "Processing patient: LUNG1-197...\n"
     ]
    },
    {
     "name": "stderr",
     "output_type": "stream",
     "text": [
      "parameter force2D must be set to True to enable shape2D extraction\n",
      "GLCM is symmetrical, therefore Sum Average = 2 * Joint Average, only 1 needs to be calculated\n"
     ]
    },
    {
     "name": "stdout",
     "output_type": "stream",
     "text": [
      "  > Success! Extracted 144 features.\n",
      "Processing patient: LUNG1-198...\n"
     ]
    },
    {
     "name": "stderr",
     "output_type": "stream",
     "text": [
      "parameter force2D must be set to True to enable shape2D extraction\n",
      "GLCM is symmetrical, therefore Sum Average = 2 * Joint Average, only 1 needs to be calculated\n"
     ]
    },
    {
     "name": "stdout",
     "output_type": "stream",
     "text": [
      "  > Success! Extracted 144 features.\n",
      "Processing patient: LUNG1-199...\n"
     ]
    },
    {
     "name": "stderr",
     "output_type": "stream",
     "text": [
      "parameter force2D must be set to True to enable shape2D extraction\n",
      "GLCM is symmetrical, therefore Sum Average = 2 * Joint Average, only 1 needs to be calculated\n"
     ]
    },
    {
     "name": "stdout",
     "output_type": "stream",
     "text": [
      "  > Success! Extracted 144 features.\n",
      "Processing patient: LUNG1-200...\n"
     ]
    },
    {
     "name": "stderr",
     "output_type": "stream",
     "text": [
      "parameter force2D must be set to True to enable shape2D extraction\n",
      "GLCM is symmetrical, therefore Sum Average = 2 * Joint Average, only 1 needs to be calculated\n"
     ]
    },
    {
     "name": "stdout",
     "output_type": "stream",
     "text": [
      "  > Success! Extracted 144 features.\n",
      "Processing patient: LUNG1-201...\n"
     ]
    },
    {
     "name": "stderr",
     "output_type": "stream",
     "text": [
      "parameter force2D must be set to True to enable shape2D extraction\n",
      "GLCM is symmetrical, therefore Sum Average = 2 * Joint Average, only 1 needs to be calculated\n"
     ]
    },
    {
     "name": "stdout",
     "output_type": "stream",
     "text": [
      "  > Success! Extracted 144 features.\n",
      "Processing patient: LUNG1-202...\n"
     ]
    },
    {
     "name": "stderr",
     "output_type": "stream",
     "text": [
      "parameter force2D must be set to True to enable shape2D extraction\n",
      "GLCM is symmetrical, therefore Sum Average = 2 * Joint Average, only 1 needs to be calculated\n"
     ]
    },
    {
     "name": "stdout",
     "output_type": "stream",
     "text": [
      "  > Success! Extracted 144 features.\n",
      "Processing patient: LUNG1-203...\n"
     ]
    },
    {
     "name": "stderr",
     "output_type": "stream",
     "text": [
      "parameter force2D must be set to True to enable shape2D extraction\n",
      "GLCM is symmetrical, therefore Sum Average = 2 * Joint Average, only 1 needs to be calculated\n"
     ]
    },
    {
     "name": "stdout",
     "output_type": "stream",
     "text": [
      "  > Success! Extracted 144 features.\n",
      "Processing patient: LUNG1-204...\n"
     ]
    },
    {
     "name": "stderr",
     "output_type": "stream",
     "text": [
      "parameter force2D must be set to True to enable shape2D extraction\n",
      "GLCM is symmetrical, therefore Sum Average = 2 * Joint Average, only 1 needs to be calculated\n"
     ]
    },
    {
     "name": "stdout",
     "output_type": "stream",
     "text": [
      "  > Success! Extracted 144 features.\n",
      "Processing patient: LUNG1-205...\n"
     ]
    },
    {
     "name": "stderr",
     "output_type": "stream",
     "text": [
      "parameter force2D must be set to True to enable shape2D extraction\n",
      "GLCM is symmetrical, therefore Sum Average = 2 * Joint Average, only 1 needs to be calculated\n"
     ]
    },
    {
     "name": "stdout",
     "output_type": "stream",
     "text": [
      "  > Success! Extracted 144 features.\n",
      "Processing patient: LUNG1-206...\n"
     ]
    },
    {
     "name": "stderr",
     "output_type": "stream",
     "text": [
      "parameter force2D must be set to True to enable shape2D extraction\n",
      "GLCM is symmetrical, therefore Sum Average = 2 * Joint Average, only 1 needs to be calculated\n"
     ]
    },
    {
     "name": "stdout",
     "output_type": "stream",
     "text": [
      "  > Success! Extracted 144 features.\n",
      "Processing patient: LUNG1-207...\n"
     ]
    },
    {
     "name": "stderr",
     "output_type": "stream",
     "text": [
      "parameter force2D must be set to True to enable shape2D extraction\n",
      "GLCM is symmetrical, therefore Sum Average = 2 * Joint Average, only 1 needs to be calculated\n"
     ]
    },
    {
     "name": "stdout",
     "output_type": "stream",
     "text": [
      "  > Success! Extracted 144 features.\n",
      "Processing patient: LUNG1-208...\n"
     ]
    },
    {
     "name": "stderr",
     "output_type": "stream",
     "text": [
      "parameter force2D must be set to True to enable shape2D extraction\n",
      "GLCM is symmetrical, therefore Sum Average = 2 * Joint Average, only 1 needs to be calculated\n"
     ]
    },
    {
     "name": "stdout",
     "output_type": "stream",
     "text": [
      "  > Success! Extracted 144 features.\n",
      "Processing patient: LUNG1-209...\n"
     ]
    },
    {
     "name": "stderr",
     "output_type": "stream",
     "text": [
      "parameter force2D must be set to True to enable shape2D extraction\n",
      "GLCM is symmetrical, therefore Sum Average = 2 * Joint Average, only 1 needs to be calculated\n"
     ]
    },
    {
     "name": "stdout",
     "output_type": "stream",
     "text": [
      "  > Success! Extracted 144 features.\n",
      "Processing patient: LUNG1-210...\n"
     ]
    },
    {
     "name": "stderr",
     "output_type": "stream",
     "text": [
      "parameter force2D must be set to True to enable shape2D extraction\n",
      "GLCM is symmetrical, therefore Sum Average = 2 * Joint Average, only 1 needs to be calculated\n"
     ]
    },
    {
     "name": "stdout",
     "output_type": "stream",
     "text": [
      "  > Success! Extracted 144 features.\n",
      "Processing patient: LUNG1-211...\n"
     ]
    },
    {
     "name": "stderr",
     "output_type": "stream",
     "text": [
      "parameter force2D must be set to True to enable shape2D extraction\n",
      "GLCM is symmetrical, therefore Sum Average = 2 * Joint Average, only 1 needs to be calculated\n"
     ]
    },
    {
     "name": "stdout",
     "output_type": "stream",
     "text": [
      "  > Success! Extracted 144 features.\n",
      "Processing patient: LUNG1-212...\n"
     ]
    },
    {
     "name": "stderr",
     "output_type": "stream",
     "text": [
      "parameter force2D must be set to True to enable shape2D extraction\n",
      "GLCM is symmetrical, therefore Sum Average = 2 * Joint Average, only 1 needs to be calculated\n"
     ]
    },
    {
     "name": "stdout",
     "output_type": "stream",
     "text": [
      "  > Success! Extracted 144 features.\n",
      "Processing patient: LUNG1-213...\n"
     ]
    },
    {
     "name": "stderr",
     "output_type": "stream",
     "text": [
      "parameter force2D must be set to True to enable shape2D extraction\n",
      "GLCM is symmetrical, therefore Sum Average = 2 * Joint Average, only 1 needs to be calculated\n"
     ]
    },
    {
     "name": "stdout",
     "output_type": "stream",
     "text": [
      "  > Success! Extracted 144 features.\n",
      "Processing patient: LUNG1-214...\n"
     ]
    },
    {
     "name": "stderr",
     "output_type": "stream",
     "text": [
      "parameter force2D must be set to True to enable shape2D extraction\n",
      "GLCM is symmetrical, therefore Sum Average = 2 * Joint Average, only 1 needs to be calculated\n"
     ]
    },
    {
     "name": "stdout",
     "output_type": "stream",
     "text": [
      "  > Success! Extracted 144 features.\n",
      "Processing patient: LUNG1-215...\n"
     ]
    },
    {
     "name": "stderr",
     "output_type": "stream",
     "text": [
      "parameter force2D must be set to True to enable shape2D extraction\n",
      "GLCM is symmetrical, therefore Sum Average = 2 * Joint Average, only 1 needs to be calculated\n"
     ]
    },
    {
     "name": "stdout",
     "output_type": "stream",
     "text": [
      "  > Success! Extracted 144 features.\n",
      "Processing patient: LUNG1-216...\n"
     ]
    },
    {
     "name": "stderr",
     "output_type": "stream",
     "text": [
      "parameter force2D must be set to True to enable shape2D extraction\n",
      "GLCM is symmetrical, therefore Sum Average = 2 * Joint Average, only 1 needs to be calculated\n"
     ]
    },
    {
     "name": "stdout",
     "output_type": "stream",
     "text": [
      "  > Success! Extracted 144 features.\n",
      "Processing patient: LUNG1-217...\n"
     ]
    },
    {
     "name": "stderr",
     "output_type": "stream",
     "text": [
      "parameter force2D must be set to True to enable shape2D extraction\n",
      "GLCM is symmetrical, therefore Sum Average = 2 * Joint Average, only 1 needs to be calculated\n"
     ]
    },
    {
     "name": "stdout",
     "output_type": "stream",
     "text": [
      "  > Success! Extracted 144 features.\n",
      "Processing patient: LUNG1-218...\n"
     ]
    },
    {
     "name": "stderr",
     "output_type": "stream",
     "text": [
      "parameter force2D must be set to True to enable shape2D extraction\n",
      "GLCM is symmetrical, therefore Sum Average = 2 * Joint Average, only 1 needs to be calculated\n"
     ]
    },
    {
     "name": "stdout",
     "output_type": "stream",
     "text": [
      "  > Success! Extracted 144 features.\n",
      "Processing patient: LUNG1-219...\n"
     ]
    },
    {
     "name": "stderr",
     "output_type": "stream",
     "text": [
      "parameter force2D must be set to True to enable shape2D extraction\n",
      "GLCM is symmetrical, therefore Sum Average = 2 * Joint Average, only 1 needs to be calculated\n"
     ]
    },
    {
     "name": "stdout",
     "output_type": "stream",
     "text": [
      "  > Success! Extracted 144 features.\n",
      "Processing patient: LUNG1-220...\n"
     ]
    },
    {
     "name": "stderr",
     "output_type": "stream",
     "text": [
      "parameter force2D must be set to True to enable shape2D extraction\n",
      "GLCM is symmetrical, therefore Sum Average = 2 * Joint Average, only 1 needs to be calculated\n"
     ]
    },
    {
     "name": "stdout",
     "output_type": "stream",
     "text": [
      "  > Success! Extracted 144 features.\n",
      "Processing patient: LUNG1-221...\n"
     ]
    },
    {
     "name": "stderr",
     "output_type": "stream",
     "text": [
      "parameter force2D must be set to True to enable shape2D extraction\n",
      "GLCM is symmetrical, therefore Sum Average = 2 * Joint Average, only 1 needs to be calculated\n"
     ]
    },
    {
     "name": "stdout",
     "output_type": "stream",
     "text": [
      "  > Success! Extracted 144 features.\n",
      "Processing patient: LUNG1-222...\n"
     ]
    },
    {
     "name": "stderr",
     "output_type": "stream",
     "text": [
      "parameter force2D must be set to True to enable shape2D extraction\n",
      "GLCM is symmetrical, therefore Sum Average = 2 * Joint Average, only 1 needs to be calculated\n"
     ]
    },
    {
     "name": "stdout",
     "output_type": "stream",
     "text": [
      "  > Success! Extracted 144 features.\n",
      "Processing patient: LUNG1-223...\n"
     ]
    },
    {
     "name": "stderr",
     "output_type": "stream",
     "text": [
      "parameter force2D must be set to True to enable shape2D extraction\n",
      "GLCM is symmetrical, therefore Sum Average = 2 * Joint Average, only 1 needs to be calculated\n"
     ]
    },
    {
     "name": "stdout",
     "output_type": "stream",
     "text": [
      "  > Success! Extracted 144 features.\n",
      "Processing patient: LUNG1-224...\n"
     ]
    },
    {
     "name": "stderr",
     "output_type": "stream",
     "text": [
      "parameter force2D must be set to True to enable shape2D extraction\n",
      "GLCM is symmetrical, therefore Sum Average = 2 * Joint Average, only 1 needs to be calculated\n"
     ]
    },
    {
     "name": "stdout",
     "output_type": "stream",
     "text": [
      "  > Success! Extracted 144 features.\n",
      "Processing patient: LUNG1-225...\n"
     ]
    },
    {
     "name": "stderr",
     "output_type": "stream",
     "text": [
      "parameter force2D must be set to True to enable shape2D extraction\n",
      "GLCM is symmetrical, therefore Sum Average = 2 * Joint Average, only 1 needs to be calculated\n"
     ]
    },
    {
     "name": "stdout",
     "output_type": "stream",
     "text": [
      "  > Success! Extracted 144 features.\n",
      "Processing patient: LUNG1-226...\n"
     ]
    },
    {
     "name": "stderr",
     "output_type": "stream",
     "text": [
      "parameter force2D must be set to True to enable shape2D extraction\n",
      "GLCM is symmetrical, therefore Sum Average = 2 * Joint Average, only 1 needs to be calculated\n"
     ]
    },
    {
     "name": "stdout",
     "output_type": "stream",
     "text": [
      "  > Success! Extracted 144 features.\n",
      "Processing patient: LUNG1-227...\n"
     ]
    },
    {
     "name": "stderr",
     "output_type": "stream",
     "text": [
      "parameter force2D must be set to True to enable shape2D extraction\n",
      "GLCM is symmetrical, therefore Sum Average = 2 * Joint Average, only 1 needs to be calculated\n"
     ]
    },
    {
     "name": "stdout",
     "output_type": "stream",
     "text": [
      "  > Success! Extracted 144 features.\n",
      "Processing patient: LUNG1-228...\n"
     ]
    },
    {
     "name": "stderr",
     "output_type": "stream",
     "text": [
      "parameter force2D must be set to True to enable shape2D extraction\n",
      "GLCM is symmetrical, therefore Sum Average = 2 * Joint Average, only 1 needs to be calculated\n"
     ]
    },
    {
     "name": "stdout",
     "output_type": "stream",
     "text": [
      "  > Success! Extracted 144 features.\n",
      "Processing patient: LUNG1-229...\n"
     ]
    },
    {
     "name": "stderr",
     "output_type": "stream",
     "text": [
      "parameter force2D must be set to True to enable shape2D extraction\n",
      "GLCM is symmetrical, therefore Sum Average = 2 * Joint Average, only 1 needs to be calculated\n"
     ]
    },
    {
     "name": "stdout",
     "output_type": "stream",
     "text": [
      "  > Success! Extracted 144 features.\n",
      "Processing patient: LUNG1-230...\n"
     ]
    },
    {
     "name": "stderr",
     "output_type": "stream",
     "text": [
      "parameter force2D must be set to True to enable shape2D extraction\n",
      "GLCM is symmetrical, therefore Sum Average = 2 * Joint Average, only 1 needs to be calculated\n"
     ]
    },
    {
     "name": "stdout",
     "output_type": "stream",
     "text": [
      "  > Success! Extracted 144 features.\n",
      "Processing patient: LUNG1-231...\n"
     ]
    },
    {
     "name": "stderr",
     "output_type": "stream",
     "text": [
      "parameter force2D must be set to True to enable shape2D extraction\n",
      "GLCM is symmetrical, therefore Sum Average = 2 * Joint Average, only 1 needs to be calculated\n"
     ]
    },
    {
     "name": "stdout",
     "output_type": "stream",
     "text": [
      "  > Success! Extracted 144 features.\n",
      "Processing patient: LUNG1-232...\n"
     ]
    },
    {
     "name": "stderr",
     "output_type": "stream",
     "text": [
      "parameter force2D must be set to True to enable shape2D extraction\n",
      "GLCM is symmetrical, therefore Sum Average = 2 * Joint Average, only 1 needs to be calculated\n"
     ]
    },
    {
     "name": "stdout",
     "output_type": "stream",
     "text": [
      "  > Success! Extracted 144 features.\n",
      "Processing patient: LUNG1-233...\n"
     ]
    },
    {
     "name": "stderr",
     "output_type": "stream",
     "text": [
      "parameter force2D must be set to True to enable shape2D extraction\n",
      "GLCM is symmetrical, therefore Sum Average = 2 * Joint Average, only 1 needs to be calculated\n"
     ]
    },
    {
     "name": "stdout",
     "output_type": "stream",
     "text": [
      "  > Success! Extracted 144 features.\n",
      "Processing patient: LUNG1-234...\n"
     ]
    },
    {
     "name": "stderr",
     "output_type": "stream",
     "text": [
      "parameter force2D must be set to True to enable shape2D extraction\n",
      "GLCM is symmetrical, therefore Sum Average = 2 * Joint Average, only 1 needs to be calculated\n"
     ]
    },
    {
     "name": "stdout",
     "output_type": "stream",
     "text": [
      "  > Success! Extracted 144 features.\n",
      "Processing patient: LUNG1-235...\n"
     ]
    },
    {
     "name": "stderr",
     "output_type": "stream",
     "text": [
      "parameter force2D must be set to True to enable shape2D extraction\n",
      "GLCM is symmetrical, therefore Sum Average = 2 * Joint Average, only 1 needs to be calculated\n"
     ]
    },
    {
     "name": "stdout",
     "output_type": "stream",
     "text": [
      "  > Success! Extracted 144 features.\n",
      "Processing patient: LUNG1-236...\n"
     ]
    },
    {
     "name": "stderr",
     "output_type": "stream",
     "text": [
      "parameter force2D must be set to True to enable shape2D extraction\n",
      "GLCM is symmetrical, therefore Sum Average = 2 * Joint Average, only 1 needs to be calculated\n"
     ]
    },
    {
     "name": "stdout",
     "output_type": "stream",
     "text": [
      "  > Success! Extracted 144 features.\n",
      "Processing patient: LUNG1-237...\n"
     ]
    },
    {
     "name": "stderr",
     "output_type": "stream",
     "text": [
      "parameter force2D must be set to True to enable shape2D extraction\n",
      "GLCM is symmetrical, therefore Sum Average = 2 * Joint Average, only 1 needs to be calculated\n"
     ]
    },
    {
     "name": "stdout",
     "output_type": "stream",
     "text": [
      "  > Success! Extracted 144 features.\n",
      "Processing patient: LUNG1-238...\n"
     ]
    },
    {
     "name": "stderr",
     "output_type": "stream",
     "text": [
      "parameter force2D must be set to True to enable shape2D extraction\n",
      "GLCM is symmetrical, therefore Sum Average = 2 * Joint Average, only 1 needs to be calculated\n"
     ]
    },
    {
     "name": "stdout",
     "output_type": "stream",
     "text": [
      "  > Success! Extracted 144 features.\n",
      "Processing patient: LUNG1-239...\n"
     ]
    },
    {
     "name": "stderr",
     "output_type": "stream",
     "text": [
      "parameter force2D must be set to True to enable shape2D extraction\n",
      "GLCM is symmetrical, therefore Sum Average = 2 * Joint Average, only 1 needs to be calculated\n"
     ]
    },
    {
     "name": "stdout",
     "output_type": "stream",
     "text": [
      "  > Success! Extracted 144 features.\n",
      "Processing patient: LUNG1-240...\n"
     ]
    },
    {
     "name": "stderr",
     "output_type": "stream",
     "text": [
      "parameter force2D must be set to True to enable shape2D extraction\n",
      "GLCM is symmetrical, therefore Sum Average = 2 * Joint Average, only 1 needs to be calculated\n"
     ]
    },
    {
     "name": "stdout",
     "output_type": "stream",
     "text": [
      "  > Success! Extracted 144 features.\n",
      "Processing patient: LUNG1-241...\n"
     ]
    },
    {
     "name": "stderr",
     "output_type": "stream",
     "text": [
      "parameter force2D must be set to True to enable shape2D extraction\n",
      "GLCM is symmetrical, therefore Sum Average = 2 * Joint Average, only 1 needs to be calculated\n"
     ]
    },
    {
     "name": "stdout",
     "output_type": "stream",
     "text": [
      "  > Success! Extracted 144 features.\n",
      "Processing patient: LUNG1-242...\n"
     ]
    },
    {
     "name": "stderr",
     "output_type": "stream",
     "text": [
      "parameter force2D must be set to True to enable shape2D extraction\n",
      "GLCM is symmetrical, therefore Sum Average = 2 * Joint Average, only 1 needs to be calculated\n"
     ]
    },
    {
     "name": "stdout",
     "output_type": "stream",
     "text": [
      "  > Success! Extracted 144 features.\n",
      "Processing patient: LUNG1-243...\n"
     ]
    },
    {
     "name": "stderr",
     "output_type": "stream",
     "text": [
      "parameter force2D must be set to True to enable shape2D extraction\n",
      "GLCM is symmetrical, therefore Sum Average = 2 * Joint Average, only 1 needs to be calculated\n"
     ]
    },
    {
     "name": "stdout",
     "output_type": "stream",
     "text": [
      "  > Success! Extracted 144 features.\n",
      "Processing patient: LUNG1-244...\n"
     ]
    },
    {
     "name": "stderr",
     "output_type": "stream",
     "text": [
      "parameter force2D must be set to True to enable shape2D extraction\n",
      "GLCM is symmetrical, therefore Sum Average = 2 * Joint Average, only 1 needs to be calculated\n"
     ]
    },
    {
     "name": "stdout",
     "output_type": "stream",
     "text": [
      "  > Success! Extracted 144 features.\n",
      "Processing patient: LUNG1-245...\n"
     ]
    },
    {
     "name": "stderr",
     "output_type": "stream",
     "text": [
      "parameter force2D must be set to True to enable shape2D extraction\n",
      "GLCM is symmetrical, therefore Sum Average = 2 * Joint Average, only 1 needs to be calculated\n"
     ]
    },
    {
     "name": "stdout",
     "output_type": "stream",
     "text": [
      "  > Success! Extracted 144 features.\n",
      "Processing patient: LUNG1-246...\n"
     ]
    },
    {
     "name": "stderr",
     "output_type": "stream",
     "text": [
      "parameter force2D must be set to True to enable shape2D extraction\n",
      "GLCM is symmetrical, therefore Sum Average = 2 * Joint Average, only 1 needs to be calculated\n"
     ]
    },
    {
     "name": "stdout",
     "output_type": "stream",
     "text": [
      "  > Success! Extracted 144 features.\n",
      "Processing patient: LUNG1-247...\n"
     ]
    },
    {
     "name": "stderr",
     "output_type": "stream",
     "text": [
      "parameter force2D must be set to True to enable shape2D extraction\n",
      "GLCM is symmetrical, therefore Sum Average = 2 * Joint Average, only 1 needs to be calculated\n"
     ]
    },
    {
     "name": "stdout",
     "output_type": "stream",
     "text": [
      "  > Success! Extracted 144 features.\n",
      "Processing patient: LUNG1-248...\n"
     ]
    },
    {
     "name": "stderr",
     "output_type": "stream",
     "text": [
      "parameter force2D must be set to True to enable shape2D extraction\n",
      "GLCM is symmetrical, therefore Sum Average = 2 * Joint Average, only 1 needs to be calculated\n"
     ]
    },
    {
     "name": "stdout",
     "output_type": "stream",
     "text": [
      "  > Success! Extracted 144 features.\n",
      "Processing patient: LUNG1-249...\n"
     ]
    },
    {
     "name": "stderr",
     "output_type": "stream",
     "text": [
      "parameter force2D must be set to True to enable shape2D extraction\n",
      "GLCM is symmetrical, therefore Sum Average = 2 * Joint Average, only 1 needs to be calculated\n"
     ]
    },
    {
     "name": "stdout",
     "output_type": "stream",
     "text": [
      "  > Success! Extracted 144 features.\n",
      "Processing patient: LUNG1-250...\n"
     ]
    },
    {
     "name": "stderr",
     "output_type": "stream",
     "text": [
      "parameter force2D must be set to True to enable shape2D extraction\n",
      "GLCM is symmetrical, therefore Sum Average = 2 * Joint Average, only 1 needs to be calculated\n"
     ]
    },
    {
     "name": "stdout",
     "output_type": "stream",
     "text": [
      "  > Success! Extracted 144 features.\n",
      "Processing patient: LUNG1-251...\n"
     ]
    },
    {
     "name": "stderr",
     "output_type": "stream",
     "text": [
      "parameter force2D must be set to True to enable shape2D extraction\n",
      "GLCM is symmetrical, therefore Sum Average = 2 * Joint Average, only 1 needs to be calculated\n"
     ]
    },
    {
     "name": "stdout",
     "output_type": "stream",
     "text": [
      "  > Success! Extracted 144 features.\n",
      "Processing patient: LUNG1-252...\n"
     ]
    },
    {
     "name": "stderr",
     "output_type": "stream",
     "text": [
      "parameter force2D must be set to True to enable shape2D extraction\n",
      "GLCM is symmetrical, therefore Sum Average = 2 * Joint Average, only 1 needs to be calculated\n"
     ]
    },
    {
     "name": "stdout",
     "output_type": "stream",
     "text": [
      "  > Success! Extracted 144 features.\n",
      "Processing patient: LUNG1-253...\n"
     ]
    },
    {
     "name": "stderr",
     "output_type": "stream",
     "text": [
      "parameter force2D must be set to True to enable shape2D extraction\n",
      "GLCM is symmetrical, therefore Sum Average = 2 * Joint Average, only 1 needs to be calculated\n"
     ]
    },
    {
     "name": "stdout",
     "output_type": "stream",
     "text": [
      "  > Success! Extracted 144 features.\n",
      "Processing patient: LUNG1-254...\n"
     ]
    },
    {
     "name": "stderr",
     "output_type": "stream",
     "text": [
      "parameter force2D must be set to True to enable shape2D extraction\n",
      "GLCM is symmetrical, therefore Sum Average = 2 * Joint Average, only 1 needs to be calculated\n"
     ]
    },
    {
     "name": "stdout",
     "output_type": "stream",
     "text": [
      "  > Success! Extracted 144 features.\n",
      "Processing patient: LUNG1-255...\n"
     ]
    },
    {
     "name": "stderr",
     "output_type": "stream",
     "text": [
      "parameter force2D must be set to True to enable shape2D extraction\n",
      "GLCM is symmetrical, therefore Sum Average = 2 * Joint Average, only 1 needs to be calculated\n"
     ]
    },
    {
     "name": "stdout",
     "output_type": "stream",
     "text": [
      "  > Success! Extracted 144 features.\n",
      "Processing patient: LUNG1-256...\n"
     ]
    },
    {
     "name": "stderr",
     "output_type": "stream",
     "text": [
      "parameter force2D must be set to True to enable shape2D extraction\n",
      "GLCM is symmetrical, therefore Sum Average = 2 * Joint Average, only 1 needs to be calculated\n"
     ]
    },
    {
     "name": "stdout",
     "output_type": "stream",
     "text": [
      "  > Success! Extracted 144 features.\n",
      "Processing patient: LUNG1-257...\n"
     ]
    },
    {
     "name": "stderr",
     "output_type": "stream",
     "text": [
      "parameter force2D must be set to True to enable shape2D extraction\n",
      "GLCM is symmetrical, therefore Sum Average = 2 * Joint Average, only 1 needs to be calculated\n"
     ]
    },
    {
     "name": "stdout",
     "output_type": "stream",
     "text": [
      "  > Success! Extracted 144 features.\n",
      "Processing patient: LUNG1-258...\n"
     ]
    },
    {
     "name": "stderr",
     "output_type": "stream",
     "text": [
      "parameter force2D must be set to True to enable shape2D extraction\n",
      "GLCM is symmetrical, therefore Sum Average = 2 * Joint Average, only 1 needs to be calculated\n"
     ]
    },
    {
     "name": "stdout",
     "output_type": "stream",
     "text": [
      "  > Success! Extracted 144 features.\n",
      "Processing patient: LUNG1-259...\n"
     ]
    },
    {
     "name": "stderr",
     "output_type": "stream",
     "text": [
      "parameter force2D must be set to True to enable shape2D extraction\n",
      "GLCM is symmetrical, therefore Sum Average = 2 * Joint Average, only 1 needs to be calculated\n"
     ]
    },
    {
     "name": "stdout",
     "output_type": "stream",
     "text": [
      "  > Success! Extracted 144 features.\n",
      "Processing patient: LUNG1-260...\n"
     ]
    },
    {
     "name": "stderr",
     "output_type": "stream",
     "text": [
      "parameter force2D must be set to True to enable shape2D extraction\n",
      "GLCM is symmetrical, therefore Sum Average = 2 * Joint Average, only 1 needs to be calculated\n"
     ]
    },
    {
     "name": "stdout",
     "output_type": "stream",
     "text": [
      "  > Success! Extracted 144 features.\n",
      "Processing patient: LUNG1-261...\n"
     ]
    },
    {
     "name": "stderr",
     "output_type": "stream",
     "text": [
      "parameter force2D must be set to True to enable shape2D extraction\n",
      "GLCM is symmetrical, therefore Sum Average = 2 * Joint Average, only 1 needs to be calculated\n"
     ]
    },
    {
     "name": "stdout",
     "output_type": "stream",
     "text": [
      "  > Success! Extracted 144 features.\n",
      "Processing patient: LUNG1-262...\n"
     ]
    },
    {
     "name": "stderr",
     "output_type": "stream",
     "text": [
      "parameter force2D must be set to True to enable shape2D extraction\n",
      "GLCM is symmetrical, therefore Sum Average = 2 * Joint Average, only 1 needs to be calculated\n"
     ]
    },
    {
     "name": "stdout",
     "output_type": "stream",
     "text": [
      "  > Success! Extracted 144 features.\n",
      "Processing patient: LUNG1-263...\n"
     ]
    },
    {
     "name": "stderr",
     "output_type": "stream",
     "text": [
      "parameter force2D must be set to True to enable shape2D extraction\n",
      "GLCM is symmetrical, therefore Sum Average = 2 * Joint Average, only 1 needs to be calculated\n"
     ]
    },
    {
     "name": "stdout",
     "output_type": "stream",
     "text": [
      "  > Success! Extracted 144 features.\n",
      "Processing patient: LUNG1-264...\n"
     ]
    },
    {
     "name": "stderr",
     "output_type": "stream",
     "text": [
      "parameter force2D must be set to True to enable shape2D extraction\n",
      "GLCM is symmetrical, therefore Sum Average = 2 * Joint Average, only 1 needs to be calculated\n"
     ]
    },
    {
     "name": "stdout",
     "output_type": "stream",
     "text": [
      "  > Success! Extracted 144 features.\n",
      "Processing patient: LUNG1-265...\n"
     ]
    },
    {
     "name": "stderr",
     "output_type": "stream",
     "text": [
      "parameter force2D must be set to True to enable shape2D extraction\n",
      "GLCM is symmetrical, therefore Sum Average = 2 * Joint Average, only 1 needs to be calculated\n"
     ]
    },
    {
     "name": "stdout",
     "output_type": "stream",
     "text": [
      "  > Success! Extracted 144 features.\n",
      "Processing patient: LUNG1-266...\n"
     ]
    },
    {
     "name": "stderr",
     "output_type": "stream",
     "text": [
      "parameter force2D must be set to True to enable shape2D extraction\n",
      "GLCM is symmetrical, therefore Sum Average = 2 * Joint Average, only 1 needs to be calculated\n"
     ]
    },
    {
     "name": "stdout",
     "output_type": "stream",
     "text": [
      "  > Success! Extracted 144 features.\n",
      "Processing patient: LUNG1-267...\n"
     ]
    },
    {
     "name": "stderr",
     "output_type": "stream",
     "text": [
      "parameter force2D must be set to True to enable shape2D extraction\n",
      "GLCM is symmetrical, therefore Sum Average = 2 * Joint Average, only 1 needs to be calculated\n"
     ]
    },
    {
     "name": "stdout",
     "output_type": "stream",
     "text": [
      "  > Success! Extracted 144 features.\n",
      "Processing patient: LUNG1-268...\n"
     ]
    },
    {
     "name": "stderr",
     "output_type": "stream",
     "text": [
      "parameter force2D must be set to True to enable shape2D extraction\n",
      "GLCM is symmetrical, therefore Sum Average = 2 * Joint Average, only 1 needs to be calculated\n"
     ]
    },
    {
     "name": "stdout",
     "output_type": "stream",
     "text": [
      "  > Success! Extracted 144 features.\n",
      "Processing patient: LUNG1-269...\n"
     ]
    },
    {
     "name": "stderr",
     "output_type": "stream",
     "text": [
      "parameter force2D must be set to True to enable shape2D extraction\n",
      "GLCM is symmetrical, therefore Sum Average = 2 * Joint Average, only 1 needs to be calculated\n"
     ]
    },
    {
     "name": "stdout",
     "output_type": "stream",
     "text": [
      "  > Success! Extracted 144 features.\n",
      "Processing patient: LUNG1-270...\n"
     ]
    },
    {
     "name": "stderr",
     "output_type": "stream",
     "text": [
      "parameter force2D must be set to True to enable shape2D extraction\n",
      "GLCM is symmetrical, therefore Sum Average = 2 * Joint Average, only 1 needs to be calculated\n"
     ]
    },
    {
     "name": "stdout",
     "output_type": "stream",
     "text": [
      "  > Success! Extracted 144 features.\n",
      "Processing patient: LUNG1-271...\n"
     ]
    },
    {
     "name": "stderr",
     "output_type": "stream",
     "text": [
      "parameter force2D must be set to True to enable shape2D extraction\n",
      "GLCM is symmetrical, therefore Sum Average = 2 * Joint Average, only 1 needs to be calculated\n"
     ]
    },
    {
     "name": "stdout",
     "output_type": "stream",
     "text": [
      "  > Success! Extracted 144 features.\n",
      "Processing patient: LUNG1-272...\n"
     ]
    },
    {
     "name": "stderr",
     "output_type": "stream",
     "text": [
      "parameter force2D must be set to True to enable shape2D extraction\n",
      "GLCM is symmetrical, therefore Sum Average = 2 * Joint Average, only 1 needs to be calculated\n"
     ]
    },
    {
     "name": "stdout",
     "output_type": "stream",
     "text": [
      "  > Success! Extracted 144 features.\n",
      "Processing patient: LUNG1-273...\n"
     ]
    },
    {
     "name": "stderr",
     "output_type": "stream",
     "text": [
      "parameter force2D must be set to True to enable shape2D extraction\n",
      "GLCM is symmetrical, therefore Sum Average = 2 * Joint Average, only 1 needs to be calculated\n"
     ]
    },
    {
     "name": "stdout",
     "output_type": "stream",
     "text": [
      "  > Success! Extracted 144 features.\n",
      "Processing patient: LUNG1-274...\n"
     ]
    },
    {
     "name": "stderr",
     "output_type": "stream",
     "text": [
      "parameter force2D must be set to True to enable shape2D extraction\n",
      "GLCM is symmetrical, therefore Sum Average = 2 * Joint Average, only 1 needs to be calculated\n"
     ]
    },
    {
     "name": "stdout",
     "output_type": "stream",
     "text": [
      "  > Success! Extracted 144 features.\n",
      "Processing patient: LUNG1-275...\n"
     ]
    },
    {
     "name": "stderr",
     "output_type": "stream",
     "text": [
      "parameter force2D must be set to True to enable shape2D extraction\n",
      "GLCM is symmetrical, therefore Sum Average = 2 * Joint Average, only 1 needs to be calculated\n"
     ]
    },
    {
     "name": "stdout",
     "output_type": "stream",
     "text": [
      "  > Success! Extracted 144 features.\n",
      "Processing patient: LUNG1-276...\n"
     ]
    },
    {
     "name": "stderr",
     "output_type": "stream",
     "text": [
      "parameter force2D must be set to True to enable shape2D extraction\n",
      "GLCM is symmetrical, therefore Sum Average = 2 * Joint Average, only 1 needs to be calculated\n"
     ]
    },
    {
     "name": "stdout",
     "output_type": "stream",
     "text": [
      "  > Success! Extracted 144 features.\n",
      "Processing patient: LUNG1-277...\n"
     ]
    },
    {
     "name": "stderr",
     "output_type": "stream",
     "text": [
      "parameter force2D must be set to True to enable shape2D extraction\n",
      "GLCM is symmetrical, therefore Sum Average = 2 * Joint Average, only 1 needs to be calculated\n"
     ]
    },
    {
     "name": "stdout",
     "output_type": "stream",
     "text": [
      "  > Success! Extracted 144 features.\n",
      "Processing patient: LUNG1-278...\n"
     ]
    },
    {
     "name": "stderr",
     "output_type": "stream",
     "text": [
      "parameter force2D must be set to True to enable shape2D extraction\n",
      "GLCM is symmetrical, therefore Sum Average = 2 * Joint Average, only 1 needs to be calculated\n"
     ]
    },
    {
     "name": "stdout",
     "output_type": "stream",
     "text": [
      "  > Success! Extracted 144 features.\n",
      "Processing patient: LUNG1-279...\n"
     ]
    },
    {
     "name": "stderr",
     "output_type": "stream",
     "text": [
      "parameter force2D must be set to True to enable shape2D extraction\n",
      "GLCM is symmetrical, therefore Sum Average = 2 * Joint Average, only 1 needs to be calculated\n"
     ]
    },
    {
     "name": "stdout",
     "output_type": "stream",
     "text": [
      "  > Success! Extracted 144 features.\n",
      "Processing patient: LUNG1-280...\n"
     ]
    },
    {
     "name": "stderr",
     "output_type": "stream",
     "text": [
      "parameter force2D must be set to True to enable shape2D extraction\n",
      "GLCM is symmetrical, therefore Sum Average = 2 * Joint Average, only 1 needs to be calculated\n"
     ]
    },
    {
     "name": "stdout",
     "output_type": "stream",
     "text": [
      "  > Success! Extracted 144 features.\n",
      "Processing patient: LUNG1-281...\n"
     ]
    },
    {
     "name": "stderr",
     "output_type": "stream",
     "text": [
      "parameter force2D must be set to True to enable shape2D extraction\n",
      "GLCM is symmetrical, therefore Sum Average = 2 * Joint Average, only 1 needs to be calculated\n"
     ]
    },
    {
     "name": "stdout",
     "output_type": "stream",
     "text": [
      "  > Success! Extracted 144 features.\n",
      "Processing patient: LUNG1-282...\n"
     ]
    },
    {
     "name": "stderr",
     "output_type": "stream",
     "text": [
      "parameter force2D must be set to True to enable shape2D extraction\n",
      "GLCM is symmetrical, therefore Sum Average = 2 * Joint Average, only 1 needs to be calculated\n"
     ]
    },
    {
     "name": "stdout",
     "output_type": "stream",
     "text": [
      "  > Success! Extracted 144 features.\n",
      "Processing patient: LUNG1-283...\n"
     ]
    },
    {
     "name": "stderr",
     "output_type": "stream",
     "text": [
      "parameter force2D must be set to True to enable shape2D extraction\n",
      "GLCM is symmetrical, therefore Sum Average = 2 * Joint Average, only 1 needs to be calculated\n"
     ]
    },
    {
     "name": "stdout",
     "output_type": "stream",
     "text": [
      "  > Success! Extracted 144 features.\n",
      "Processing patient: LUNG1-284...\n"
     ]
    },
    {
     "name": "stderr",
     "output_type": "stream",
     "text": [
      "parameter force2D must be set to True to enable shape2D extraction\n",
      "GLCM is symmetrical, therefore Sum Average = 2 * Joint Average, only 1 needs to be calculated\n"
     ]
    },
    {
     "name": "stdout",
     "output_type": "stream",
     "text": [
      "  > Success! Extracted 144 features.\n",
      "Processing patient: LUNG1-285...\n"
     ]
    },
    {
     "name": "stderr",
     "output_type": "stream",
     "text": [
      "parameter force2D must be set to True to enable shape2D extraction\n",
      "GLCM is symmetrical, therefore Sum Average = 2 * Joint Average, only 1 needs to be calculated\n"
     ]
    },
    {
     "name": "stdout",
     "output_type": "stream",
     "text": [
      "  > Success! Extracted 144 features.\n",
      "Processing patient: LUNG1-286...\n"
     ]
    },
    {
     "name": "stderr",
     "output_type": "stream",
     "text": [
      "parameter force2D must be set to True to enable shape2D extraction\n",
      "GLCM is symmetrical, therefore Sum Average = 2 * Joint Average, only 1 needs to be calculated\n"
     ]
    },
    {
     "name": "stdout",
     "output_type": "stream",
     "text": [
      "  > Success! Extracted 144 features.\n",
      "Processing patient: LUNG1-287...\n"
     ]
    },
    {
     "name": "stderr",
     "output_type": "stream",
     "text": [
      "parameter force2D must be set to True to enable shape2D extraction\n",
      "GLCM is symmetrical, therefore Sum Average = 2 * Joint Average, only 1 needs to be calculated\n"
     ]
    },
    {
     "name": "stdout",
     "output_type": "stream",
     "text": [
      "  > Success! Extracted 144 features.\n",
      "Processing patient: LUNG1-288...\n"
     ]
    },
    {
     "name": "stderr",
     "output_type": "stream",
     "text": [
      "parameter force2D must be set to True to enable shape2D extraction\n",
      "GLCM is symmetrical, therefore Sum Average = 2 * Joint Average, only 1 needs to be calculated\n"
     ]
    },
    {
     "name": "stdout",
     "output_type": "stream",
     "text": [
      "  > Success! Extracted 144 features.\n",
      "Processing patient: LUNG1-289...\n"
     ]
    },
    {
     "name": "stderr",
     "output_type": "stream",
     "text": [
      "parameter force2D must be set to True to enable shape2D extraction\n",
      "GLCM is symmetrical, therefore Sum Average = 2 * Joint Average, only 1 needs to be calculated\n"
     ]
    },
    {
     "name": "stdout",
     "output_type": "stream",
     "text": [
      "  > Success! Extracted 144 features.\n",
      "Processing patient: LUNG1-290...\n"
     ]
    },
    {
     "name": "stderr",
     "output_type": "stream",
     "text": [
      "parameter force2D must be set to True to enable shape2D extraction\n",
      "GLCM is symmetrical, therefore Sum Average = 2 * Joint Average, only 1 needs to be calculated\n"
     ]
    },
    {
     "name": "stdout",
     "output_type": "stream",
     "text": [
      "  > Success! Extracted 144 features.\n",
      "Processing patient: LUNG1-291...\n"
     ]
    },
    {
     "name": "stderr",
     "output_type": "stream",
     "text": [
      "parameter force2D must be set to True to enable shape2D extraction\n",
      "GLCM is symmetrical, therefore Sum Average = 2 * Joint Average, only 1 needs to be calculated\n"
     ]
    },
    {
     "name": "stdout",
     "output_type": "stream",
     "text": [
      "  > Success! Extracted 144 features.\n",
      "Processing patient: LUNG1-292...\n"
     ]
    },
    {
     "name": "stderr",
     "output_type": "stream",
     "text": [
      "parameter force2D must be set to True to enable shape2D extraction\n",
      "GLCM is symmetrical, therefore Sum Average = 2 * Joint Average, only 1 needs to be calculated\n"
     ]
    },
    {
     "name": "stdout",
     "output_type": "stream",
     "text": [
      "  > Success! Extracted 144 features.\n",
      "Processing patient: LUNG1-293...\n"
     ]
    },
    {
     "name": "stderr",
     "output_type": "stream",
     "text": [
      "parameter force2D must be set to True to enable shape2D extraction\n",
      "GLCM is symmetrical, therefore Sum Average = 2 * Joint Average, only 1 needs to be calculated\n"
     ]
    },
    {
     "name": "stdout",
     "output_type": "stream",
     "text": [
      "  > Success! Extracted 144 features.\n",
      "Processing patient: LUNG1-294...\n"
     ]
    },
    {
     "name": "stderr",
     "output_type": "stream",
     "text": [
      "parameter force2D must be set to True to enable shape2D extraction\n",
      "GLCM is symmetrical, therefore Sum Average = 2 * Joint Average, only 1 needs to be calculated\n"
     ]
    },
    {
     "name": "stdout",
     "output_type": "stream",
     "text": [
      "  > Success! Extracted 144 features.\n",
      "Processing patient: LUNG1-295...\n"
     ]
    },
    {
     "name": "stderr",
     "output_type": "stream",
     "text": [
      "parameter force2D must be set to True to enable shape2D extraction\n",
      "GLCM is symmetrical, therefore Sum Average = 2 * Joint Average, only 1 needs to be calculated\n"
     ]
    },
    {
     "name": "stdout",
     "output_type": "stream",
     "text": [
      "  > Success! Extracted 144 features.\n",
      "Processing patient: LUNG1-296...\n"
     ]
    },
    {
     "name": "stderr",
     "output_type": "stream",
     "text": [
      "parameter force2D must be set to True to enable shape2D extraction\n",
      "GLCM is symmetrical, therefore Sum Average = 2 * Joint Average, only 1 needs to be calculated\n"
     ]
    },
    {
     "name": "stdout",
     "output_type": "stream",
     "text": [
      "  > Success! Extracted 144 features.\n",
      "Processing patient: LUNG1-297...\n"
     ]
    },
    {
     "name": "stderr",
     "output_type": "stream",
     "text": [
      "parameter force2D must be set to True to enable shape2D extraction\n",
      "GLCM is symmetrical, therefore Sum Average = 2 * Joint Average, only 1 needs to be calculated\n"
     ]
    },
    {
     "name": "stdout",
     "output_type": "stream",
     "text": [
      "  > Success! Extracted 144 features.\n",
      "Processing patient: LUNG1-298...\n"
     ]
    },
    {
     "name": "stderr",
     "output_type": "stream",
     "text": [
      "parameter force2D must be set to True to enable shape2D extraction\n",
      "GLCM is symmetrical, therefore Sum Average = 2 * Joint Average, only 1 needs to be calculated\n"
     ]
    },
    {
     "name": "stdout",
     "output_type": "stream",
     "text": [
      "  > Success! Extracted 144 features.\n",
      "Processing patient: LUNG1-299...\n"
     ]
    },
    {
     "name": "stderr",
     "output_type": "stream",
     "text": [
      "parameter force2D must be set to True to enable shape2D extraction\n",
      "GLCM is symmetrical, therefore Sum Average = 2 * Joint Average, only 1 needs to be calculated\n"
     ]
    },
    {
     "name": "stdout",
     "output_type": "stream",
     "text": [
      "  > Success! Extracted 144 features.\n",
      "Processing patient: LUNG1-300...\n"
     ]
    },
    {
     "name": "stderr",
     "output_type": "stream",
     "text": [
      "parameter force2D must be set to True to enable shape2D extraction\n",
      "GLCM is symmetrical, therefore Sum Average = 2 * Joint Average, only 1 needs to be calculated\n"
     ]
    },
    {
     "name": "stdout",
     "output_type": "stream",
     "text": [
      "  > Success! Extracted 144 features.\n",
      "Processing patient: LUNG1-301...\n"
     ]
    },
    {
     "name": "stderr",
     "output_type": "stream",
     "text": [
      "parameter force2D must be set to True to enable shape2D extraction\n",
      "GLCM is symmetrical, therefore Sum Average = 2 * Joint Average, only 1 needs to be calculated\n"
     ]
    },
    {
     "name": "stdout",
     "output_type": "stream",
     "text": [
      "  > Success! Extracted 144 features.\n",
      "Processing patient: LUNG1-302...\n"
     ]
    },
    {
     "name": "stderr",
     "output_type": "stream",
     "text": [
      "parameter force2D must be set to True to enable shape2D extraction\n",
      "GLCM is symmetrical, therefore Sum Average = 2 * Joint Average, only 1 needs to be calculated\n"
     ]
    },
    {
     "name": "stdout",
     "output_type": "stream",
     "text": [
      "  > Success! Extracted 144 features.\n",
      "Processing patient: LUNG1-303...\n"
     ]
    },
    {
     "name": "stderr",
     "output_type": "stream",
     "text": [
      "parameter force2D must be set to True to enable shape2D extraction\n",
      "GLCM is symmetrical, therefore Sum Average = 2 * Joint Average, only 1 needs to be calculated\n"
     ]
    },
    {
     "name": "stdout",
     "output_type": "stream",
     "text": [
      "  > Success! Extracted 144 features.\n",
      "Processing patient: LUNG1-304...\n"
     ]
    },
    {
     "name": "stderr",
     "output_type": "stream",
     "text": [
      "parameter force2D must be set to True to enable shape2D extraction\n",
      "GLCM is symmetrical, therefore Sum Average = 2 * Joint Average, only 1 needs to be calculated\n"
     ]
    },
    {
     "name": "stdout",
     "output_type": "stream",
     "text": [
      "  > Success! Extracted 144 features.\n",
      "Processing patient: LUNG1-305...\n"
     ]
    },
    {
     "name": "stderr",
     "output_type": "stream",
     "text": [
      "parameter force2D must be set to True to enable shape2D extraction\n",
      "GLCM is symmetrical, therefore Sum Average = 2 * Joint Average, only 1 needs to be calculated\n"
     ]
    },
    {
     "name": "stdout",
     "output_type": "stream",
     "text": [
      "  > Success! Extracted 144 features.\n",
      "Processing patient: LUNG1-306...\n"
     ]
    },
    {
     "name": "stderr",
     "output_type": "stream",
     "text": [
      "parameter force2D must be set to True to enable shape2D extraction\n",
      "GLCM is symmetrical, therefore Sum Average = 2 * Joint Average, only 1 needs to be calculated\n"
     ]
    },
    {
     "name": "stdout",
     "output_type": "stream",
     "text": [
      "  > Success! Extracted 144 features.\n",
      "Processing patient: LUNG1-307...\n"
     ]
    },
    {
     "name": "stderr",
     "output_type": "stream",
     "text": [
      "parameter force2D must be set to True to enable shape2D extraction\n",
      "GLCM is symmetrical, therefore Sum Average = 2 * Joint Average, only 1 needs to be calculated\n"
     ]
    },
    {
     "name": "stdout",
     "output_type": "stream",
     "text": [
      "  > Success! Extracted 144 features.\n",
      "Processing patient: LUNG1-308...\n"
     ]
    },
    {
     "name": "stderr",
     "output_type": "stream",
     "text": [
      "parameter force2D must be set to True to enable shape2D extraction\n",
      "GLCM is symmetrical, therefore Sum Average = 2 * Joint Average, only 1 needs to be calculated\n"
     ]
    },
    {
     "name": "stdout",
     "output_type": "stream",
     "text": [
      "  > Success! Extracted 144 features.\n",
      "Processing patient: LUNG1-309...\n"
     ]
    },
    {
     "name": "stderr",
     "output_type": "stream",
     "text": [
      "parameter force2D must be set to True to enable shape2D extraction\n",
      "GLCM is symmetrical, therefore Sum Average = 2 * Joint Average, only 1 needs to be calculated\n"
     ]
    },
    {
     "name": "stdout",
     "output_type": "stream",
     "text": [
      "  > Success! Extracted 144 features.\n",
      "Processing patient: LUNG1-310...\n"
     ]
    },
    {
     "name": "stderr",
     "output_type": "stream",
     "text": [
      "parameter force2D must be set to True to enable shape2D extraction\n",
      "GLCM is symmetrical, therefore Sum Average = 2 * Joint Average, only 1 needs to be calculated\n"
     ]
    },
    {
     "name": "stdout",
     "output_type": "stream",
     "text": [
      "  > Success! Extracted 144 features.\n",
      "Processing patient: LUNG1-311...\n"
     ]
    },
    {
     "name": "stderr",
     "output_type": "stream",
     "text": [
      "parameter force2D must be set to True to enable shape2D extraction\n",
      "GLCM is symmetrical, therefore Sum Average = 2 * Joint Average, only 1 needs to be calculated\n"
     ]
    },
    {
     "name": "stdout",
     "output_type": "stream",
     "text": [
      "  > Success! Extracted 144 features.\n",
      "Processing patient: LUNG1-312...\n"
     ]
    },
    {
     "name": "stderr",
     "output_type": "stream",
     "text": [
      "parameter force2D must be set to True to enable shape2D extraction\n",
      "GLCM is symmetrical, therefore Sum Average = 2 * Joint Average, only 1 needs to be calculated\n"
     ]
    },
    {
     "name": "stdout",
     "output_type": "stream",
     "text": [
      "  > Success! Extracted 144 features.\n",
      "Processing patient: LUNG1-313...\n"
     ]
    },
    {
     "name": "stderr",
     "output_type": "stream",
     "text": [
      "parameter force2D must be set to True to enable shape2D extraction\n",
      "GLCM is symmetrical, therefore Sum Average = 2 * Joint Average, only 1 needs to be calculated\n"
     ]
    },
    {
     "name": "stdout",
     "output_type": "stream",
     "text": [
      "  > Success! Extracted 144 features.\n",
      "Processing patient: LUNG1-314...\n"
     ]
    },
    {
     "name": "stderr",
     "output_type": "stream",
     "text": [
      "parameter force2D must be set to True to enable shape2D extraction\n",
      "GLCM is symmetrical, therefore Sum Average = 2 * Joint Average, only 1 needs to be calculated\n"
     ]
    },
    {
     "name": "stdout",
     "output_type": "stream",
     "text": [
      "  > Success! Extracted 144 features.\n",
      "Processing patient: LUNG1-315...\n"
     ]
    },
    {
     "name": "stderr",
     "output_type": "stream",
     "text": [
      "parameter force2D must be set to True to enable shape2D extraction\n",
      "GLCM is symmetrical, therefore Sum Average = 2 * Joint Average, only 1 needs to be calculated\n"
     ]
    },
    {
     "name": "stdout",
     "output_type": "stream",
     "text": [
      "  > Success! Extracted 144 features.\n",
      "Processing patient: LUNG1-316...\n"
     ]
    },
    {
     "name": "stderr",
     "output_type": "stream",
     "text": [
      "parameter force2D must be set to True to enable shape2D extraction\n",
      "GLCM is symmetrical, therefore Sum Average = 2 * Joint Average, only 1 needs to be calculated\n"
     ]
    },
    {
     "name": "stdout",
     "output_type": "stream",
     "text": [
      "  > Success! Extracted 144 features.\n",
      "Processing patient: LUNG1-317...\n"
     ]
    },
    {
     "name": "stderr",
     "output_type": "stream",
     "text": [
      "parameter force2D must be set to True to enable shape2D extraction\n",
      "GLCM is symmetrical, therefore Sum Average = 2 * Joint Average, only 1 needs to be calculated\n"
     ]
    },
    {
     "name": "stdout",
     "output_type": "stream",
     "text": [
      "  > Success! Extracted 144 features.\n",
      "Processing patient: LUNG1-318...\n"
     ]
    },
    {
     "name": "stderr",
     "output_type": "stream",
     "text": [
      "parameter force2D must be set to True to enable shape2D extraction\n",
      "GLCM is symmetrical, therefore Sum Average = 2 * Joint Average, only 1 needs to be calculated\n"
     ]
    },
    {
     "name": "stdout",
     "output_type": "stream",
     "text": [
      "  > Success! Extracted 144 features.\n",
      "Processing patient: LUNG1-319...\n"
     ]
    },
    {
     "name": "stderr",
     "output_type": "stream",
     "text": [
      "parameter force2D must be set to True to enable shape2D extraction\n",
      "GLCM is symmetrical, therefore Sum Average = 2 * Joint Average, only 1 needs to be calculated\n"
     ]
    },
    {
     "name": "stdout",
     "output_type": "stream",
     "text": [
      "  > Success! Extracted 144 features.\n",
      "Processing patient: LUNG1-320...\n"
     ]
    },
    {
     "name": "stderr",
     "output_type": "stream",
     "text": [
      "parameter force2D must be set to True to enable shape2D extraction\n",
      "GLCM is symmetrical, therefore Sum Average = 2 * Joint Average, only 1 needs to be calculated\n"
     ]
    },
    {
     "name": "stdout",
     "output_type": "stream",
     "text": [
      "  > Success! Extracted 144 features.\n",
      "Processing patient: LUNG1-321...\n"
     ]
    },
    {
     "name": "stderr",
     "output_type": "stream",
     "text": [
      "parameter force2D must be set to True to enable shape2D extraction\n",
      "GLCM is symmetrical, therefore Sum Average = 2 * Joint Average, only 1 needs to be calculated\n"
     ]
    },
    {
     "name": "stdout",
     "output_type": "stream",
     "text": [
      "  > Success! Extracted 144 features.\n",
      "Processing patient: LUNG1-322...\n"
     ]
    },
    {
     "name": "stderr",
     "output_type": "stream",
     "text": [
      "parameter force2D must be set to True to enable shape2D extraction\n",
      "GLCM is symmetrical, therefore Sum Average = 2 * Joint Average, only 1 needs to be calculated\n"
     ]
    },
    {
     "name": "stdout",
     "output_type": "stream",
     "text": [
      "  > Success! Extracted 144 features.\n",
      "Processing patient: LUNG1-323...\n"
     ]
    },
    {
     "name": "stderr",
     "output_type": "stream",
     "text": [
      "parameter force2D must be set to True to enable shape2D extraction\n",
      "GLCM is symmetrical, therefore Sum Average = 2 * Joint Average, only 1 needs to be calculated\n"
     ]
    },
    {
     "name": "stdout",
     "output_type": "stream",
     "text": [
      "  > Success! Extracted 144 features.\n",
      "Processing patient: LUNG1-324...\n"
     ]
    },
    {
     "name": "stderr",
     "output_type": "stream",
     "text": [
      "parameter force2D must be set to True to enable shape2D extraction\n",
      "GLCM is symmetrical, therefore Sum Average = 2 * Joint Average, only 1 needs to be calculated\n"
     ]
    },
    {
     "name": "stdout",
     "output_type": "stream",
     "text": [
      "  > Success! Extracted 144 features.\n",
      "Processing patient: LUNG1-325...\n"
     ]
    },
    {
     "name": "stderr",
     "output_type": "stream",
     "text": [
      "parameter force2D must be set to True to enable shape2D extraction\n",
      "GLCM is symmetrical, therefore Sum Average = 2 * Joint Average, only 1 needs to be calculated\n"
     ]
    },
    {
     "name": "stdout",
     "output_type": "stream",
     "text": [
      "  > Success! Extracted 144 features.\n",
      "Processing patient: LUNG1-326...\n"
     ]
    },
    {
     "name": "stderr",
     "output_type": "stream",
     "text": [
      "parameter force2D must be set to True to enable shape2D extraction\n",
      "GLCM is symmetrical, therefore Sum Average = 2 * Joint Average, only 1 needs to be calculated\n"
     ]
    },
    {
     "name": "stdout",
     "output_type": "stream",
     "text": [
      "  > Success! Extracted 144 features.\n",
      "Processing patient: LUNG1-327...\n"
     ]
    },
    {
     "name": "stderr",
     "output_type": "stream",
     "text": [
      "parameter force2D must be set to True to enable shape2D extraction\n",
      "GLCM is symmetrical, therefore Sum Average = 2 * Joint Average, only 1 needs to be calculated\n"
     ]
    },
    {
     "name": "stdout",
     "output_type": "stream",
     "text": [
      "  > Success! Extracted 144 features.\n",
      "Processing patient: LUNG1-328...\n"
     ]
    },
    {
     "name": "stderr",
     "output_type": "stream",
     "text": [
      "parameter force2D must be set to True to enable shape2D extraction\n",
      "GLCM is symmetrical, therefore Sum Average = 2 * Joint Average, only 1 needs to be calculated\n"
     ]
    },
    {
     "name": "stdout",
     "output_type": "stream",
     "text": [
      "  > Success! Extracted 144 features.\n",
      "Processing patient: LUNG1-329...\n"
     ]
    },
    {
     "name": "stderr",
     "output_type": "stream",
     "text": [
      "parameter force2D must be set to True to enable shape2D extraction\n",
      "GLCM is symmetrical, therefore Sum Average = 2 * Joint Average, only 1 needs to be calculated\n"
     ]
    },
    {
     "name": "stdout",
     "output_type": "stream",
     "text": [
      "  > Success! Extracted 144 features.\n",
      "Processing patient: LUNG1-330...\n"
     ]
    },
    {
     "name": "stderr",
     "output_type": "stream",
     "text": [
      "parameter force2D must be set to True to enable shape2D extraction\n",
      "GLCM is symmetrical, therefore Sum Average = 2 * Joint Average, only 1 needs to be calculated\n"
     ]
    },
    {
     "name": "stdout",
     "output_type": "stream",
     "text": [
      "  > Success! Extracted 144 features.\n",
      "Processing patient: LUNG1-331...\n"
     ]
    },
    {
     "name": "stderr",
     "output_type": "stream",
     "text": [
      "parameter force2D must be set to True to enable shape2D extraction\n",
      "GLCM is symmetrical, therefore Sum Average = 2 * Joint Average, only 1 needs to be calculated\n"
     ]
    },
    {
     "name": "stdout",
     "output_type": "stream",
     "text": [
      "  > Success! Extracted 144 features.\n",
      "Processing patient: LUNG1-332...\n"
     ]
    },
    {
     "name": "stderr",
     "output_type": "stream",
     "text": [
      "parameter force2D must be set to True to enable shape2D extraction\n",
      "GLCM is symmetrical, therefore Sum Average = 2 * Joint Average, only 1 needs to be calculated\n"
     ]
    },
    {
     "name": "stdout",
     "output_type": "stream",
     "text": [
      "  > Success! Extracted 144 features.\n",
      "Processing patient: LUNG1-333...\n"
     ]
    },
    {
     "name": "stderr",
     "output_type": "stream",
     "text": [
      "parameter force2D must be set to True to enable shape2D extraction\n",
      "GLCM is symmetrical, therefore Sum Average = 2 * Joint Average, only 1 needs to be calculated\n"
     ]
    },
    {
     "name": "stdout",
     "output_type": "stream",
     "text": [
      "  > Success! Extracted 144 features.\n",
      "Processing patient: LUNG1-334...\n"
     ]
    },
    {
     "name": "stderr",
     "output_type": "stream",
     "text": [
      "parameter force2D must be set to True to enable shape2D extraction\n",
      "GLCM is symmetrical, therefore Sum Average = 2 * Joint Average, only 1 needs to be calculated\n"
     ]
    },
    {
     "name": "stdout",
     "output_type": "stream",
     "text": [
      "  > Success! Extracted 144 features.\n",
      "Processing patient: LUNG1-335...\n"
     ]
    },
    {
     "name": "stderr",
     "output_type": "stream",
     "text": [
      "parameter force2D must be set to True to enable shape2D extraction\n",
      "GLCM is symmetrical, therefore Sum Average = 2 * Joint Average, only 1 needs to be calculated\n"
     ]
    },
    {
     "name": "stdout",
     "output_type": "stream",
     "text": [
      "  > Success! Extracted 144 features.\n",
      "Processing patient: LUNG1-336...\n"
     ]
    },
    {
     "name": "stderr",
     "output_type": "stream",
     "text": [
      "parameter force2D must be set to True to enable shape2D extraction\n",
      "GLCM is symmetrical, therefore Sum Average = 2 * Joint Average, only 1 needs to be calculated\n"
     ]
    },
    {
     "name": "stdout",
     "output_type": "stream",
     "text": [
      "  > Success! Extracted 144 features.\n",
      "Processing patient: LUNG1-337...\n"
     ]
    },
    {
     "name": "stderr",
     "output_type": "stream",
     "text": [
      "parameter force2D must be set to True to enable shape2D extraction\n",
      "GLCM is symmetrical, therefore Sum Average = 2 * Joint Average, only 1 needs to be calculated\n"
     ]
    },
    {
     "name": "stdout",
     "output_type": "stream",
     "text": [
      "  > Success! Extracted 144 features.\n",
      "Processing patient: LUNG1-338...\n"
     ]
    },
    {
     "name": "stderr",
     "output_type": "stream",
     "text": [
      "parameter force2D must be set to True to enable shape2D extraction\n",
      "GLCM is symmetrical, therefore Sum Average = 2 * Joint Average, only 1 needs to be calculated\n"
     ]
    },
    {
     "name": "stdout",
     "output_type": "stream",
     "text": [
      "  > Success! Extracted 144 features.\n",
      "Processing patient: LUNG1-339...\n"
     ]
    },
    {
     "name": "stderr",
     "output_type": "stream",
     "text": [
      "parameter force2D must be set to True to enable shape2D extraction\n",
      "GLCM is symmetrical, therefore Sum Average = 2 * Joint Average, only 1 needs to be calculated\n"
     ]
    },
    {
     "name": "stdout",
     "output_type": "stream",
     "text": [
      "  > Success! Extracted 144 features.\n",
      "Processing patient: LUNG1-340...\n"
     ]
    },
    {
     "name": "stderr",
     "output_type": "stream",
     "text": [
      "parameter force2D must be set to True to enable shape2D extraction\n",
      "GLCM is symmetrical, therefore Sum Average = 2 * Joint Average, only 1 needs to be calculated\n"
     ]
    },
    {
     "name": "stdout",
     "output_type": "stream",
     "text": [
      "  > Success! Extracted 144 features.\n",
      "Processing patient: LUNG1-341...\n"
     ]
    },
    {
     "name": "stderr",
     "output_type": "stream",
     "text": [
      "parameter force2D must be set to True to enable shape2D extraction\n",
      "GLCM is symmetrical, therefore Sum Average = 2 * Joint Average, only 1 needs to be calculated\n"
     ]
    },
    {
     "name": "stdout",
     "output_type": "stream",
     "text": [
      "  > Success! Extracted 144 features.\n",
      "Processing patient: LUNG1-342...\n"
     ]
    },
    {
     "name": "stderr",
     "output_type": "stream",
     "text": [
      "parameter force2D must be set to True to enable shape2D extraction\n",
      "GLCM is symmetrical, therefore Sum Average = 2 * Joint Average, only 1 needs to be calculated\n"
     ]
    },
    {
     "name": "stdout",
     "output_type": "stream",
     "text": [
      "  > Success! Extracted 144 features.\n",
      "Processing patient: LUNG1-343...\n"
     ]
    },
    {
     "name": "stderr",
     "output_type": "stream",
     "text": [
      "parameter force2D must be set to True to enable shape2D extraction\n",
      "GLCM is symmetrical, therefore Sum Average = 2 * Joint Average, only 1 needs to be calculated\n"
     ]
    },
    {
     "name": "stdout",
     "output_type": "stream",
     "text": [
      "  > Success! Extracted 144 features.\n",
      "Processing patient: LUNG1-344...\n"
     ]
    },
    {
     "name": "stderr",
     "output_type": "stream",
     "text": [
      "parameter force2D must be set to True to enable shape2D extraction\n",
      "GLCM is symmetrical, therefore Sum Average = 2 * Joint Average, only 1 needs to be calculated\n"
     ]
    },
    {
     "name": "stdout",
     "output_type": "stream",
     "text": [
      "  > Success! Extracted 144 features.\n",
      "Processing patient: LUNG1-345...\n"
     ]
    },
    {
     "name": "stderr",
     "output_type": "stream",
     "text": [
      "parameter force2D must be set to True to enable shape2D extraction\n",
      "GLCM is symmetrical, therefore Sum Average = 2 * Joint Average, only 1 needs to be calculated\n"
     ]
    },
    {
     "name": "stdout",
     "output_type": "stream",
     "text": [
      "  > Success! Extracted 144 features.\n",
      "Processing patient: LUNG1-346...\n"
     ]
    },
    {
     "name": "stderr",
     "output_type": "stream",
     "text": [
      "parameter force2D must be set to True to enable shape2D extraction\n",
      "GLCM is symmetrical, therefore Sum Average = 2 * Joint Average, only 1 needs to be calculated\n"
     ]
    },
    {
     "name": "stdout",
     "output_type": "stream",
     "text": [
      "  > Success! Extracted 144 features.\n",
      "Processing patient: LUNG1-347...\n"
     ]
    },
    {
     "name": "stderr",
     "output_type": "stream",
     "text": [
      "parameter force2D must be set to True to enable shape2D extraction\n",
      "GLCM is symmetrical, therefore Sum Average = 2 * Joint Average, only 1 needs to be calculated\n"
     ]
    },
    {
     "name": "stdout",
     "output_type": "stream",
     "text": [
      "  > Success! Extracted 144 features.\n",
      "Processing patient: LUNG1-348...\n"
     ]
    },
    {
     "name": "stderr",
     "output_type": "stream",
     "text": [
      "parameter force2D must be set to True to enable shape2D extraction\n",
      "GLCM is symmetrical, therefore Sum Average = 2 * Joint Average, only 1 needs to be calculated\n"
     ]
    },
    {
     "name": "stdout",
     "output_type": "stream",
     "text": [
      "  > Success! Extracted 144 features.\n",
      "Processing patient: LUNG1-349...\n"
     ]
    },
    {
     "name": "stderr",
     "output_type": "stream",
     "text": [
      "parameter force2D must be set to True to enable shape2D extraction\n",
      "GLCM is symmetrical, therefore Sum Average = 2 * Joint Average, only 1 needs to be calculated\n"
     ]
    },
    {
     "name": "stdout",
     "output_type": "stream",
     "text": [
      "  > Success! Extracted 144 features.\n",
      "Processing patient: LUNG1-350...\n"
     ]
    },
    {
     "name": "stderr",
     "output_type": "stream",
     "text": [
      "parameter force2D must be set to True to enable shape2D extraction\n",
      "GLCM is symmetrical, therefore Sum Average = 2 * Joint Average, only 1 needs to be calculated\n"
     ]
    },
    {
     "name": "stdout",
     "output_type": "stream",
     "text": [
      "  > Success! Extracted 144 features.\n",
      "Processing patient: LUNG1-351...\n"
     ]
    },
    {
     "name": "stderr",
     "output_type": "stream",
     "text": [
      "parameter force2D must be set to True to enable shape2D extraction\n",
      "GLCM is symmetrical, therefore Sum Average = 2 * Joint Average, only 1 needs to be calculated\n"
     ]
    },
    {
     "name": "stdout",
     "output_type": "stream",
     "text": [
      "  > Success! Extracted 144 features.\n",
      "Processing patient: LUNG1-352...\n"
     ]
    },
    {
     "name": "stderr",
     "output_type": "stream",
     "text": [
      "parameter force2D must be set to True to enable shape2D extraction\n",
      "GLCM is symmetrical, therefore Sum Average = 2 * Joint Average, only 1 needs to be calculated\n"
     ]
    },
    {
     "name": "stdout",
     "output_type": "stream",
     "text": [
      "  > Success! Extracted 144 features.\n",
      "Processing patient: LUNG1-353...\n"
     ]
    },
    {
     "name": "stderr",
     "output_type": "stream",
     "text": [
      "parameter force2D must be set to True to enable shape2D extraction\n",
      "GLCM is symmetrical, therefore Sum Average = 2 * Joint Average, only 1 needs to be calculated\n"
     ]
    },
    {
     "name": "stdout",
     "output_type": "stream",
     "text": [
      "  > Success! Extracted 144 features.\n",
      "Processing patient: LUNG1-354...\n"
     ]
    },
    {
     "name": "stderr",
     "output_type": "stream",
     "text": [
      "parameter force2D must be set to True to enable shape2D extraction\n",
      "GLCM is symmetrical, therefore Sum Average = 2 * Joint Average, only 1 needs to be calculated\n"
     ]
    },
    {
     "name": "stdout",
     "output_type": "stream",
     "text": [
      "  > Success! Extracted 144 features.\n",
      "Processing patient: LUNG1-355...\n"
     ]
    },
    {
     "name": "stderr",
     "output_type": "stream",
     "text": [
      "parameter force2D must be set to True to enable shape2D extraction\n",
      "GLCM is symmetrical, therefore Sum Average = 2 * Joint Average, only 1 needs to be calculated\n"
     ]
    },
    {
     "name": "stdout",
     "output_type": "stream",
     "text": [
      "  > Success! Extracted 144 features.\n",
      "Processing patient: LUNG1-356...\n"
     ]
    },
    {
     "name": "stderr",
     "output_type": "stream",
     "text": [
      "parameter force2D must be set to True to enable shape2D extraction\n",
      "GLCM is symmetrical, therefore Sum Average = 2 * Joint Average, only 1 needs to be calculated\n"
     ]
    },
    {
     "name": "stdout",
     "output_type": "stream",
     "text": [
      "  > Success! Extracted 144 features.\n",
      "Processing patient: LUNG1-357...\n"
     ]
    },
    {
     "name": "stderr",
     "output_type": "stream",
     "text": [
      "parameter force2D must be set to True to enable shape2D extraction\n",
      "GLCM is symmetrical, therefore Sum Average = 2 * Joint Average, only 1 needs to be calculated\n"
     ]
    },
    {
     "name": "stdout",
     "output_type": "stream",
     "text": [
      "  > Success! Extracted 144 features.\n",
      "Processing patient: LUNG1-358...\n"
     ]
    },
    {
     "name": "stderr",
     "output_type": "stream",
     "text": [
      "parameter force2D must be set to True to enable shape2D extraction\n",
      "GLCM is symmetrical, therefore Sum Average = 2 * Joint Average, only 1 needs to be calculated\n"
     ]
    },
    {
     "name": "stdout",
     "output_type": "stream",
     "text": [
      "  > Success! Extracted 144 features.\n",
      "Processing patient: LUNG1-359...\n"
     ]
    },
    {
     "name": "stderr",
     "output_type": "stream",
     "text": [
      "parameter force2D must be set to True to enable shape2D extraction\n",
      "GLCM is symmetrical, therefore Sum Average = 2 * Joint Average, only 1 needs to be calculated\n"
     ]
    },
    {
     "name": "stdout",
     "output_type": "stream",
     "text": [
      "  > Success! Extracted 144 features.\n",
      "Processing patient: LUNG1-360...\n"
     ]
    },
    {
     "name": "stderr",
     "output_type": "stream",
     "text": [
      "parameter force2D must be set to True to enable shape2D extraction\n",
      "GLCM is symmetrical, therefore Sum Average = 2 * Joint Average, only 1 needs to be calculated\n"
     ]
    },
    {
     "name": "stdout",
     "output_type": "stream",
     "text": [
      "  > Success! Extracted 144 features.\n",
      "Processing patient: LUNG1-361...\n"
     ]
    },
    {
     "name": "stderr",
     "output_type": "stream",
     "text": [
      "parameter force2D must be set to True to enable shape2D extraction\n",
      "GLCM is symmetrical, therefore Sum Average = 2 * Joint Average, only 1 needs to be calculated\n"
     ]
    },
    {
     "name": "stdout",
     "output_type": "stream",
     "text": [
      "  > Success! Extracted 144 features.\n",
      "Processing patient: LUNG1-362...\n"
     ]
    },
    {
     "name": "stderr",
     "output_type": "stream",
     "text": [
      "parameter force2D must be set to True to enable shape2D extraction\n",
      "GLCM is symmetrical, therefore Sum Average = 2 * Joint Average, only 1 needs to be calculated\n"
     ]
    },
    {
     "name": "stdout",
     "output_type": "stream",
     "text": [
      "  > Success! Extracted 144 features.\n",
      "Processing patient: LUNG1-363...\n"
     ]
    },
    {
     "name": "stderr",
     "output_type": "stream",
     "text": [
      "parameter force2D must be set to True to enable shape2D extraction\n",
      "GLCM is symmetrical, therefore Sum Average = 2 * Joint Average, only 1 needs to be calculated\n"
     ]
    },
    {
     "name": "stdout",
     "output_type": "stream",
     "text": [
      "  > Success! Extracted 144 features.\n",
      "Processing patient: LUNG1-364...\n"
     ]
    },
    {
     "name": "stderr",
     "output_type": "stream",
     "text": [
      "parameter force2D must be set to True to enable shape2D extraction\n",
      "GLCM is symmetrical, therefore Sum Average = 2 * Joint Average, only 1 needs to be calculated\n"
     ]
    },
    {
     "name": "stdout",
     "output_type": "stream",
     "text": [
      "  > Success! Extracted 144 features.\n",
      "Processing patient: LUNG1-365...\n"
     ]
    },
    {
     "name": "stderr",
     "output_type": "stream",
     "text": [
      "parameter force2D must be set to True to enable shape2D extraction\n",
      "GLCM is symmetrical, therefore Sum Average = 2 * Joint Average, only 1 needs to be calculated\n"
     ]
    },
    {
     "name": "stdout",
     "output_type": "stream",
     "text": [
      "  > Success! Extracted 144 features.\n",
      "Processing patient: LUNG1-366...\n"
     ]
    },
    {
     "name": "stderr",
     "output_type": "stream",
     "text": [
      "parameter force2D must be set to True to enable shape2D extraction\n",
      "GLCM is symmetrical, therefore Sum Average = 2 * Joint Average, only 1 needs to be calculated\n"
     ]
    },
    {
     "name": "stdout",
     "output_type": "stream",
     "text": [
      "  > Success! Extracted 144 features.\n",
      "Processing patient: LUNG1-367...\n"
     ]
    },
    {
     "name": "stderr",
     "output_type": "stream",
     "text": [
      "parameter force2D must be set to True to enable shape2D extraction\n",
      "GLCM is symmetrical, therefore Sum Average = 2 * Joint Average, only 1 needs to be calculated\n"
     ]
    },
    {
     "name": "stdout",
     "output_type": "stream",
     "text": [
      "  > Success! Extracted 144 features.\n",
      "Processing patient: LUNG1-368...\n"
     ]
    },
    {
     "name": "stderr",
     "output_type": "stream",
     "text": [
      "parameter force2D must be set to True to enable shape2D extraction\n",
      "GLCM is symmetrical, therefore Sum Average = 2 * Joint Average, only 1 needs to be calculated\n"
     ]
    },
    {
     "name": "stdout",
     "output_type": "stream",
     "text": [
      "  > Success! Extracted 144 features.\n",
      "Processing patient: LUNG1-369...\n"
     ]
    },
    {
     "name": "stderr",
     "output_type": "stream",
     "text": [
      "parameter force2D must be set to True to enable shape2D extraction\n",
      "GLCM is symmetrical, therefore Sum Average = 2 * Joint Average, only 1 needs to be calculated\n"
     ]
    },
    {
     "name": "stdout",
     "output_type": "stream",
     "text": [
      "  > Success! Extracted 144 features.\n",
      "Processing patient: LUNG1-370...\n"
     ]
    },
    {
     "name": "stderr",
     "output_type": "stream",
     "text": [
      "parameter force2D must be set to True to enable shape2D extraction\n",
      "GLCM is symmetrical, therefore Sum Average = 2 * Joint Average, only 1 needs to be calculated\n"
     ]
    },
    {
     "name": "stdout",
     "output_type": "stream",
     "text": [
      "  > Success! Extracted 144 features.\n",
      "Processing patient: LUNG1-371...\n"
     ]
    },
    {
     "name": "stderr",
     "output_type": "stream",
     "text": [
      "parameter force2D must be set to True to enable shape2D extraction\n",
      "GLCM is symmetrical, therefore Sum Average = 2 * Joint Average, only 1 needs to be calculated\n"
     ]
    },
    {
     "name": "stdout",
     "output_type": "stream",
     "text": [
      "  > Success! Extracted 144 features.\n",
      "Processing patient: LUNG1-372...\n"
     ]
    },
    {
     "name": "stderr",
     "output_type": "stream",
     "text": [
      "parameter force2D must be set to True to enable shape2D extraction\n",
      "GLCM is symmetrical, therefore Sum Average = 2 * Joint Average, only 1 needs to be calculated\n"
     ]
    },
    {
     "name": "stdout",
     "output_type": "stream",
     "text": [
      "  > Success! Extracted 144 features.\n",
      "Processing patient: LUNG1-373...\n"
     ]
    },
    {
     "name": "stderr",
     "output_type": "stream",
     "text": [
      "parameter force2D must be set to True to enable shape2D extraction\n",
      "GLCM is symmetrical, therefore Sum Average = 2 * Joint Average, only 1 needs to be calculated\n"
     ]
    },
    {
     "name": "stdout",
     "output_type": "stream",
     "text": [
      "  > Success! Extracted 144 features.\n",
      "Processing patient: LUNG1-374...\n"
     ]
    },
    {
     "name": "stderr",
     "output_type": "stream",
     "text": [
      "parameter force2D must be set to True to enable shape2D extraction\n",
      "GLCM is symmetrical, therefore Sum Average = 2 * Joint Average, only 1 needs to be calculated\n"
     ]
    },
    {
     "name": "stdout",
     "output_type": "stream",
     "text": [
      "  > Success! Extracted 144 features.\n",
      "Processing patient: LUNG1-375...\n"
     ]
    },
    {
     "name": "stderr",
     "output_type": "stream",
     "text": [
      "parameter force2D must be set to True to enable shape2D extraction\n",
      "GLCM is symmetrical, therefore Sum Average = 2 * Joint Average, only 1 needs to be calculated\n"
     ]
    },
    {
     "name": "stdout",
     "output_type": "stream",
     "text": [
      "  > Success! Extracted 144 features.\n",
      "Processing patient: LUNG1-376...\n"
     ]
    },
    {
     "name": "stderr",
     "output_type": "stream",
     "text": [
      "parameter force2D must be set to True to enable shape2D extraction\n",
      "GLCM is symmetrical, therefore Sum Average = 2 * Joint Average, only 1 needs to be calculated\n"
     ]
    },
    {
     "name": "stdout",
     "output_type": "stream",
     "text": [
      "  > Success! Extracted 144 features.\n",
      "Processing patient: LUNG1-377...\n"
     ]
    },
    {
     "name": "stderr",
     "output_type": "stream",
     "text": [
      "parameter force2D must be set to True to enable shape2D extraction\n",
      "GLCM is symmetrical, therefore Sum Average = 2 * Joint Average, only 1 needs to be calculated\n"
     ]
    },
    {
     "name": "stdout",
     "output_type": "stream",
     "text": [
      "  > Success! Extracted 144 features.\n",
      "Processing patient: LUNG1-378...\n"
     ]
    },
    {
     "name": "stderr",
     "output_type": "stream",
     "text": [
      "parameter force2D must be set to True to enable shape2D extraction\n",
      "GLCM is symmetrical, therefore Sum Average = 2 * Joint Average, only 1 needs to be calculated\n"
     ]
    },
    {
     "name": "stdout",
     "output_type": "stream",
     "text": [
      "  > Success! Extracted 144 features.\n",
      "Processing patient: LUNG1-379...\n"
     ]
    },
    {
     "name": "stderr",
     "output_type": "stream",
     "text": [
      "parameter force2D must be set to True to enable shape2D extraction\n",
      "GLCM is symmetrical, therefore Sum Average = 2 * Joint Average, only 1 needs to be calculated\n"
     ]
    },
    {
     "name": "stdout",
     "output_type": "stream",
     "text": [
      "  > Success! Extracted 144 features.\n",
      "Processing patient: LUNG1-380...\n"
     ]
    },
    {
     "name": "stderr",
     "output_type": "stream",
     "text": [
      "parameter force2D must be set to True to enable shape2D extraction\n",
      "GLCM is symmetrical, therefore Sum Average = 2 * Joint Average, only 1 needs to be calculated\n"
     ]
    },
    {
     "name": "stdout",
     "output_type": "stream",
     "text": [
      "  > Success! Extracted 144 features.\n",
      "Processing patient: LUNG1-381...\n"
     ]
    },
    {
     "name": "stderr",
     "output_type": "stream",
     "text": [
      "parameter force2D must be set to True to enable shape2D extraction\n",
      "GLCM is symmetrical, therefore Sum Average = 2 * Joint Average, only 1 needs to be calculated\n"
     ]
    },
    {
     "name": "stdout",
     "output_type": "stream",
     "text": [
      "  > Success! Extracted 144 features.\n",
      "Processing patient: LUNG1-382...\n"
     ]
    },
    {
     "name": "stderr",
     "output_type": "stream",
     "text": [
      "parameter force2D must be set to True to enable shape2D extraction\n",
      "GLCM is symmetrical, therefore Sum Average = 2 * Joint Average, only 1 needs to be calculated\n"
     ]
    },
    {
     "name": "stdout",
     "output_type": "stream",
     "text": [
      "  > Success! Extracted 144 features.\n",
      "Processing patient: LUNG1-383...\n"
     ]
    },
    {
     "name": "stderr",
     "output_type": "stream",
     "text": [
      "parameter force2D must be set to True to enable shape2D extraction\n",
      "GLCM is symmetrical, therefore Sum Average = 2 * Joint Average, only 1 needs to be calculated\n"
     ]
    },
    {
     "name": "stdout",
     "output_type": "stream",
     "text": [
      "  > Success! Extracted 144 features.\n",
      "Processing patient: LUNG1-384...\n"
     ]
    },
    {
     "name": "stderr",
     "output_type": "stream",
     "text": [
      "parameter force2D must be set to True to enable shape2D extraction\n",
      "GLCM is symmetrical, therefore Sum Average = 2 * Joint Average, only 1 needs to be calculated\n"
     ]
    },
    {
     "name": "stdout",
     "output_type": "stream",
     "text": [
      "  > Success! Extracted 144 features.\n",
      "Processing patient: LUNG1-385...\n"
     ]
    },
    {
     "name": "stderr",
     "output_type": "stream",
     "text": [
      "parameter force2D must be set to True to enable shape2D extraction\n",
      "GLCM is symmetrical, therefore Sum Average = 2 * Joint Average, only 1 needs to be calculated\n"
     ]
    },
    {
     "name": "stdout",
     "output_type": "stream",
     "text": [
      "  > Success! Extracted 144 features.\n",
      "Processing patient: LUNG1-386...\n"
     ]
    },
    {
     "name": "stderr",
     "output_type": "stream",
     "text": [
      "parameter force2D must be set to True to enable shape2D extraction\n",
      "GLCM is symmetrical, therefore Sum Average = 2 * Joint Average, only 1 needs to be calculated\n"
     ]
    },
    {
     "name": "stdout",
     "output_type": "stream",
     "text": [
      "  > Success! Extracted 144 features.\n",
      "Processing patient: LUNG1-387...\n"
     ]
    },
    {
     "name": "stderr",
     "output_type": "stream",
     "text": [
      "parameter force2D must be set to True to enable shape2D extraction\n",
      "GLCM is symmetrical, therefore Sum Average = 2 * Joint Average, only 1 needs to be calculated\n"
     ]
    },
    {
     "name": "stdout",
     "output_type": "stream",
     "text": [
      "  > Success! Extracted 144 features.\n",
      "Processing patient: LUNG1-388...\n"
     ]
    },
    {
     "name": "stderr",
     "output_type": "stream",
     "text": [
      "parameter force2D must be set to True to enable shape2D extraction\n",
      "GLCM is symmetrical, therefore Sum Average = 2 * Joint Average, only 1 needs to be calculated\n"
     ]
    },
    {
     "name": "stdout",
     "output_type": "stream",
     "text": [
      "  > Success! Extracted 144 features.\n",
      "Processing patient: LUNG1-389...\n"
     ]
    },
    {
     "name": "stderr",
     "output_type": "stream",
     "text": [
      "parameter force2D must be set to True to enable shape2D extraction\n",
      "GLCM is symmetrical, therefore Sum Average = 2 * Joint Average, only 1 needs to be calculated\n"
     ]
    },
    {
     "name": "stdout",
     "output_type": "stream",
     "text": [
      "  > Success! Extracted 144 features.\n",
      "Processing patient: LUNG1-390...\n"
     ]
    },
    {
     "name": "stderr",
     "output_type": "stream",
     "text": [
      "parameter force2D must be set to True to enable shape2D extraction\n",
      "GLCM is symmetrical, therefore Sum Average = 2 * Joint Average, only 1 needs to be calculated\n"
     ]
    },
    {
     "name": "stdout",
     "output_type": "stream",
     "text": [
      "  > Success! Extracted 144 features.\n",
      "Processing patient: LUNG1-391...\n"
     ]
    },
    {
     "name": "stderr",
     "output_type": "stream",
     "text": [
      "parameter force2D must be set to True to enable shape2D extraction\n",
      "GLCM is symmetrical, therefore Sum Average = 2 * Joint Average, only 1 needs to be calculated\n"
     ]
    },
    {
     "name": "stdout",
     "output_type": "stream",
     "text": [
      "  > Success! Extracted 144 features.\n",
      "Processing patient: LUNG1-392...\n"
     ]
    },
    {
     "name": "stderr",
     "output_type": "stream",
     "text": [
      "parameter force2D must be set to True to enable shape2D extraction\n",
      "GLCM is symmetrical, therefore Sum Average = 2 * Joint Average, only 1 needs to be calculated\n"
     ]
    },
    {
     "name": "stdout",
     "output_type": "stream",
     "text": [
      "  > Success! Extracted 144 features.\n",
      "Processing patient: LUNG1-393...\n"
     ]
    },
    {
     "name": "stderr",
     "output_type": "stream",
     "text": [
      "parameter force2D must be set to True to enable shape2D extraction\n",
      "GLCM is symmetrical, therefore Sum Average = 2 * Joint Average, only 1 needs to be calculated\n"
     ]
    },
    {
     "name": "stdout",
     "output_type": "stream",
     "text": [
      "  > Success! Extracted 144 features.\n",
      "Processing patient: LUNG1-394...\n"
     ]
    },
    {
     "name": "stderr",
     "output_type": "stream",
     "text": [
      "parameter force2D must be set to True to enable shape2D extraction\n",
      "GLCM is symmetrical, therefore Sum Average = 2 * Joint Average, only 1 needs to be calculated\n"
     ]
    },
    {
     "name": "stdout",
     "output_type": "stream",
     "text": [
      "  > Success! Extracted 144 features.\n",
      "Processing patient: LUNG1-395...\n"
     ]
    },
    {
     "name": "stderr",
     "output_type": "stream",
     "text": [
      "parameter force2D must be set to True to enable shape2D extraction\n",
      "GLCM is symmetrical, therefore Sum Average = 2 * Joint Average, only 1 needs to be calculated\n"
     ]
    },
    {
     "name": "stdout",
     "output_type": "stream",
     "text": [
      "  > Success! Extracted 144 features.\n",
      "Processing patient: LUNG1-396...\n"
     ]
    },
    {
     "name": "stderr",
     "output_type": "stream",
     "text": [
      "parameter force2D must be set to True to enable shape2D extraction\n",
      "GLCM is symmetrical, therefore Sum Average = 2 * Joint Average, only 1 needs to be calculated\n"
     ]
    },
    {
     "name": "stdout",
     "output_type": "stream",
     "text": [
      "  > Success! Extracted 144 features.\n",
      "Processing patient: LUNG1-397...\n"
     ]
    },
    {
     "name": "stderr",
     "output_type": "stream",
     "text": [
      "parameter force2D must be set to True to enable shape2D extraction\n",
      "GLCM is symmetrical, therefore Sum Average = 2 * Joint Average, only 1 needs to be calculated\n"
     ]
    },
    {
     "name": "stdout",
     "output_type": "stream",
     "text": [
      "  > Success! Extracted 144 features.\n",
      "Processing patient: LUNG1-398...\n"
     ]
    },
    {
     "name": "stderr",
     "output_type": "stream",
     "text": [
      "parameter force2D must be set to True to enable shape2D extraction\n",
      "GLCM is symmetrical, therefore Sum Average = 2 * Joint Average, only 1 needs to be calculated\n"
     ]
    },
    {
     "name": "stdout",
     "output_type": "stream",
     "text": [
      "  > Success! Extracted 144 features.\n",
      "Processing patient: LUNG1-399...\n"
     ]
    },
    {
     "name": "stderr",
     "output_type": "stream",
     "text": [
      "parameter force2D must be set to True to enable shape2D extraction\n",
      "GLCM is symmetrical, therefore Sum Average = 2 * Joint Average, only 1 needs to be calculated\n"
     ]
    },
    {
     "name": "stdout",
     "output_type": "stream",
     "text": [
      "  > Success! Extracted 144 features.\n",
      "Processing patient: LUNG1-400...\n"
     ]
    },
    {
     "name": "stderr",
     "output_type": "stream",
     "text": [
      "parameter force2D must be set to True to enable shape2D extraction\n",
      "GLCM is symmetrical, therefore Sum Average = 2 * Joint Average, only 1 needs to be calculated\n"
     ]
    },
    {
     "name": "stdout",
     "output_type": "stream",
     "text": [
      "  > Success! Extracted 144 features.\n",
      "Processing patient: LUNG1-401...\n"
     ]
    },
    {
     "name": "stderr",
     "output_type": "stream",
     "text": [
      "parameter force2D must be set to True to enable shape2D extraction\n",
      "GLCM is symmetrical, therefore Sum Average = 2 * Joint Average, only 1 needs to be calculated\n"
     ]
    },
    {
     "name": "stdout",
     "output_type": "stream",
     "text": [
      "  > Success! Extracted 144 features.\n",
      "Processing patient: LUNG1-402...\n"
     ]
    },
    {
     "name": "stderr",
     "output_type": "stream",
     "text": [
      "parameter force2D must be set to True to enable shape2D extraction\n",
      "GLCM is symmetrical, therefore Sum Average = 2 * Joint Average, only 1 needs to be calculated\n"
     ]
    },
    {
     "name": "stdout",
     "output_type": "stream",
     "text": [
      "  > Success! Extracted 144 features.\n",
      "Processing patient: LUNG1-403...\n"
     ]
    },
    {
     "name": "stderr",
     "output_type": "stream",
     "text": [
      "parameter force2D must be set to True to enable shape2D extraction\n",
      "GLCM is symmetrical, therefore Sum Average = 2 * Joint Average, only 1 needs to be calculated\n"
     ]
    },
    {
     "name": "stdout",
     "output_type": "stream",
     "text": [
      "  > Success! Extracted 144 features.\n",
      "Processing patient: LUNG1-404...\n"
     ]
    },
    {
     "name": "stderr",
     "output_type": "stream",
     "text": [
      "parameter force2D must be set to True to enable shape2D extraction\n",
      "GLCM is symmetrical, therefore Sum Average = 2 * Joint Average, only 1 needs to be calculated\n"
     ]
    },
    {
     "name": "stdout",
     "output_type": "stream",
     "text": [
      "  > Success! Extracted 144 features.\n",
      "Processing patient: LUNG1-405...\n"
     ]
    },
    {
     "name": "stderr",
     "output_type": "stream",
     "text": [
      "parameter force2D must be set to True to enable shape2D extraction\n",
      "GLCM is symmetrical, therefore Sum Average = 2 * Joint Average, only 1 needs to be calculated\n"
     ]
    },
    {
     "name": "stdout",
     "output_type": "stream",
     "text": [
      "  > Success! Extracted 144 features.\n",
      "Processing patient: LUNG1-406...\n"
     ]
    },
    {
     "name": "stderr",
     "output_type": "stream",
     "text": [
      "parameter force2D must be set to True to enable shape2D extraction\n",
      "GLCM is symmetrical, therefore Sum Average = 2 * Joint Average, only 1 needs to be calculated\n"
     ]
    },
    {
     "name": "stdout",
     "output_type": "stream",
     "text": [
      "  > Success! Extracted 144 features.\n",
      "Processing patient: LUNG1-407...\n"
     ]
    },
    {
     "name": "stderr",
     "output_type": "stream",
     "text": [
      "parameter force2D must be set to True to enable shape2D extraction\n",
      "GLCM is symmetrical, therefore Sum Average = 2 * Joint Average, only 1 needs to be calculated\n"
     ]
    },
    {
     "name": "stdout",
     "output_type": "stream",
     "text": [
      "  > Success! Extracted 144 features.\n",
      "Processing patient: LUNG1-408...\n"
     ]
    },
    {
     "name": "stderr",
     "output_type": "stream",
     "text": [
      "parameter force2D must be set to True to enable shape2D extraction\n",
      "GLCM is symmetrical, therefore Sum Average = 2 * Joint Average, only 1 needs to be calculated\n"
     ]
    },
    {
     "name": "stdout",
     "output_type": "stream",
     "text": [
      "  > Success! Extracted 144 features.\n",
      "Processing patient: LUNG1-409...\n"
     ]
    },
    {
     "name": "stderr",
     "output_type": "stream",
     "text": [
      "parameter force2D must be set to True to enable shape2D extraction\n",
      "GLCM is symmetrical, therefore Sum Average = 2 * Joint Average, only 1 needs to be calculated\n"
     ]
    },
    {
     "name": "stdout",
     "output_type": "stream",
     "text": [
      "  > Success! Extracted 144 features.\n",
      "Processing patient: LUNG1-410...\n"
     ]
    },
    {
     "name": "stderr",
     "output_type": "stream",
     "text": [
      "parameter force2D must be set to True to enable shape2D extraction\n",
      "GLCM is symmetrical, therefore Sum Average = 2 * Joint Average, only 1 needs to be calculated\n"
     ]
    },
    {
     "name": "stdout",
     "output_type": "stream",
     "text": [
      "  > Success! Extracted 144 features.\n",
      "Processing patient: LUNG1-411...\n"
     ]
    },
    {
     "name": "stderr",
     "output_type": "stream",
     "text": [
      "parameter force2D must be set to True to enable shape2D extraction\n",
      "GLCM is symmetrical, therefore Sum Average = 2 * Joint Average, only 1 needs to be calculated\n"
     ]
    },
    {
     "name": "stdout",
     "output_type": "stream",
     "text": [
      "  > Success! Extracted 144 features.\n",
      "Processing patient: LUNG1-412...\n"
     ]
    },
    {
     "name": "stderr",
     "output_type": "stream",
     "text": [
      "parameter force2D must be set to True to enable shape2D extraction\n",
      "GLCM is symmetrical, therefore Sum Average = 2 * Joint Average, only 1 needs to be calculated\n"
     ]
    },
    {
     "name": "stdout",
     "output_type": "stream",
     "text": [
      "  > Success! Extracted 144 features.\n",
      "Processing patient: LUNG1-413...\n"
     ]
    },
    {
     "name": "stderr",
     "output_type": "stream",
     "text": [
      "parameter force2D must be set to True to enable shape2D extraction\n",
      "GLCM is symmetrical, therefore Sum Average = 2 * Joint Average, only 1 needs to be calculated\n"
     ]
    },
    {
     "name": "stdout",
     "output_type": "stream",
     "text": [
      "  > Success! Extracted 144 features.\n",
      "Processing patient: LUNG1-414...\n"
     ]
    },
    {
     "name": "stderr",
     "output_type": "stream",
     "text": [
      "parameter force2D must be set to True to enable shape2D extraction\n",
      "GLCM is symmetrical, therefore Sum Average = 2 * Joint Average, only 1 needs to be calculated\n"
     ]
    },
    {
     "name": "stdout",
     "output_type": "stream",
     "text": [
      "  > Success! Extracted 144 features.\n",
      "Processing patient: LUNG1-415...\n"
     ]
    },
    {
     "name": "stderr",
     "output_type": "stream",
     "text": [
      "parameter force2D must be set to True to enable shape2D extraction\n",
      "GLCM is symmetrical, therefore Sum Average = 2 * Joint Average, only 1 needs to be calculated\n"
     ]
    },
    {
     "name": "stdout",
     "output_type": "stream",
     "text": [
      "  > Success! Extracted 144 features.\n",
      "Processing patient: LUNG1-416...\n"
     ]
    },
    {
     "name": "stderr",
     "output_type": "stream",
     "text": [
      "parameter force2D must be set to True to enable shape2D extraction\n",
      "GLCM is symmetrical, therefore Sum Average = 2 * Joint Average, only 1 needs to be calculated\n"
     ]
    },
    {
     "name": "stdout",
     "output_type": "stream",
     "text": [
      "  > Success! Extracted 144 features.\n",
      "Processing patient: LUNG1-417...\n"
     ]
    },
    {
     "name": "stderr",
     "output_type": "stream",
     "text": [
      "parameter force2D must be set to True to enable shape2D extraction\n",
      "GLCM is symmetrical, therefore Sum Average = 2 * Joint Average, only 1 needs to be calculated\n"
     ]
    },
    {
     "name": "stdout",
     "output_type": "stream",
     "text": [
      "  > Success! Extracted 144 features.\n",
      "Processing patient: LUNG1-418...\n"
     ]
    },
    {
     "name": "stderr",
     "output_type": "stream",
     "text": [
      "parameter force2D must be set to True to enable shape2D extraction\n",
      "GLCM is symmetrical, therefore Sum Average = 2 * Joint Average, only 1 needs to be calculated\n"
     ]
    },
    {
     "name": "stdout",
     "output_type": "stream",
     "text": [
      "  > Success! Extracted 144 features.\n",
      "Processing patient: LUNG1-419...\n"
     ]
    },
    {
     "name": "stderr",
     "output_type": "stream",
     "text": [
      "parameter force2D must be set to True to enable shape2D extraction\n",
      "GLCM is symmetrical, therefore Sum Average = 2 * Joint Average, only 1 needs to be calculated\n"
     ]
    },
    {
     "name": "stdout",
     "output_type": "stream",
     "text": [
      "  > Success! Extracted 144 features.\n",
      "Processing patient: LUNG1-420...\n"
     ]
    },
    {
     "name": "stderr",
     "output_type": "stream",
     "text": [
      "parameter force2D must be set to True to enable shape2D extraction\n",
      "GLCM is symmetrical, therefore Sum Average = 2 * Joint Average, only 1 needs to be calculated\n"
     ]
    },
    {
     "name": "stdout",
     "output_type": "stream",
     "text": [
      "  > Success! Extracted 144 features.\n",
      "Processing patient: LUNG1-421...\n"
     ]
    },
    {
     "name": "stderr",
     "output_type": "stream",
     "text": [
      "parameter force2D must be set to True to enable shape2D extraction\n",
      "GLCM is symmetrical, therefore Sum Average = 2 * Joint Average, only 1 needs to be calculated\n"
     ]
    },
    {
     "name": "stdout",
     "output_type": "stream",
     "text": [
      "  > Success! Extracted 144 features.\n",
      "Processing patient: LUNG1-422...\n"
     ]
    },
    {
     "name": "stderr",
     "output_type": "stream",
     "text": [
      "parameter force2D must be set to True to enable shape2D extraction\n",
      "GLCM is symmetrical, therefore Sum Average = 2 * Joint Average, only 1 needs to be calculated\n"
     ]
    },
    {
     "name": "stdout",
     "output_type": "stream",
     "text": [
      "  > Success! Extracted 144 features.\n",
      "\n",
      "Feature extraction complete.\n"
     ]
    }
   ],
   "source": [
    "# --- Main Loop ---\n",
    "\n",
    "# This will store the results for all patients\n",
    "all_features = []\n",
    "\n",
    "# Geting a sorted list of all patient folders\n",
    "patient_folders = sorted([f for f in os.listdir(data_base_path) if os.path.isdir(os.path.join(data_base_path, f))])\n",
    "\n",
    "print(f\"Found {len(patient_folders)} patients. Starting extraction...\")\n",
    "\n",
    "# Looping through each patient folder\n",
    "\n",
    "for patient_id in patient_folders:\n",
    "    print(f\"Processing patient: {patient_id}...\")\n",
    "    patient_path = os.path.join(data_base_path, patient_id)\n",
    "    \n",
    "    # --- Step 1: Find Image and Mask files (using our robust logic from Task 03) ---\n",
    "\n",
    "    image_series_path = ''\n",
    "    mask_file_path = ''\n",
    "\n",
    "    # Walking through all the directories and files inside the patient folder\n",
    "    # to find the image series and mask file\n",
    "    for root, dirs, files in os.walk(patient_path):\n",
    "        if 'SEGMENTATION' in root.upper():\n",
    "            # If I find a segmentation folder, I assume it contains the mask\n",
    "            if files: mask_file_path = os.path.join(root, files[0])\n",
    "\n",
    "        if len(files) > 50 and files[0].endswith('.dcm'):\n",
    "            # If I find a folder with more than 50 DICOM files, I assume it's the image series\n",
    "            image_series_path = root\n",
    "\n",
    "    # --- Step 2: Load and Resample (if paths were found) ---\n",
    "\n",
    "    if image_series_path and mask_file_path:\n",
    "        try:\n",
    "            \n",
    "            # Load image\n",
    "            image_reader = sitk.ImageSeriesReader()\n",
    "            dicom_names = image_reader.GetGDCMSeriesFileNames(image_series_path)\n",
    "            image_reader.SetFileNames(dicom_names)\n",
    "            image_3d = image_reader.Execute()\n",
    "\n",
    "            # Load mask\n",
    "            mask_3d = sitk.ReadImage(mask_file_path)\n",
    "\n",
    "            # Resample mask to match image\n",
    "            resampler = sitk.ResampleImageFilter()\n",
    "            resampler.SetReferenceImage(image_3d)\n",
    "            resampler.SetInterpolator(sitk.sitkNearestNeighbor)\n",
    "            resampled_mask_3d = resampler.Execute(mask_3d)\n",
    "\n",
    "            # --- Step 3: Extract Features ---\n",
    "            # The extractor takes the image and the resampled mask\n",
    "            # It's crucial to use the original image and the resampled mask, not the original mask\n",
    "            feature_vector = extractor.execute(image_3d, resampled_mask_3d, label=255)\n",
    "            \n",
    "            # Add the patient ID to our results\n",
    "            feature_vector['PatientID'] = patient_id\n",
    "            all_features.append(feature_vector)\n",
    "            \n",
    "            print(f\"  > Success! Extracted {len(feature_vector)-1} features.\")\n",
    "\n",
    "        except Exception as e:\n",
    "            print(f\"  > FAILED for patient {patient_id}. Error: {e}\")\n",
    "    else:\n",
    "        print(f\"  > FAILED for patient {patient_id}. Could not find image or mask path.\")\n",
    "\n",
    "print(\"\\nFeature extraction complete.\")"
   ]
  },
  {
   "cell_type": "code",
   "execution_count": 5,
   "id": "10201461",
   "metadata": {},
   "outputs": [
    {
     "name": "stdout",
     "output_type": "stream",
     "text": [
      "Successfully saved 421 patient records to:\n",
      "d:\\Thesis_Project\\Results\\radiomics_features.csv\n"
     ]
    },
    {
     "data": {
      "text/html": [
       "<div>\n",
       "<style scoped>\n",
       "    .dataframe tbody tr th:only-of-type {\n",
       "        vertical-align: middle;\n",
       "    }\n",
       "\n",
       "    .dataframe tbody tr th {\n",
       "        vertical-align: top;\n",
       "    }\n",
       "\n",
       "    .dataframe thead th {\n",
       "        text-align: right;\n",
       "    }\n",
       "</style>\n",
       "<table border=\"1\" class=\"dataframe\">\n",
       "  <thead>\n",
       "    <tr style=\"text-align: right;\">\n",
       "      <th></th>\n",
       "      <th>PatientID</th>\n",
       "      <th>diagnostics_Versions_PyRadiomics</th>\n",
       "      <th>diagnostics_Versions_Numpy</th>\n",
       "      <th>diagnostics_Versions_SimpleITK</th>\n",
       "      <th>diagnostics_Versions_PyWavelet</th>\n",
       "      <th>diagnostics_Versions_Python</th>\n",
       "      <th>diagnostics_Configuration_Settings</th>\n",
       "      <th>diagnostics_Configuration_EnabledImageTypes</th>\n",
       "      <th>diagnostics_Image-original_Hash</th>\n",
       "      <th>diagnostics_Image-original_Dimensionality</th>\n",
       "      <th>...</th>\n",
       "      <th>original_glszm_SmallAreaHighGrayLevelEmphasis</th>\n",
       "      <th>original_glszm_SmallAreaLowGrayLevelEmphasis</th>\n",
       "      <th>original_glszm_ZoneEntropy</th>\n",
       "      <th>original_glszm_ZonePercentage</th>\n",
       "      <th>original_glszm_ZoneVariance</th>\n",
       "      <th>original_ngtdm_Busyness</th>\n",
       "      <th>original_ngtdm_Coarseness</th>\n",
       "      <th>original_ngtdm_Complexity</th>\n",
       "      <th>original_ngtdm_Contrast</th>\n",
       "      <th>original_ngtdm_Strength</th>\n",
       "    </tr>\n",
       "  </thead>\n",
       "  <tbody>\n",
       "    <tr>\n",
       "      <th>0</th>\n",
       "      <td>LUNG1-001</td>\n",
       "      <td>v3.0.1</td>\n",
       "      <td>2.2.6</td>\n",
       "      <td>2.5.2</td>\n",
       "      <td>1.8.0</td>\n",
       "      <td>3.10.18</td>\n",
       "      <td>{'minimumROIDimensions': 2, 'minimumROISize': ...</td>\n",
       "      <td>{'Original': {}}</td>\n",
       "      <td>b4175e0d6ddff17507e30c05c6e7302c2b9668f4</td>\n",
       "      <td>3D</td>\n",
       "      <td>...</td>\n",
       "      <td>974.3968868560783</td>\n",
       "      <td>0.0012217040883470618</td>\n",
       "      <td>8.354220960978468</td>\n",
       "      <td>0.09712593876372039</td>\n",
       "      <td>340295.02098699583</td>\n",
       "      <td>11.298544945318655</td>\n",
       "      <td>1.4698658219887565e-05</td>\n",
       "      <td>6179.411678264663</td>\n",
       "      <td>0.04832815861023239</td>\n",
       "      <td>0.18810135440340525</td>\n",
       "    </tr>\n",
       "    <tr>\n",
       "      <th>1</th>\n",
       "      <td>LUNG1-002</td>\n",
       "      <td>v3.0.1</td>\n",
       "      <td>2.2.6</td>\n",
       "      <td>2.5.2</td>\n",
       "      <td>1.8.0</td>\n",
       "      <td>3.10.18</td>\n",
       "      <td>{'minimumROIDimensions': 2, 'minimumROISize': ...</td>\n",
       "      <td>{'Original': {}}</td>\n",
       "      <td>5c66c70353901fd238191b88a2584cd8c3f645e5</td>\n",
       "      <td>3D</td>\n",
       "      <td>...</td>\n",
       "      <td>801.965399244845</td>\n",
       "      <td>0.0014035581231717656</td>\n",
       "      <td>8.10932092162548</td>\n",
       "      <td>0.1394304445325397</td>\n",
       "      <td>38878.35473106718</td>\n",
       "      <td>4.0953664654888655</td>\n",
       "      <td>5.86909917257305e-05</td>\n",
       "      <td>4744.542628527841</td>\n",
       "      <td>0.09340931019816005</td>\n",
       "      <td>0.25842490143353464</td>\n",
       "    </tr>\n",
       "    <tr>\n",
       "      <th>2</th>\n",
       "      <td>LUNG1-003</td>\n",
       "      <td>v3.0.1</td>\n",
       "      <td>2.2.6</td>\n",
       "      <td>2.5.2</td>\n",
       "      <td>1.8.0</td>\n",
       "      <td>3.10.18</td>\n",
       "      <td>{'minimumROIDimensions': 2, 'minimumROISize': ...</td>\n",
       "      <td>{'Original': {}}</td>\n",
       "      <td>9a2b123cabcc00593e4255d41cbef78f0cb63630</td>\n",
       "      <td>3D</td>\n",
       "      <td>...</td>\n",
       "      <td>1338.700821914673</td>\n",
       "      <td>0.003880429318442169</td>\n",
       "      <td>8.361764040606204</td>\n",
       "      <td>0.07780431526535239</td>\n",
       "      <td>460685.553449732</td>\n",
       "      <td>4.358217959833733</td>\n",
       "      <td>4.8227735366151494e-05</td>\n",
       "      <td>6626.985903168955</td>\n",
       "      <td>0.07202148319412406</td>\n",
       "      <td>1.569060887336299</td>\n",
       "    </tr>\n",
       "    <tr>\n",
       "      <th>3</th>\n",
       "      <td>LUNG1-004</td>\n",
       "      <td>v3.0.1</td>\n",
       "      <td>2.2.6</td>\n",
       "      <td>2.5.2</td>\n",
       "      <td>1.8.0</td>\n",
       "      <td>3.10.18</td>\n",
       "      <td>{'minimumROIDimensions': 2, 'minimumROISize': ...</td>\n",
       "      <td>{'Original': {}}</td>\n",
       "      <td>e20a402cf62f481dc190b62e20f6d514805b904c</td>\n",
       "      <td>3D</td>\n",
       "      <td>...</td>\n",
       "      <td>1324.4810295868097</td>\n",
       "      <td>0.0016392216745715886</td>\n",
       "      <td>8.302489177323388</td>\n",
       "      <td>0.07513746666227651</td>\n",
       "      <td>480820.22005284694</td>\n",
       "      <td>6.094141973470173</td>\n",
       "      <td>2.4220275723587345e-05</td>\n",
       "      <td>4522.199680553571</td>\n",
       "      <td>0.03530010873299323</td>\n",
       "      <td>0.2899886551495625</td>\n",
       "    </tr>\n",
       "    <tr>\n",
       "      <th>4</th>\n",
       "      <td>LUNG1-005</td>\n",
       "      <td>v3.0.1</td>\n",
       "      <td>2.2.6</td>\n",
       "      <td>2.5.2</td>\n",
       "      <td>1.8.0</td>\n",
       "      <td>3.10.18</td>\n",
       "      <td>{'minimumROIDimensions': 2, 'minimumROISize': ...</td>\n",
       "      <td>{'Original': {}}</td>\n",
       "      <td>08c0636c812e2424fe72a17d221597001b7201b5</td>\n",
       "      <td>3D</td>\n",
       "      <td>...</td>\n",
       "      <td>2355.961306070771</td>\n",
       "      <td>0.0010593290239718153</td>\n",
       "      <td>8.572751786965446</td>\n",
       "      <td>0.1565344284070606</td>\n",
       "      <td>15589.066270885198</td>\n",
       "      <td>0.8832821192206137</td>\n",
       "      <td>8.695905954928009e-05</td>\n",
       "      <td>30662.484047544334</td>\n",
       "      <td>0.03122887740949193</td>\n",
       "      <td>5.1733135818012785</td>\n",
       "    </tr>\n",
       "  </tbody>\n",
       "</table>\n",
       "<p>5 rows × 145 columns</p>\n",
       "</div>"
      ],
      "text/plain": [
       "   PatientID diagnostics_Versions_PyRadiomics diagnostics_Versions_Numpy  \\\n",
       "0  LUNG1-001                           v3.0.1                      2.2.6   \n",
       "1  LUNG1-002                           v3.0.1                      2.2.6   \n",
       "2  LUNG1-003                           v3.0.1                      2.2.6   \n",
       "3  LUNG1-004                           v3.0.1                      2.2.6   \n",
       "4  LUNG1-005                           v3.0.1                      2.2.6   \n",
       "\n",
       "  diagnostics_Versions_SimpleITK diagnostics_Versions_PyWavelet  \\\n",
       "0                          2.5.2                          1.8.0   \n",
       "1                          2.5.2                          1.8.0   \n",
       "2                          2.5.2                          1.8.0   \n",
       "3                          2.5.2                          1.8.0   \n",
       "4                          2.5.2                          1.8.0   \n",
       "\n",
       "  diagnostics_Versions_Python  \\\n",
       "0                     3.10.18   \n",
       "1                     3.10.18   \n",
       "2                     3.10.18   \n",
       "3                     3.10.18   \n",
       "4                     3.10.18   \n",
       "\n",
       "                  diagnostics_Configuration_Settings  \\\n",
       "0  {'minimumROIDimensions': 2, 'minimumROISize': ...   \n",
       "1  {'minimumROIDimensions': 2, 'minimumROISize': ...   \n",
       "2  {'minimumROIDimensions': 2, 'minimumROISize': ...   \n",
       "3  {'minimumROIDimensions': 2, 'minimumROISize': ...   \n",
       "4  {'minimumROIDimensions': 2, 'minimumROISize': ...   \n",
       "\n",
       "  diagnostics_Configuration_EnabledImageTypes  \\\n",
       "0                            {'Original': {}}   \n",
       "1                            {'Original': {}}   \n",
       "2                            {'Original': {}}   \n",
       "3                            {'Original': {}}   \n",
       "4                            {'Original': {}}   \n",
       "\n",
       "            diagnostics_Image-original_Hash  \\\n",
       "0  b4175e0d6ddff17507e30c05c6e7302c2b9668f4   \n",
       "1  5c66c70353901fd238191b88a2584cd8c3f645e5   \n",
       "2  9a2b123cabcc00593e4255d41cbef78f0cb63630   \n",
       "3  e20a402cf62f481dc190b62e20f6d514805b904c   \n",
       "4  08c0636c812e2424fe72a17d221597001b7201b5   \n",
       "\n",
       "  diagnostics_Image-original_Dimensionality  ...  \\\n",
       "0                                        3D  ...   \n",
       "1                                        3D  ...   \n",
       "2                                        3D  ...   \n",
       "3                                        3D  ...   \n",
       "4                                        3D  ...   \n",
       "\n",
       "  original_glszm_SmallAreaHighGrayLevelEmphasis  \\\n",
       "0                             974.3968868560783   \n",
       "1                              801.965399244845   \n",
       "2                             1338.700821914673   \n",
       "3                            1324.4810295868097   \n",
       "4                             2355.961306070771   \n",
       "\n",
       "  original_glszm_SmallAreaLowGrayLevelEmphasis  original_glszm_ZoneEntropy  \\\n",
       "0                        0.0012217040883470618           8.354220960978468   \n",
       "1                        0.0014035581231717656            8.10932092162548   \n",
       "2                         0.003880429318442169           8.361764040606204   \n",
       "3                        0.0016392216745715886           8.302489177323388   \n",
       "4                        0.0010593290239718153           8.572751786965446   \n",
       "\n",
       "   original_glszm_ZonePercentage  original_glszm_ZoneVariance  \\\n",
       "0            0.09712593876372039           340295.02098699583   \n",
       "1             0.1394304445325397            38878.35473106718   \n",
       "2            0.07780431526535239             460685.553449732   \n",
       "3            0.07513746666227651           480820.22005284694   \n",
       "4             0.1565344284070606           15589.066270885198   \n",
       "\n",
       "  original_ngtdm_Busyness original_ngtdm_Coarseness original_ngtdm_Complexity  \\\n",
       "0      11.298544945318655    1.4698658219887565e-05         6179.411678264663   \n",
       "1      4.0953664654888655      5.86909917257305e-05         4744.542628527841   \n",
       "2       4.358217959833733    4.8227735366151494e-05         6626.985903168955   \n",
       "3       6.094141973470173    2.4220275723587345e-05         4522.199680553571   \n",
       "4      0.8832821192206137     8.695905954928009e-05        30662.484047544334   \n",
       "\n",
       "  original_ngtdm_Contrast  original_ngtdm_Strength  \n",
       "0     0.04832815861023239      0.18810135440340525  \n",
       "1     0.09340931019816005      0.25842490143353464  \n",
       "2     0.07202148319412406        1.569060887336299  \n",
       "3     0.03530010873299323       0.2899886551495625  \n",
       "4     0.03122887740949193       5.1733135818012785  \n",
       "\n",
       "[5 rows x 145 columns]"
      ]
     },
     "execution_count": 5,
     "metadata": {},
     "output_type": "execute_result"
    }
   ],
   "source": [
    "# --- Saving Results ---\n",
    "\n",
    "# Convertint the list of feature dictionaries into a pandas DataFrame\n",
    "# A DataFrame is like a spreadsheet or a table\n",
    "\n",
    "features_df = pd.DataFrame(all_features)\n",
    "\n",
    "# Setting the order of the columns to get the PatientID as the first column for easy reference\n",
    "\n",
    "cols = ['PatientID'] + [col for col in features_df.columns if col != 'PatientID']\n",
    "\n",
    "features_df = features_df[cols]\n",
    "\n",
    "# Setting the output path for the output file\n",
    "output_path = '../Results/radiomics_features.csv'\n",
    "\n",
    "# Saving the DataFrame to a CSV file\n",
    "features_df.to_csv(output_path, index=False)\n",
    "\n",
    "print(f\"Successfully saved {len(features_df)} patient records to:\")\n",
    "print(os.path.abspath(output_path))\n",
    "\n",
    "# Displaying the first 5 rows of the new table\n",
    "features_df.head()"
   ]
  }
 ],
 "metadata": {
  "kernelspec": {
   "display_name": "thesis_env",
   "language": "python",
   "name": "python3"
  },
  "language_info": {
   "codemirror_mode": {
    "name": "ipython",
    "version": 3
   },
   "file_extension": ".py",
   "mimetype": "text/x-python",
   "name": "python",
   "nbconvert_exporter": "python",
   "pygments_lexer": "ipython3",
   "version": "3.10.18"
  }
 },
 "nbformat": 4,
 "nbformat_minor": 5
}
