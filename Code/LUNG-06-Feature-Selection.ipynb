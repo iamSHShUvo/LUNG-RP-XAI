{
 "cells": [
  {
   "cell_type": "code",
   "execution_count": 1,
   "id": "c1af467d",
   "metadata": {},
   "outputs": [
    {
     "name": "stdout",
     "output_type": "stream",
     "text": [
      "Training data loaded successfully.\n"
     ]
    }
   ],
   "source": [
    "import pandas as pd\n",
    "import joblib\n",
    "from sklearn.feature_selection import SelectKBest, f_classif\n",
    "import matplotlib.pyplot as plt\n",
    "import numpy as np\n",
    "\n",
    "# Load our pre-split data from the file we saved earlier\n",
    "data = joblib.load('../Results/split_data.joblib')\n",
    "X_train = data['X_train']\n",
    "y_train = data['y_train']\n",
    "\n",
    "print(\"Training data loaded successfully.\")\n"
   ]
  },
  {
   "cell_type": "code",
   "execution_count": 2,
   "id": "6ae9a34b",
   "metadata": {},
   "outputs": [
    {
     "name": "stdout",
     "output_type": "stream",
     "text": [
      "--- Top 20 Most Predictive Features ---\n",
      "                                              Feature      Score\n",
      "57              original_gldm_DependenceNonUniformity  14.942231\n",
      "79              original_glrlm_RunLengthNonUniformity  14.748632\n",
      "12                  original_shape_SurfaceVolumeRatio  13.525339\n",
      "13                         original_shape_VoxelVolume  12.321638\n",
      "8                           original_shape_MeshVolume  12.321059\n",
      "70              original_glrlm_GrayLevelNonUniformity  10.216591\n",
      "94               original_glszm_SizeZoneNonUniformity   9.239907\n",
      "59                   original_gldm_DependenceVariance   9.201736\n",
      "47                      original_glcm_InverseVariance   9.010348\n",
      "11                         original_shape_SurfaceArea   8.949754\n",
      "86              original_glszm_GrayLevelNonUniformity   8.618443\n",
      "6               original_shape_Maximum2DDiameterSlice   7.528873\n",
      "63              original_gldm_LargeDependenceEmphasis   7.038588\n",
      "82                         original_glrlm_RunVariance   6.971154\n",
      "74                     original_glrlm_LongRunEmphasis   6.933047\n",
      "65  original_gldm_LargeDependenceLowGrayLevelEmphasis   6.466207\n",
      "52                   original_glcm_MaximumProbability   6.201041\n",
      "49                          original_glcm_JointEnergy   5.395004\n",
      "76         original_glrlm_LongRunLowGrayLevelEmphasis   5.377733\n",
      "81                       original_glrlm_RunPercentage   5.104662\n"
     ]
    }
   ],
   "source": [
    "# We want to select the top 20 features\n",
    "k = 20\n",
    "\n",
    "# Initialize the feature selector\n",
    "# f_classif is a good choice for binary classification tasks\n",
    "selector = SelectKBest(score_func=f_classif, k=k)\n",
    "\n",
    "# Fit the selector to our training data\n",
    "selector.fit(X_train, y_train)\n",
    "\n",
    "# Get the scores for each feature\n",
    "feature_scores = pd.DataFrame({'Feature': X_train.columns, 'Score': selector.scores_})\n",
    "# Sort the features by score in descending order\n",
    "feature_scores = feature_scores.sort_values(by='Score', ascending=False)\n",
    "\n",
    "print(f\"--- Top {k} Most Predictive Features ---\")\n",
    "print(feature_scores.head(k))\n",
    "\n",
    "# Get the names of the top k features\n",
    "top_k_features = selector.get_feature_names_out(X_train.columns)\n"
   ]
  }
 ],
 "metadata": {
  "kernelspec": {
   "display_name": "thesis_env",
   "language": "python",
   "name": "python3"
  },
  "language_info": {
   "codemirror_mode": {
    "name": "ipython",
    "version": 3
   },
   "file_extension": ".py",
   "mimetype": "text/x-python",
   "name": "python",
   "nbconvert_exporter": "python",
   "pygments_lexer": "ipython3",
   "version": "3.10.18"
  }
 },
 "nbformat": 4,
 "nbformat_minor": 5
}
