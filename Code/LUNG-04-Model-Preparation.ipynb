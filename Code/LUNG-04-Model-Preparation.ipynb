{
 "cells": [
  {
   "cell_type": "code",
   "execution_count": 2,
   "id": "ebde1158",
   "metadata": {},
   "outputs": [
    {
     "name": "stdout",
     "output_type": "stream",
     "text": [
      "Files loaded successfully.\n"
     ]
    }
   ],
   "source": [
    "import pandas as pd\n",
    "from sklearn.model_selection import train_test_split\n",
    "\n",
    "# Load the two datasets\n",
    "features_df = pd.read_csv('../Results/radiomics_features.csv')\n",
    "# Find the clinical data file in your Data/NSCLC-Radiomics folder\n",
    "outcomes_df = pd.read_csv('D:/Thesis_Project/Data/NSCLC-Radiomics-Lung1.clinical-version3-Oct-2019.csv')\n",
    "\n",
    "print(\"Files loaded successfully.\")"
   ]
  },
  {
   "cell_type": "code",
   "execution_count": 3,
   "id": "e746ef2d",
   "metadata": {},
   "outputs": [
    {
     "name": "stdout",
     "output_type": "stream",
     "text": [
      "Successfully merged features and outcomes.\n",
      "Master dataset has 421 patients.\n"
     ]
    }
   ],
   "source": [
    "# --- Clean Features ---\n",
    "# Drop the PyRadiomics diagnostic columns\n",
    "feature_columns = [col for col in features_df.columns if not col.startswith('diagnostics_')]\n",
    "features_df = features_df[feature_columns]\n",
    "\n",
    "# --- Clean Outcomes ---\n",
    "# The patient ID in the clinical file is 'case_id', let's rename it to match\n",
    "outcomes_df.rename(columns={'case_id': 'PatientID'}, inplace=True)\n",
    "# We only need the PatientID, survival time, and dead/alive status\n",
    "outcomes_df = outcomes_df[['PatientID', 'Survival.time', 'deadstatus.event']]\n",
    "\n",
    "# --- Merge DataFrames ---\n",
    "master_df = pd.merge(features_df, outcomes_df, on='PatientID')\n",
    "\n",
    "print(\"Successfully merged features and outcomes.\")\n",
    "print(f\"Master dataset has {master_df.shape[0]} patients.\")\n",
    "\n"
   ]
  },
  {
   "cell_type": "code",
   "execution_count": 4,
   "id": "83cf4662",
   "metadata": {},
   "outputs": [
    {
     "name": "stdout",
     "output_type": "stream",
     "text": [
      "Created binary target 'Survival_2yr'. Kept 420 patients for the analysis.\n",
      "\n",
      "Outcome distribution:\n",
      "Survival_2yr\n",
      "0    251\n",
      "1    169\n",
      "Name: count, dtype: int64\n"
     ]
    }
   ],
   "source": [
    "# Create target variable: 1 if the patient survived > 2 years, 0 otherwise\n",
    "#  consider patients who were alive at their last follow-up > 730 days as survivors\n",
    "#  consider patients who died < 730 days as non-survivors\n",
    "#  will exclude patients with follow-up < 730 days who were still alive, as their final outcome is unknown\n",
    "\n",
    "# Condition 1: Died before 2 years (Non-survivor)\n",
    "died_early = (master_df['deadstatus.event'] == 1) & (master_df['Survival.time'] < 730)\n",
    "# Condition 2: Survived past 2 years (Survivor)\n",
    "survived_long = master_df['Survival.time'] >= 730\n",
    "\n",
    "# Apply the conditions to create the target variable\n",
    "master_df['Survival_2yr'] = 0 # Default to non-survivor\n",
    "master_df.loc[survived_long, 'Survival_2yr'] = 1\n",
    "\n",
    "# Create a final dataframe for modeling, excluding the ambiguous cases\n",
    "modeling_df = master_df[died_early | survived_long].copy()\n",
    "# Drop the original survival columns as they are no longer needed\n",
    "modeling_df.drop(columns=['Survival.time', 'deadstatus.event'], inplace=True)\n",
    "\n",
    "print(f\"Created binary target 'Survival_2yr'. Kept {modeling_df.shape[0]} patients for the analysis.\")\n",
    "print(\"\\nOutcome distribution:\")\n",
    "print(modeling_df['Survival_2yr'].value_counts())\n"
   ]
  },
  {
   "cell_type": "code",
   "execution_count": 5,
   "id": "4bcec33f",
   "metadata": {},
   "outputs": [
    {
     "name": "stdout",
     "output_type": "stream",
     "text": [
      "Data successfully split into training and testing sets.\n",
      "Training set: 336 patients\n",
      "Testing set: 84 patients\n"
     ]
    }
   ],
   "source": [
    "# Separate features (X) from our target (y)\n",
    "X = modeling_df.drop(columns=['PatientID', 'Survival_2yr'])\n",
    "y = modeling_df['Survival_2yr']\n",
    "\n",
    "# Perform the split\n",
    "X_train, X_test, y_train, y_test = train_test_split(X, y, test_size=0.2, random_state=42, stratify=y)\n",
    "\n",
    "print(\"Data successfully split into training and testing sets.\")\n",
    "print(f\"Training set: {X_train.shape[0]} patients\")\n",
    "print(f\"Testing set: {X_test.shape[0]} patients\")\n"
   ]
  },
  {
   "cell_type": "code",
   "execution_count": 6,
   "id": "f5d3fa20",
   "metadata": {},
   "outputs": [
    {
     "name": "stdout",
     "output_type": "stream",
     "text": [
      "Split data saved to file: ../Results/split_data.joblib\n"
     ]
    }
   ],
   "source": [
    "import joblib\n",
    "# Save the split data to a file\n",
    "data_for_modeling = {\n",
    "    'X_train': X_train,\n",
    "    'X_test': X_test,\n",
    "    'y_train': y_train,\n",
    "    'y_test': y_test\n",
    "}\n",
    "joblib.dump(data_for_modeling, '../Results/split_data.joblib')\n",
    "print(\"Split data saved to file: ../Results/split_data.joblib\")\n"
   ]
  }
 ],
 "metadata": {
  "kernelspec": {
   "display_name": "thesis_env",
   "language": "python",
   "name": "python3"
  },
  "language_info": {
   "codemirror_mode": {
    "name": "ipython",
    "version": 3
   },
   "file_extension": ".py",
   "mimetype": "text/x-python",
   "name": "python",
   "nbconvert_exporter": "python",
   "pygments_lexer": "ipython3",
   "version": "3.10.18"
  }
 },
 "nbformat": 4,
 "nbformat_minor": 5
}
