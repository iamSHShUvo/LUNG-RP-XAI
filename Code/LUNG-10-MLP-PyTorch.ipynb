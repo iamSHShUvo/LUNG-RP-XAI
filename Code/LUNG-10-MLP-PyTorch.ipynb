{
  "nbformat": 4,
  "nbformat_minor": 0,
  "metadata": {
    "colab": {
      "provenance": [],
      "gpuType": "T4"
    },
    "kernelspec": {
      "name": "python3",
      "display_name": "Python 3"
    },
    "language_info": {
      "name": "python"
    },
    "accelerator": "GPU"
  },
  "cells": [
    {
      "cell_type": "code",
      "execution_count": null,
      "metadata": {
        "colab": {
          "base_uri": "https://localhost:8080/"
        },
        "id": "0da5ubfrMq-q",
        "outputId": "aaf8438c-4fc8-4482-f9c1-6f50b109d843"
      },
      "outputs": [
        {
          "output_type": "stream",
          "name": "stdout",
          "text": [
            "Mounted at /content/drive/\n",
            "Google Drive mounted successfully!\n"
          ]
        }
      ],
      "source": [
        "from google.colab import drive\n",
        "drive.mount('/content/drive/')\n",
        "\n",
        "print(\"Google Drive mounted successfully!\")"
      ]
    },
    {
      "cell_type": "code",
      "source": [
        "import pandas as pd\n",
        "import joblib\n",
        "import numpy as np\n",
        "import torch\n",
        "import torch.nn as nn\n",
        "from torch.utils.data import Dataset, DataLoader\n",
        "from sklearn.preprocessing import StandardScaler\n",
        "\n",
        "# Set up the device (use GPU if available, otherwise CPU)\n",
        "device = torch.device(\"cuda\" if torch.cuda.is_available() else \"cpu\")\n",
        "print(f\"Using device: {device}\")"
      ],
      "metadata": {
        "colab": {
          "base_uri": "https://localhost:8080/"
        },
        "id": "4ySE4lGGa6Wf",
        "outputId": "4c2aaf1e-31fc-47b4-f250-766770a1ae1f"
      },
      "execution_count": null,
      "outputs": [
        {
          "output_type": "stream",
          "name": "stdout",
          "text": [
            "Using device: cuda\n"
          ]
        }
      ]
    },
    {
      "cell_type": "code",
      "source": [
        "# --- Define Path and Load Data ---\n",
        "\n",
        "# Define the ONE TRUE PATH to your project folder in Google Drive.\n",
        "# All other cells will use this variable.\n",
        "drive_path = '/content/drive/MyDrive/LUNG-RP-XAI/Thesis_Project/'\n",
        "\n",
        "# Load our pre-split data using the correct path variable\n",
        "data = joblib.load(drive_path + 'Results/split_data.joblib')\n",
        "X_train = data['X_train']\n",
        "X_test = data['X_test']\n",
        "y_train = data['y_train']\n",
        "y_test = data['y_test']\n",
        "\n",
        "# Scale the features\n",
        "scaler = StandardScaler()\n",
        "X_train_scaled = scaler.fit_transform(X_train)\n",
        "X_test_scaled = scaler.transform(X_test)\n",
        "\n",
        "print(\"Path defined and data loaded/scaled successfully.\")"
      ],
      "metadata": {
        "colab": {
          "base_uri": "https://localhost:8080/"
        },
        "id": "Bi22kwu-bKLN",
        "outputId": "8106d2f0-148b-4097-ea0b-44482c3242ce"
      },
      "execution_count": null,
      "outputs": [
        {
          "output_type": "stream",
          "name": "stdout",
          "text": [
            "Path defined and data loaded/scaled successfully.\n"
          ]
        }
      ]
    },
    {
      "cell_type": "code",
      "source": [
        "# Convert our numpy arrays to PyTorch tensors\n",
        "X_train_tensor = torch.tensor(X_train_scaled.astype(np.float32)).to(device)\n",
        "y_train_tensor = torch.tensor(y_train.values.astype(np.float32)).to(device)\n",
        "X_test_tensor = torch.tensor(X_test_scaled.astype(np.float32)).to(device)\n",
        "y_test_tensor = torch.tensor(y_test.values.astype(np.float32)).to(device)\n",
        "\n",
        "# Reshape y tensors to be [n_samples, 1]\n",
        "y_train_tensor = y_train_tensor.view(y_train_tensor.shape[0], 1)\n",
        "y_test_tensor = y_test_tensor.view(y_test_tensor.shape[0], 1)\n",
        "\n",
        "print(\"Data converted to PyTorch Tensors.\")\n",
        "print(f\"Shape of X_train_tensor: {X_train_tensor.shape}\")"
      ],
      "metadata": {
        "colab": {
          "base_uri": "https://localhost:8080/"
        },
        "id": "pPpAAbzKvQ6g",
        "outputId": "cbeac157-9d1f-4857-c70a-579edcf4aacd"
      },
      "execution_count": null,
      "outputs": [
        {
          "output_type": "stream",
          "name": "stdout",
          "text": [
            "Data converted to PyTorch Tensors.\n",
            "Shape of X_train_tensor: torch.Size([336, 107])\n"
          ]
        }
      ]
    },
    {
      "cell_type": "code",
      "source": [
        "class RadiomicsDataset(Dataset):\n",
        "    def __init__(self, X, y):\n",
        "        self.X = X\n",
        "        self.y = y\n",
        "\n",
        "    def __len__(self):\n",
        "        return len(self.X)\n",
        "\n",
        "    def __getitem__(self, idx):\n",
        "        return self.X[idx], self.y[idx]\n",
        "\n",
        "# Create dataset objects\n",
        "train_dataset = RadiomicsDataset(X_train_tensor, y_train_tensor)\n",
        "test_dataset = RadiomicsDataset(X_test_tensor, y_test_tensor)\n",
        "\n",
        "print(\"Custom PyTorch Datasets created.\")"
      ],
      "metadata": {
        "colab": {
          "base_uri": "https://localhost:8080/"
        },
        "id": "fE2rxGv3vk1e",
        "outputId": "c238d4d3-9e6e-47c5-f05b-0cc48f108d68"
      },
      "execution_count": null,
      "outputs": [
        {
          "output_type": "stream",
          "name": "stdout",
          "text": [
            "Custom PyTorch Datasets created.\n"
          ]
        }
      ]
    },
    {
      "cell_type": "code",
      "source": [
        "# Define batch size\n",
        "BATCH_SIZE = 32\n",
        "\n",
        "# Create DataLoader objects\n",
        "train_loader = DataLoader(dataset=train_dataset, batch_size=BATCH_SIZE, shuffle=True)\n",
        "test_loader = DataLoader(dataset=test_dataset, batch_size=BATCH_SIZE, shuffle=False)\n",
        "\n",
        "print(\"DataLoaders created. Ready for training.\")"
      ],
      "metadata": {
        "colab": {
          "base_uri": "https://localhost:8080/"
        },
        "id": "nWJMy2NSwWn-",
        "outputId": "2329bf35-08e9-403c-d254-d618b6463790"
      },
      "execution_count": null,
      "outputs": [
        {
          "output_type": "stream",
          "name": "stdout",
          "text": [
            "DataLoaders created. Ready for training.\n"
          ]
        }
      ]
    },
    {
      "cell_type": "code",
      "source": [
        "# --- Define the Model Architecture ---\n",
        "\n",
        "# Get the number of input features from our training data\n",
        "input_features = X_train_scaled.shape[1]\n",
        "\n",
        "# Define the model using nn.Sequential for a simple feedforward network\n",
        "mlp_model = nn.Sequential(\n",
        "    nn.Linear(input_features, 64), # Input layer -> Hidden layer 1\n",
        "    nn.ReLU(),                     # Activation function for Hidden layer 1\n",
        "    nn.Dropout(0.3),               # Dropout layer to prevent overfitting\n",
        "\n",
        "    nn.Linear(64, 32),             # Hidden layer 1 -> Hidden layer 2\n",
        "    nn.ReLU(),                     # Activation function for Hidden layer 2\n",
        "    nn.Dropout(0.3),               # Dropout layer\n",
        "\n",
        "    nn.Linear(32, 1),              # Hidden layer 2 -> Output layer\n",
        "    nn.Sigmoid()                   # Sigmoid activation to output a probability (0 to 1)\n",
        ").to(device)\n",
        "\n",
        "\n",
        "# Print the model architecture\n",
        "print(\"--- Model Architecture ---\")\n",
        "print(mlp_model)"
      ],
      "metadata": {
        "colab": {
          "base_uri": "https://localhost:8080/"
        },
        "id": "IyOYu90WyVMQ",
        "outputId": "542a2bc9-acce-45a8-950b-29e571b6e502"
      },
      "execution_count": null,
      "outputs": [
        {
          "output_type": "stream",
          "name": "stdout",
          "text": [
            "--- Model Architecture ---\n",
            "Sequential(\n",
            "  (0): Linear(in_features=107, out_features=64, bias=True)\n",
            "  (1): ReLU()\n",
            "  (2): Dropout(p=0.3, inplace=False)\n",
            "  (3): Linear(in_features=64, out_features=32, bias=True)\n",
            "  (4): ReLU()\n",
            "  (5): Dropout(p=0.3, inplace=False)\n",
            "  (6): Linear(in_features=32, out_features=1, bias=True)\n",
            "  (7): Sigmoid()\n",
            ")\n"
          ]
        }
      ]
    },
    {
      "cell_type": "code",
      "source": [
        "# Define the loss function\n",
        "# BCEWithLogitsLoss is a good choice for binary classification as it's numerically stable\n",
        "loss_function = nn.BCEWithLogitsLoss()\n",
        "\n",
        "# Define the optimizer\n",
        "# Adam is a popular and effective optimization algorithm\n",
        "optimizer = torch.optim.Adam(mlp_model.parameters(), lr=0.001)\n",
        "\n",
        "print(\"Loss function and optimizer are defined.\")"
      ],
      "metadata": {
        "colab": {
          "base_uri": "https://localhost:8080/"
        },
        "id": "xMSEes0kym24",
        "outputId": "49a5872b-e20e-4624-c358-e178ee194351"
      },
      "execution_count": null,
      "outputs": [
        {
          "output_type": "stream",
          "name": "stdout",
          "text": [
            "Loss function and optimizer are defined.\n"
          ]
        }
      ]
    },
    {
      "cell_type": "code",
      "source": [
        "# --- The Training Loop ---\n",
        "NUM_EPOCHS = 50\n",
        "best_test_loss = float('inf')\n",
        "\n",
        "for epoch in range(NUM_EPOCHS):\n",
        "    # --- Training ---\n",
        "    mlp_model.train() # Set the model to training mode\n",
        "    train_loss = 0.0\n",
        "    for features, labels in train_loader:\n",
        "        # Move data to the device\n",
        "        features, labels = features.to(device), labels.to(device)\n",
        "\n",
        "        # Forward pass: get predictions\n",
        "        outputs = mlp_model(features)\n",
        "        # Calculate loss\n",
        "        loss = loss_function(outputs, labels)\n",
        "\n",
        "        # Backward pass and optimization\n",
        "        optimizer.zero_grad() # Clear previous gradients\n",
        "        loss.backward()       # Calculate new gradients\n",
        "        optimizer.step()      # Update model weights\n",
        "\n",
        "        train_loss += loss.item()\n",
        "\n",
        "    # --- Validation ---\n",
        "    mlp_model.eval() # Set the model to evaluation mode\n",
        "    test_loss = 0.0\n",
        "    with torch.no_grad(): # We don't need to calculate gradients during evaluation\n",
        "        for features, labels in test_loader:\n",
        "            features, labels = features.to(device), labels.to(device)\n",
        "            outputs = mlp_model(features)\n",
        "            loss = loss_function(outputs, labels)\n",
        "            test_loss += loss.item()\n",
        "\n",
        "    # Print statistics for the epoch\n",
        "    avg_train_loss = train_loss / len(train_loader)\n",
        "    avg_test_loss = test_loss / len(test_loader)\n",
        "    print(f'Epoch [{epoch+1}/{NUM_EPOCHS}], Train Loss: {avg_train_loss:.4f}, Test Loss: {avg_test_loss:.4f}')\n",
        "\n",
        "    # Save the model if it has the best test loss so far\n",
        "    if avg_test_loss < best_test_loss:\n",
        "        best_test_loss = avg_test_loss\n",
        "        torch.save(mlp_model.state_dict(), drive_path + 'Results/best_mlp_model.pth')\n",
        "        print(f'   -> New best model saved with test loss: {best_test_loss:.4f}')\n",
        "\n",
        "print(\"\\n--- Training Complete ---\")"
      ],
      "metadata": {
        "colab": {
          "base_uri": "https://localhost:8080/"
        },
        "id": "CHzXBQXvystm",
        "outputId": "76e7ae41-e072-4d39-c3a3-80d94a9cc49c"
      },
      "execution_count": null,
      "outputs": [
        {
          "output_type": "stream",
          "name": "stdout",
          "text": [
            "Epoch [1/50], Train Loss: 0.7675, Test Loss: 0.7586\n",
            "   -> New best model saved with test loss: 0.7586\n",
            "Epoch [2/50], Train Loss: 0.7445, Test Loss: 0.7410\n",
            "   -> New best model saved with test loss: 0.7410\n",
            "Epoch [3/50], Train Loss: 0.7261, Test Loss: 0.7282\n",
            "   -> New best model saved with test loss: 0.7282\n",
            "Epoch [4/50], Train Loss: 0.7088, Test Loss: 0.7177\n",
            "   -> New best model saved with test loss: 0.7177\n",
            "Epoch [5/50], Train Loss: 0.7000, Test Loss: 0.7099\n",
            "   -> New best model saved with test loss: 0.7099\n",
            "Epoch [6/50], Train Loss: 0.6984, Test Loss: 0.7058\n",
            "   -> New best model saved with test loss: 0.7058\n",
            "Epoch [7/50], Train Loss: 0.6929, Test Loss: 0.7021\n",
            "   -> New best model saved with test loss: 0.7021\n",
            "Epoch [8/50], Train Loss: 0.6942, Test Loss: 0.7001\n",
            "   -> New best model saved with test loss: 0.7001\n",
            "Epoch [9/50], Train Loss: 0.6911, Test Loss: 0.6988\n",
            "   -> New best model saved with test loss: 0.6988\n",
            "Epoch [10/50], Train Loss: 0.6917, Test Loss: 0.6986\n",
            "   -> New best model saved with test loss: 0.6986\n",
            "Epoch [11/50], Train Loss: 0.6908, Test Loss: 0.6977\n",
            "   -> New best model saved with test loss: 0.6977\n",
            "Epoch [12/50], Train Loss: 0.6881, Test Loss: 0.6974\n",
            "   -> New best model saved with test loss: 0.6974\n",
            "Epoch [13/50], Train Loss: 0.6886, Test Loss: 0.6967\n",
            "   -> New best model saved with test loss: 0.6967\n",
            "Epoch [14/50], Train Loss: 0.6869, Test Loss: 0.6966\n",
            "   -> New best model saved with test loss: 0.6966\n",
            "Epoch [15/50], Train Loss: 0.6880, Test Loss: 0.6970\n",
            "Epoch [16/50], Train Loss: 0.6859, Test Loss: 0.6970\n",
            "Epoch [17/50], Train Loss: 0.6858, Test Loss: 0.6980\n",
            "Epoch [18/50], Train Loss: 0.6832, Test Loss: 0.6977\n",
            "Epoch [19/50], Train Loss: 0.6843, Test Loss: 0.6993\n",
            "Epoch [20/50], Train Loss: 0.6809, Test Loss: 0.6990\n",
            "Epoch [21/50], Train Loss: 0.6835, Test Loss: 0.6998\n",
            "Epoch [22/50], Train Loss: 0.6815, Test Loss: 0.7012\n",
            "Epoch [23/50], Train Loss: 0.6791, Test Loss: 0.6997\n",
            "Epoch [24/50], Train Loss: 0.6770, Test Loss: 0.6991\n",
            "Epoch [25/50], Train Loss: 0.6763, Test Loss: 0.6971\n",
            "Epoch [26/50], Train Loss: 0.6757, Test Loss: 0.6969\n",
            "Epoch [27/50], Train Loss: 0.6737, Test Loss: 0.6984\n",
            "Epoch [28/50], Train Loss: 0.6795, Test Loss: 0.6983\n",
            "Epoch [29/50], Train Loss: 0.6813, Test Loss: 0.6978\n",
            "Epoch [30/50], Train Loss: 0.6797, Test Loss: 0.6973\n",
            "Epoch [31/50], Train Loss: 0.6739, Test Loss: 0.6982\n",
            "Epoch [32/50], Train Loss: 0.6761, Test Loss: 0.7001\n",
            "Epoch [33/50], Train Loss: 0.6700, Test Loss: 0.6981\n",
            "Epoch [34/50], Train Loss: 0.6659, Test Loss: 0.6990\n",
            "Epoch [35/50], Train Loss: 0.6673, Test Loss: 0.6989\n",
            "Epoch [36/50], Train Loss: 0.6685, Test Loss: 0.6990\n",
            "Epoch [37/50], Train Loss: 0.6751, Test Loss: 0.6991\n",
            "Epoch [38/50], Train Loss: 0.6673, Test Loss: 0.7003\n",
            "Epoch [39/50], Train Loss: 0.6680, Test Loss: 0.6966\n",
            "Epoch [40/50], Train Loss: 0.6706, Test Loss: 0.6976\n",
            "Epoch [41/50], Train Loss: 0.6709, Test Loss: 0.6936\n",
            "   -> New best model saved with test loss: 0.6936\n",
            "Epoch [42/50], Train Loss: 0.6707, Test Loss: 0.6906\n",
            "   -> New best model saved with test loss: 0.6906\n",
            "Epoch [43/50], Train Loss: 0.6607, Test Loss: 0.6938\n",
            "Epoch [44/50], Train Loss: 0.6636, Test Loss: 0.7019\n",
            "Epoch [45/50], Train Loss: 0.6679, Test Loss: 0.6974\n",
            "Epoch [46/50], Train Loss: 0.6611, Test Loss: 0.6986\n",
            "Epoch [47/50], Train Loss: 0.6614, Test Loss: 0.6979\n",
            "Epoch [48/50], Train Loss: 0.6612, Test Loss: 0.7018\n",
            "Epoch [49/50], Train Loss: 0.6613, Test Loss: 0.7011\n",
            "Epoch [50/50], Train Loss: 0.6594, Test Loss: 0.6977\n",
            "\n",
            "--- Training Complete ---\n"
          ]
        }
      ]
    },
    {
      "cell_type": "code",
      "source": [
        "from sklearn.metrics import classification_report, confusion_matrix, roc_auc_score, RocCurveDisplay\n",
        "import matplotlib.pyplot as plt\n",
        "\n",
        "# --- Evaluation ---\n",
        "\n",
        "# First, create a new instance of the model architecture\n",
        "final_model = nn.Sequential(\n",
        "    nn.Linear(X_train_scaled.shape[1], 64),\n",
        "    nn.ReLU(),\n",
        "    nn.Dropout(0.3),\n",
        "    nn.Linear(64, 32),\n",
        "    nn.ReLU(),\n",
        "    nn.Dropout(0.3),\n",
        "    nn.Linear(32, 1),\n",
        "    nn.Sigmoid()\n",
        ").to(device)\n",
        "\n",
        "# Load the weights of the best model we saved during training\n",
        "model_path = drive_path + 'Results/best_mlp_model.pth'\n",
        "final_model.load_state_dict(torch.load(model_path))\n",
        "final_model.eval() # Set the model to evaluation mode\n",
        "\n",
        "# Make predictions on the test set\n",
        "with torch.no_grad():\n",
        "    y_pred_proba_tensor = final_model(X_test_tensor)\n",
        "\n",
        "# Convert predictions and true labels from GPU tensors to CPU numpy arrays\n",
        "y_pred_proba = y_pred_proba_tensor.cpu().numpy().flatten()\n",
        "y_pred = (y_pred_proba > 0.5).astype(int)\n",
        "y_test_cpu = y_test_tensor.cpu().numpy().flatten()\n",
        "\n",
        "\n",
        "# --- Print Reports ---\n",
        "print(\"--- Classification Report (PyTorch MLP Model) ---\")\n",
        "print(classification_report(y_test_cpu, y_pred))\n",
        "\n",
        "print(\"\\n--- Confusion Matrix (PyTorch MLP Model) ---\")\n",
        "cm = confusion_matrix(y_test_cpu, y_pred)\n",
        "print(\"                Predicted: 0 | Predicted: 1\")\n",
        "print(f\"Actual: 0      {cm[0,0]:<13} | {cm[0,1]:<13}\")\n",
        "print(f\"Actual: 1      {cm[1,0]:<13} | {cm[1,1]:<13}\")\n",
        "\n",
        "roc_auc_mlp = roc_auc_score(y_test_cpu, y_pred_proba)\n",
        "print(f\"\\nXGBoost ROC AUC Score: 0.5700\")\n",
        "print(f\"PyTorch MLP ROC AUC Score: {roc_auc_mlp:.4f}\")"
      ],
      "metadata": {
        "colab": {
          "base_uri": "https://localhost:8080/"
        },
        "id": "-FQNDHci_6MJ",
        "outputId": "efce896d-4623-4d3a-b995-905978cdaedc"
      },
      "execution_count": null,
      "outputs": [
        {
          "output_type": "stream",
          "name": "stdout",
          "text": [
            "--- Classification Report (PyTorch MLP Model) ---\n",
            "              precision    recall  f1-score   support\n",
            "\n",
            "         0.0       0.65      0.96      0.77        50\n",
            "         1.0       0.80      0.24      0.36        34\n",
            "\n",
            "    accuracy                           0.67        84\n",
            "   macro avg       0.72      0.60      0.57        84\n",
            "weighted avg       0.71      0.67      0.61        84\n",
            "\n",
            "\n",
            "--- Confusion Matrix (PyTorch MLP Model) ---\n",
            "                Predicted: 0 | Predicted: 1\n",
            "Actual: 0      48            | 2            \n",
            "Actual: 1      26            | 8            \n",
            "\n",
            "XGBoost ROC AUC Score: 0.5700\n",
            "PyTorch MLP ROC AUC Score: 0.5153\n"
          ]
        }
      ]
    }
  ]
}