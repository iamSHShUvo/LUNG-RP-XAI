{
 "cells": [
  {
   "cell_type": "code",
   "execution_count": 3,
   "id": "d3fdfd81-9f23-4a77-b75a-842dd59695d7",
   "metadata": {},
   "outputs": [],
   "source": [
    "import os"
   ]
  },
  {
   "cell_type": "code",
   "execution_count": 4,
   "id": "ca308595-ca80-4e9f-86cc-9285cc659ce5",
   "metadata": {},
   "outputs": [],
   "source": [
    "data_path = '../Data/HCC-TACE-Seg'"
   ]
  },
  {
   "cell_type": "code",
   "execution_count": 5,
   "id": "31a4dffa-cf2b-46ac-8f70-cf0a0e507d54",
   "metadata": {},
   "outputs": [
    {
     "name": "stdout",
     "output_type": "stream",
     "text": [
      "Checking for Data in the following directory: C:\\Thesis_Project\\Data\\HCC-TACE-Seg\n",
      "\n"
     ]
    }
   ],
   "source": [
    "print(f\"Checking for Data in the following directory: {os.path.abspath(data_path)}\\n\")"
   ]
  },
  {
   "cell_type": "code",
   "execution_count": 6,
   "id": "08a606f7-804d-45df-9941-ec9bdcadfb3d",
   "metadata": {},
   "outputs": [
    {
     "name": "stdout",
     "output_type": "stream",
     "text": [
      "Success! Found 106 item in the data directory.\n",
      "The first 5 items are: ['HCC_001', 'HCC_002', 'HCC_003', 'HCC_004', 'HCC_005']\n",
      "\n",
      "Inspecting the contents of the first folder: HCC_001\n",
      "It contains 2 sub-folders.\n",
      "These sub-folders are: ['04-21-2000-NA-CT ABDPEL WC-49771', '11-30-1999-NA-CT-CAP WWO CON-00377']\n"
     ]
    }
   ],
   "source": [
    "if not os.path.exists(data_path):\n",
    "    print(\"ERROR: Data Directory not found. Please check the path and make sure you have downloaded the data.\")\n",
    "else:\n",
    "    patient_folders = os.listdir(data_path)\n",
    "    print(f\"Success! Found {len(patient_folders)} item in the data directory.\")\n",
    "\n",
    "    if len(patient_folders)>0:\n",
    "        print(\"The first 5 items are:\", patient_folders[:5])\n",
    "\n",
    "        first_patient_path = os.path.join(data_path, patient_folders[0])\n",
    "        print(f\"\\nInspecting the contents of the first folder: {patient_folders[0]}\")\n",
    "\n",
    "        first_patient_contents = os.listdir(first_patient_path)\n",
    "        print(f\"It contains {len(first_patient_contents)} sub-folders.\")\n",
    "        print(\"These sub-folders are:\", first_patient_contents)"
   ]
  },
  {
   "cell_type": "code",
   "execution_count": null,
   "id": "b18a5b4c-6214-40d4-9e4a-0aad00588114",
   "metadata": {},
   "outputs": [],
   "source": []
  },
  {
   "cell_type": "code",
   "execution_count": null,
   "id": "9cb6880f-ec9c-4e3f-aec9-20f34830d892",
   "metadata": {},
   "outputs": [],
   "source": []
  }
 ],
 "metadata": {
  "kernelspec": {
   "display_name": "Python 3 (ipykernel)",
   "language": "python",
   "name": "python3"
  },
  "language_info": {
   "codemirror_mode": {
    "name": "ipython",
    "version": 3
   },
   "file_extension": ".py",
   "mimetype": "text/x-python",
   "name": "python",
   "nbconvert_exporter": "python",
   "pygments_lexer": "ipython3",
   "version": "3.13.5"
  }
 },
 "nbformat": 4,
 "nbformat_minor": 5
}
