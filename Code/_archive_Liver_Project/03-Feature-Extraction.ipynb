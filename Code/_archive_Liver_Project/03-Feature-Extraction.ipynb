{
 "cells": [
  {
   "cell_type": "code",
   "execution_count": 2,
   "id": "8b21d1fb",
   "metadata": {},
   "outputs": [
    {
     "name": "stdout",
     "output_type": "stream",
     "text": [
      "Libraries imported and configuration set.\n"
     ]
    }
   ],
   "source": [
    "# Importing all necessary libraries\n",
    "import os\n",
    "import pandas as pd  # For handling data in tables (DataFrames)\n",
    "import SimpleITK as sitk\n",
    "from radiomics import featureextractor  \n",
    "# The main PyRadiomics class\n",
    "import logging\n",
    "\n",
    "# --- Configuration ---\n",
    "# Setting up a logger to show PyRadiomics progress and warnings, but not too much detail\n",
    "\n",
    "logging.getLogger('radiomics').setLevel(logging.WARNING)\n",
    "\n",
    "# Setting the base path to our data\n",
    "# This is where the images and masks are stored\n",
    "data_base_path = '../Data/HCC-TACE-Seg'\n",
    "\n",
    "print(\"Libraries imported and configuration set.\")"
   ]
  },
  {
   "cell_type": "code",
   "execution_count": 3,
   "id": "178aa7f0",
   "metadata": {},
   "outputs": [
    {
     "name": "stderr",
     "output_type": "stream",
     "text": [
      "validation.invalid\n",
      " --- All found errors ---\n",
      "[\"Key 'binWidth' was not defined. Path: ''\", \"Key 'resampledPixelSpacing' was not defined. Path: ''\", \"Key 'interpolator' was not defined. Path: ''\", \"Key 'label' was not defined. Path: ''\"]\n"
     ]
    },
    {
     "name": "stdout",
     "output_type": "stream",
     "text": [
      "Custt\n",
      "Initial extractor setup failed with error: <SchemaError: error code 2: Schema validation failed:\n",
      " - Key 'binWidth' was not defined. Path: ''.\n",
      " - Key 'resampledPixelSpacing' was not defined. Path: ''.\n",
      " - Key 'interpolator' was not defined. Path: ''.\n",
      " - Key 'label' was not defined. Path: ''.: Path: '/'>. Trying alternative setup.\n",
      "PyRadiomics feature exttractor initialized.\n"
     ]
    }
   ],
   "source": [
    "# --- Extractor Setup ---\n",
    "# Initializing the feature extractor\n",
    "extractor  = featureextractor.RadiomicsFeatureExtractor()   # This is the default extractor \n",
    "\n",
    "#Now manuaally setting up the extractor parameters      \n",
    "#This is the modern way to set up the extractor, which allows for more customization\n",
    "print(\"Custt\")\n",
    "# Telling PyRadiomics what features to extract\n",
    "# doing this by using a special parameter file. Creating a basic setup in code\n",
    "params = {}\n",
    "params['binWidth'] = 25 #standard setting for CT scans\n",
    "params['resampledPixelSpacing'] = [1,1,1] #Resampling all images to 1x1x1 mm voxels for consistency\n",
    "params['interpolator'] = sitk.sitkBSpline # Using B-spline interpolation for resampling\n",
    "params['label'] = 255 #telling it to only look at the tumor label we found earlier\n",
    "\n",
    "#Initializing the feature extractor with the setting\n",
    "\n",
    "try:\n",
    "    extractor = featureextractor.RadiomicsFeatureExtractor(params)\n",
    "except Exception as e:\n",
    "    #if the above fails because of an old pyradiomics version, this might work\n",
    "    print(f\"Initial extractor setup failed with error: {e}. Trying alternative setup.\")\n",
    "    extractor = featureextractor.RadiomicsFeatureExtractor()\n",
    "    extractor.enableAllFeatures()  # a less practice but robust method\n",
    "\n",
    "print(\"PyRadiomics feature exttractor initialized.\")"
   ]
  },
  {
   "cell_type": "code",
   "execution_count": 4,
   "id": "38010664",
   "metadata": {},
   "outputs": [
    {
     "name": "stdout",
     "output_type": "stream",
     "text": [
      "Found 105 patients. Starting extraction...\n",
      "Processing patient: HCC_001...\n"
     ]
    },
    {
     "name": "stdout",
     "output_type": "stream",
     "text": [
      "  > FAILED for patient HCC_001. Error: No labels found in this mask (i.e. nothing is segmented)!\n",
      "Processing patient: HCC_002...\n"
     ]
    },
    {
     "name": "stderr",
     "output_type": "stream",
     "text": [
      "parameter force2D must be set to True to enable shape2D extraction\n",
      "GLCM is symmetrical, therefore Sum Average = 2 * Joint Average, only 1 needs to be calculated\n"
     ]
    },
    {
     "name": "stdout",
     "output_type": "stream",
     "text": [
      "  > Success! Extracted 129 features.\n",
      "Processing patient: HCC_003...\n"
     ]
    },
    {
     "name": "stderr",
     "output_type": "stream",
     "text": [
      "parameter force2D must be set to True to enable shape2D extraction\n",
      "GLCM is symmetrical, therefore Sum Average = 2 * Joint Average, only 1 needs to be calculated\n"
     ]
    },
    {
     "name": "stdout",
     "output_type": "stream",
     "text": [
      "  > Success! Extracted 129 features.\n",
      "Processing patient: HCC_004...\n"
     ]
    },
    {
     "name": "stderr",
     "output_type": "stream",
     "text": [
      "parameter force2D must be set to True to enable shape2D extraction\n",
      "GLCM is symmetrical, therefore Sum Average = 2 * Joint Average, only 1 needs to be calculated\n"
     ]
    },
    {
     "name": "stdout",
     "output_type": "stream",
     "text": [
      "  > Success! Extracted 129 features.\n",
      "Processing patient: HCC_005...\n"
     ]
    },
    {
     "name": "stderr",
     "output_type": "stream",
     "text": [
      "parameter force2D must be set to True to enable shape2D extraction\n",
      "GLCM is symmetrical, therefore Sum Average = 2 * Joint Average, only 1 needs to be calculated\n"
     ]
    },
    {
     "name": "stdout",
     "output_type": "stream",
     "text": [
      "  > Success! Extracted 129 features.\n",
      "Processing patient: HCC_006...\n"
     ]
    },
    {
     "name": "stderr",
     "output_type": "stream",
     "text": [
      "parameter force2D must be set to True to enable shape2D extraction\n",
      "GLCM is symmetrical, therefore Sum Average = 2 * Joint Average, only 1 needs to be calculated\n"
     ]
    },
    {
     "name": "stdout",
     "output_type": "stream",
     "text": [
      "  > Success! Extracted 129 features.\n",
      "Processing patient: HCC_007...\n"
     ]
    },
    {
     "name": "stderr",
     "output_type": "stream",
     "text": [
      "parameter force2D must be set to True to enable shape2D extraction\n",
      "GLCM is symmetrical, therefore Sum Average = 2 * Joint Average, only 1 needs to be calculated\n"
     ]
    },
    {
     "name": "stdout",
     "output_type": "stream",
     "text": [
      "  > Success! Extracted 129 features.\n",
      "Processing patient: HCC_008...\n"
     ]
    },
    {
     "name": "stderr",
     "output_type": "stream",
     "text": [
      "parameter force2D must be set to True to enable shape2D extraction\n",
      "GLCM is symmetrical, therefore Sum Average = 2 * Joint Average, only 1 needs to be calculated\n"
     ]
    },
    {
     "name": "stdout",
     "output_type": "stream",
     "text": [
      "  > Success! Extracted 129 features.\n",
      "Processing patient: HCC_009...\n"
     ]
    },
    {
     "name": "stderr",
     "output_type": "stream",
     "text": [
      "parameter force2D must be set to True to enable shape2D extraction\n",
      "GLCM is symmetrical, therefore Sum Average = 2 * Joint Average, only 1 needs to be calculated\n"
     ]
    },
    {
     "name": "stdout",
     "output_type": "stream",
     "text": [
      "  > Success! Extracted 129 features.\n",
      "Processing patient: HCC_010...\n"
     ]
    },
    {
     "name": "stderr",
     "output_type": "stream",
     "text": [
      "parameter force2D must be set to True to enable shape2D extraction\n",
      "GLCM is symmetrical, therefore Sum Average = 2 * Joint Average, only 1 needs to be calculated\n"
     ]
    },
    {
     "name": "stdout",
     "output_type": "stream",
     "text": [
      "  > Success! Extracted 129 features.\n",
      "Processing patient: HCC_011...\n"
     ]
    },
    {
     "name": "stderr",
     "output_type": "stream",
     "text": [
      "parameter force2D must be set to True to enable shape2D extraction\n",
      "GLCM is symmetrical, therefore Sum Average = 2 * Joint Average, only 1 needs to be calculated\n"
     ]
    },
    {
     "name": "stdout",
     "output_type": "stream",
     "text": [
      "  > Success! Extracted 129 features.\n",
      "Processing patient: HCC_012...\n"
     ]
    },
    {
     "name": "stderr",
     "output_type": "stream",
     "text": [
      "parameter force2D must be set to True to enable shape2D extraction\n",
      "GLCM is symmetrical, therefore Sum Average = 2 * Joint Average, only 1 needs to be calculated\n"
     ]
    },
    {
     "name": "stdout",
     "output_type": "stream",
     "text": [
      "  > Success! Extracted 129 features.\n",
      "Processing patient: HCC_013...\n"
     ]
    },
    {
     "name": "stderr",
     "output_type": "stream",
     "text": [
      "parameter force2D must be set to True to enable shape2D extraction\n",
      "GLCM is symmetrical, therefore Sum Average = 2 * Joint Average, only 1 needs to be calculated\n"
     ]
    },
    {
     "name": "stdout",
     "output_type": "stream",
     "text": [
      "  > Success! Extracted 129 features.\n",
      "Processing patient: HCC_014...\n"
     ]
    },
    {
     "name": "stderr",
     "output_type": "stream",
     "text": [
      "parameter force2D must be set to True to enable shape2D extraction\n",
      "GLCM is symmetrical, therefore Sum Average = 2 * Joint Average, only 1 needs to be calculated\n"
     ]
    },
    {
     "name": "stdout",
     "output_type": "stream",
     "text": [
      "  > Success! Extracted 129 features.\n",
      "Processing patient: HCC_015...\n"
     ]
    },
    {
     "name": "stderr",
     "output_type": "stream",
     "text": [
      "parameter force2D must be set to True to enable shape2D extraction\n",
      "GLCM is symmetrical, therefore Sum Average = 2 * Joint Average, only 1 needs to be calculated\n"
     ]
    },
    {
     "name": "stdout",
     "output_type": "stream",
     "text": [
      "  > Success! Extracted 129 features.\n",
      "Processing patient: HCC_016...\n"
     ]
    },
    {
     "name": "stderr",
     "output_type": "stream",
     "text": [
      "parameter force2D must be set to True to enable shape2D extraction\n",
      "GLCM is symmetrical, therefore Sum Average = 2 * Joint Average, only 1 needs to be calculated\n"
     ]
    },
    {
     "name": "stdout",
     "output_type": "stream",
     "text": [
      "  > Success! Extracted 129 features.\n",
      "Processing patient: HCC_017...\n"
     ]
    },
    {
     "name": "stderr",
     "output_type": "stream",
     "text": [
      "parameter force2D must be set to True to enable shape2D extraction\n",
      "GLCM is symmetrical, therefore Sum Average = 2 * Joint Average, only 1 needs to be calculated\n"
     ]
    },
    {
     "name": "stdout",
     "output_type": "stream",
     "text": [
      "  > Success! Extracted 129 features.\n",
      "Processing patient: HCC_018...\n"
     ]
    },
    {
     "name": "stderr",
     "output_type": "stream",
     "text": [
      "parameter force2D must be set to True to enable shape2D extraction\n",
      "GLCM is symmetrical, therefore Sum Average = 2 * Joint Average, only 1 needs to be calculated\n"
     ]
    },
    {
     "name": "stdout",
     "output_type": "stream",
     "text": [
      "  > Success! Extracted 129 features.\n",
      "Processing patient: HCC_019...\n"
     ]
    },
    {
     "name": "stderr",
     "output_type": "stream",
     "text": [
      "parameter force2D must be set to True to enable shape2D extraction\n",
      "GLCM is symmetrical, therefore Sum Average = 2 * Joint Average, only 1 needs to be calculated\n"
     ]
    },
    {
     "name": "stdout",
     "output_type": "stream",
     "text": [
      "  > Success! Extracted 129 features.\n",
      "Processing patient: HCC_020...\n"
     ]
    },
    {
     "name": "stderr",
     "output_type": "stream",
     "text": [
      "parameter force2D must be set to True to enable shape2D extraction\n",
      "GLCM is symmetrical, therefore Sum Average = 2 * Joint Average, only 1 needs to be calculated\n"
     ]
    },
    {
     "name": "stdout",
     "output_type": "stream",
     "text": [
      "  > Success! Extracted 129 features.\n",
      "Processing patient: HCC_021...\n",
      "  > FAILED for patient HCC_021. Error: No labels found in this mask (i.e. nothing is segmented)!\n",
      "Processing patient: HCC_022...\n"
     ]
    },
    {
     "name": "stderr",
     "output_type": "stream",
     "text": [
      "parameter force2D must be set to True to enable shape2D extraction\n",
      "GLCM is symmetrical, therefore Sum Average = 2 * Joint Average, only 1 needs to be calculated\n"
     ]
    },
    {
     "name": "stdout",
     "output_type": "stream",
     "text": [
      "  > Success! Extracted 129 features.\n",
      "Processing patient: HCC_023...\n"
     ]
    },
    {
     "name": "stderr",
     "output_type": "stream",
     "text": [
      "parameter force2D must be set to True to enable shape2D extraction\n",
      "GLCM is symmetrical, therefore Sum Average = 2 * Joint Average, only 1 needs to be calculated\n"
     ]
    },
    {
     "name": "stdout",
     "output_type": "stream",
     "text": [
      "  > Success! Extracted 129 features.\n",
      "Processing patient: HCC_024...\n"
     ]
    },
    {
     "name": "stderr",
     "output_type": "stream",
     "text": [
      "parameter force2D must be set to True to enable shape2D extraction\n",
      "GLCM is symmetrical, therefore Sum Average = 2 * Joint Average, only 1 needs to be calculated\n"
     ]
    },
    {
     "name": "stdout",
     "output_type": "stream",
     "text": [
      "  > Success! Extracted 129 features.\n",
      "Processing patient: HCC_025...\n"
     ]
    },
    {
     "name": "stderr",
     "output_type": "stream",
     "text": [
      "parameter force2D must be set to True to enable shape2D extraction\n",
      "GLCM is symmetrical, therefore Sum Average = 2 * Joint Average, only 1 needs to be calculated\n"
     ]
    },
    {
     "name": "stdout",
     "output_type": "stream",
     "text": [
      "  > Success! Extracted 129 features.\n",
      "Processing patient: HCC_026...\n"
     ]
    },
    {
     "name": "stderr",
     "output_type": "stream",
     "text": [
      "parameter force2D must be set to True to enable shape2D extraction\n",
      "GLCM is symmetrical, therefore Sum Average = 2 * Joint Average, only 1 needs to be calculated\n"
     ]
    },
    {
     "name": "stdout",
     "output_type": "stream",
     "text": [
      "  > Success! Extracted 129 features.\n",
      "Processing patient: HCC_027...\n"
     ]
    },
    {
     "name": "stderr",
     "output_type": "stream",
     "text": [
      "parameter force2D must be set to True to enable shape2D extraction\n",
      "GLCM is symmetrical, therefore Sum Average = 2 * Joint Average, only 1 needs to be calculated\n"
     ]
    },
    {
     "name": "stdout",
     "output_type": "stream",
     "text": [
      "  > Success! Extracted 129 features.\n",
      "Processing patient: HCC_028...\n"
     ]
    },
    {
     "name": "stderr",
     "output_type": "stream",
     "text": [
      "parameter force2D must be set to True to enable shape2D extraction\n",
      "GLCM is symmetrical, therefore Sum Average = 2 * Joint Average, only 1 needs to be calculated\n"
     ]
    },
    {
     "name": "stdout",
     "output_type": "stream",
     "text": [
      "  > Success! Extracted 129 features.\n",
      "Processing patient: HCC_029...\n"
     ]
    },
    {
     "name": "stderr",
     "output_type": "stream",
     "text": [
      "parameter force2D must be set to True to enable shape2D extraction\n",
      "GLCM is symmetrical, therefore Sum Average = 2 * Joint Average, only 1 needs to be calculated\n"
     ]
    },
    {
     "name": "stdout",
     "output_type": "stream",
     "text": [
      "  > Success! Extracted 129 features.\n",
      "Processing patient: HCC_030...\n"
     ]
    },
    {
     "name": "stderr",
     "output_type": "stream",
     "text": [
      "parameter force2D must be set to True to enable shape2D extraction\n",
      "GLCM is symmetrical, therefore Sum Average = 2 * Joint Average, only 1 needs to be calculated\n"
     ]
    },
    {
     "name": "stdout",
     "output_type": "stream",
     "text": [
      "  > Success! Extracted 129 features.\n",
      "Processing patient: HCC_031...\n"
     ]
    },
    {
     "name": "stderr",
     "output_type": "stream",
     "text": [
      "parameter force2D must be set to True to enable shape2D extraction\n",
      "GLCM is symmetrical, therefore Sum Average = 2 * Joint Average, only 1 needs to be calculated\n"
     ]
    },
    {
     "name": "stdout",
     "output_type": "stream",
     "text": [
      "  > Success! Extracted 129 features.\n",
      "Processing patient: HCC_032...\n",
      "  > FAILED for patient HCC_032. Error: No labels found in this mask (i.e. nothing is segmented)!\n",
      "Processing patient: HCC_033...\n"
     ]
    },
    {
     "name": "stderr",
     "output_type": "stream",
     "text": [
      "parameter force2D must be set to True to enable shape2D extraction\n",
      "GLCM is symmetrical, therefore Sum Average = 2 * Joint Average, only 1 needs to be calculated\n"
     ]
    },
    {
     "name": "stdout",
     "output_type": "stream",
     "text": [
      "  > Success! Extracted 129 features.\n",
      "Processing patient: HCC_034...\n"
     ]
    },
    {
     "name": "stderr",
     "output_type": "stream",
     "text": [
      "parameter force2D must be set to True to enable shape2D extraction\n",
      "GLCM is symmetrical, therefore Sum Average = 2 * Joint Average, only 1 needs to be calculated\n"
     ]
    },
    {
     "name": "stdout",
     "output_type": "stream",
     "text": [
      "  > Success! Extracted 129 features.\n",
      "Processing patient: HCC_035...\n"
     ]
    },
    {
     "name": "stderr",
     "output_type": "stream",
     "text": [
      "parameter force2D must be set to True to enable shape2D extraction\n",
      "GLCM is symmetrical, therefore Sum Average = 2 * Joint Average, only 1 needs to be calculated\n"
     ]
    },
    {
     "name": "stdout",
     "output_type": "stream",
     "text": [
      "  > Success! Extracted 129 features.\n",
      "Processing patient: HCC_036...\n"
     ]
    },
    {
     "name": "stderr",
     "output_type": "stream",
     "text": [
      "parameter force2D must be set to True to enable shape2D extraction\n",
      "GLCM is symmetrical, therefore Sum Average = 2 * Joint Average, only 1 needs to be calculated\n"
     ]
    },
    {
     "name": "stdout",
     "output_type": "stream",
     "text": [
      "  > Success! Extracted 129 features.\n",
      "Processing patient: HCC_037...\n"
     ]
    },
    {
     "name": "stderr",
     "output_type": "stream",
     "text": [
      "parameter force2D must be set to True to enable shape2D extraction\n",
      "GLCM is symmetrical, therefore Sum Average = 2 * Joint Average, only 1 needs to be calculated\n"
     ]
    },
    {
     "name": "stdout",
     "output_type": "stream",
     "text": [
      "  > Success! Extracted 129 features.\n",
      "Processing patient: HCC_038...\n"
     ]
    },
    {
     "name": "stderr",
     "output_type": "stream",
     "text": [
      "parameter force2D must be set to True to enable shape2D extraction\n",
      "GLCM is symmetrical, therefore Sum Average = 2 * Joint Average, only 1 needs to be calculated\n"
     ]
    },
    {
     "name": "stdout",
     "output_type": "stream",
     "text": [
      "  > Success! Extracted 129 features.\n",
      "Processing patient: HCC_039...\n"
     ]
    },
    {
     "name": "stderr",
     "output_type": "stream",
     "text": [
      "parameter force2D must be set to True to enable shape2D extraction\n",
      "GLCM is symmetrical, therefore Sum Average = 2 * Joint Average, only 1 needs to be calculated\n"
     ]
    },
    {
     "name": "stdout",
     "output_type": "stream",
     "text": [
      "  > Success! Extracted 129 features.\n",
      "Processing patient: HCC_040...\n"
     ]
    },
    {
     "name": "stderr",
     "output_type": "stream",
     "text": [
      "parameter force2D must be set to True to enable shape2D extraction\n",
      "GLCM is symmetrical, therefore Sum Average = 2 * Joint Average, only 1 needs to be calculated\n"
     ]
    },
    {
     "name": "stdout",
     "output_type": "stream",
     "text": [
      "  > Success! Extracted 129 features.\n",
      "Processing patient: HCC_041...\n"
     ]
    },
    {
     "name": "stderr",
     "output_type": "stream",
     "text": [
      "parameter force2D must be set to True to enable shape2D extraction\n",
      "GLCM is symmetrical, therefore Sum Average = 2 * Joint Average, only 1 needs to be calculated\n"
     ]
    },
    {
     "name": "stdout",
     "output_type": "stream",
     "text": [
      "  > Success! Extracted 129 features.\n",
      "Processing patient: HCC_042...\n"
     ]
    },
    {
     "name": "stderr",
     "output_type": "stream",
     "text": [
      "parameter force2D must be set to True to enable shape2D extraction\n",
      "GLCM is symmetrical, therefore Sum Average = 2 * Joint Average, only 1 needs to be calculated\n"
     ]
    },
    {
     "name": "stdout",
     "output_type": "stream",
     "text": [
      "  > Success! Extracted 129 features.\n",
      "Processing patient: HCC_043...\n"
     ]
    },
    {
     "name": "stderr",
     "output_type": "stream",
     "text": [
      "parameter force2D must be set to True to enable shape2D extraction\n",
      "GLCM is symmetrical, therefore Sum Average = 2 * Joint Average, only 1 needs to be calculated\n"
     ]
    },
    {
     "name": "stdout",
     "output_type": "stream",
     "text": [
      "  > Success! Extracted 129 features.\n",
      "Processing patient: HCC_044...\n"
     ]
    },
    {
     "name": "stderr",
     "output_type": "stream",
     "text": [
      "parameter force2D must be set to True to enable shape2D extraction\n",
      "GLCM is symmetrical, therefore Sum Average = 2 * Joint Average, only 1 needs to be calculated\n"
     ]
    },
    {
     "name": "stdout",
     "output_type": "stream",
     "text": [
      "  > Success! Extracted 129 features.\n",
      "Processing patient: HCC_045...\n"
     ]
    },
    {
     "name": "stderr",
     "output_type": "stream",
     "text": [
      "parameter force2D must be set to True to enable shape2D extraction\n",
      "GLCM is symmetrical, therefore Sum Average = 2 * Joint Average, only 1 needs to be calculated\n"
     ]
    },
    {
     "name": "stdout",
     "output_type": "stream",
     "text": [
      "  > Success! Extracted 129 features.\n",
      "Processing patient: HCC_046...\n"
     ]
    },
    {
     "name": "stderr",
     "output_type": "stream",
     "text": [
      "parameter force2D must be set to True to enable shape2D extraction\n",
      "GLCM is symmetrical, therefore Sum Average = 2 * Joint Average, only 1 needs to be calculated\n"
     ]
    },
    {
     "name": "stdout",
     "output_type": "stream",
     "text": [
      "  > Success! Extracted 129 features.\n",
      "Processing patient: HCC_047...\n"
     ]
    },
    {
     "name": "stderr",
     "output_type": "stream",
     "text": [
      "parameter force2D must be set to True to enable shape2D extraction\n",
      "GLCM is symmetrical, therefore Sum Average = 2 * Joint Average, only 1 needs to be calculated\n"
     ]
    },
    {
     "name": "stdout",
     "output_type": "stream",
     "text": [
      "  > Success! Extracted 129 features.\n",
      "Processing patient: HCC_048...\n"
     ]
    },
    {
     "name": "stderr",
     "output_type": "stream",
     "text": [
      "parameter force2D must be set to True to enable shape2D extraction\n",
      "GLCM is symmetrical, therefore Sum Average = 2 * Joint Average, only 1 needs to be calculated\n"
     ]
    },
    {
     "name": "stdout",
     "output_type": "stream",
     "text": [
      "  > Success! Extracted 129 features.\n",
      "Processing patient: HCC_049...\n"
     ]
    },
    {
     "name": "stderr",
     "output_type": "stream",
     "text": [
      "parameter force2D must be set to True to enable shape2D extraction\n",
      "GLCM is symmetrical, therefore Sum Average = 2 * Joint Average, only 1 needs to be calculated\n"
     ]
    },
    {
     "name": "stdout",
     "output_type": "stream",
     "text": [
      "  > Success! Extracted 129 features.\n",
      "Processing patient: HCC_050...\n",
      "  > FAILED for patient HCC_050. Error: No labels found in this mask (i.e. nothing is segmented)!\n",
      "Processing patient: HCC_051...\n"
     ]
    },
    {
     "name": "stderr",
     "output_type": "stream",
     "text": [
      "parameter force2D must be set to True to enable shape2D extraction\n",
      "GLCM is symmetrical, therefore Sum Average = 2 * Joint Average, only 1 needs to be calculated\n"
     ]
    },
    {
     "name": "stdout",
     "output_type": "stream",
     "text": [
      "  > Success! Extracted 129 features.\n",
      "Processing patient: HCC_052...\n"
     ]
    },
    {
     "name": "stderr",
     "output_type": "stream",
     "text": [
      "parameter force2D must be set to True to enable shape2D extraction\n",
      "GLCM is symmetrical, therefore Sum Average = 2 * Joint Average, only 1 needs to be calculated\n"
     ]
    },
    {
     "name": "stdout",
     "output_type": "stream",
     "text": [
      "  > Success! Extracted 129 features.\n",
      "Processing patient: HCC_053...\n"
     ]
    },
    {
     "name": "stderr",
     "output_type": "stream",
     "text": [
      "parameter force2D must be set to True to enable shape2D extraction\n",
      "GLCM is symmetrical, therefore Sum Average = 2 * Joint Average, only 1 needs to be calculated\n"
     ]
    },
    {
     "name": "stdout",
     "output_type": "stream",
     "text": [
      "  > Success! Extracted 129 features.\n",
      "Processing patient: HCC_054...\n"
     ]
    },
    {
     "name": "stderr",
     "output_type": "stream",
     "text": [
      "parameter force2D must be set to True to enable shape2D extraction\n",
      "GLCM is symmetrical, therefore Sum Average = 2 * Joint Average, only 1 needs to be calculated\n"
     ]
    },
    {
     "name": "stdout",
     "output_type": "stream",
     "text": [
      "  > Success! Extracted 129 features.\n",
      "Processing patient: HCC_055...\n"
     ]
    },
    {
     "name": "stderr",
     "output_type": "stream",
     "text": [
      "parameter force2D must be set to True to enable shape2D extraction\n",
      "GLCM is symmetrical, therefore Sum Average = 2 * Joint Average, only 1 needs to be calculated\n"
     ]
    },
    {
     "name": "stdout",
     "output_type": "stream",
     "text": [
      "  > Success! Extracted 129 features.\n",
      "Processing patient: HCC_056...\n"
     ]
    },
    {
     "name": "stderr",
     "output_type": "stream",
     "text": [
      "parameter force2D must be set to True to enable shape2D extraction\n",
      "GLCM is symmetrical, therefore Sum Average = 2 * Joint Average, only 1 needs to be calculated\n"
     ]
    },
    {
     "name": "stdout",
     "output_type": "stream",
     "text": [
      "  > Success! Extracted 129 features.\n",
      "Processing patient: HCC_057...\n"
     ]
    },
    {
     "name": "stderr",
     "output_type": "stream",
     "text": [
      "parameter force2D must be set to True to enable shape2D extraction\n",
      "GLCM is symmetrical, therefore Sum Average = 2 * Joint Average, only 1 needs to be calculated\n"
     ]
    },
    {
     "name": "stdout",
     "output_type": "stream",
     "text": [
      "  > Success! Extracted 129 features.\n",
      "Processing patient: HCC_058...\n"
     ]
    },
    {
     "name": "stderr",
     "output_type": "stream",
     "text": [
      "parameter force2D must be set to True to enable shape2D extraction\n",
      "GLCM is symmetrical, therefore Sum Average = 2 * Joint Average, only 1 needs to be calculated\n"
     ]
    },
    {
     "name": "stdout",
     "output_type": "stream",
     "text": [
      "  > Success! Extracted 129 features.\n",
      "Processing patient: HCC_059...\n"
     ]
    },
    {
     "name": "stderr",
     "output_type": "stream",
     "text": [
      "parameter force2D must be set to True to enable shape2D extraction\n",
      "GLCM is symmetrical, therefore Sum Average = 2 * Joint Average, only 1 needs to be calculated\n"
     ]
    },
    {
     "name": "stdout",
     "output_type": "stream",
     "text": [
      "  > Success! Extracted 129 features.\n",
      "Processing patient: HCC_060...\n"
     ]
    },
    {
     "name": "stderr",
     "output_type": "stream",
     "text": [
      "parameter force2D must be set to True to enable shape2D extraction\n",
      "GLCM is symmetrical, therefore Sum Average = 2 * Joint Average, only 1 needs to be calculated\n"
     ]
    },
    {
     "name": "stdout",
     "output_type": "stream",
     "text": [
      "  > Success! Extracted 129 features.\n",
      "Processing patient: HCC_061...\n"
     ]
    },
    {
     "name": "stderr",
     "output_type": "stream",
     "text": [
      "parameter force2D must be set to True to enable shape2D extraction\n",
      "GLCM is symmetrical, therefore Sum Average = 2 * Joint Average, only 1 needs to be calculated\n"
     ]
    },
    {
     "name": "stdout",
     "output_type": "stream",
     "text": [
      "  > Success! Extracted 129 features.\n",
      "Processing patient: HCC_062...\n"
     ]
    },
    {
     "name": "stderr",
     "output_type": "stream",
     "text": [
      "parameter force2D must be set to True to enable shape2D extraction\n",
      "GLCM is symmetrical, therefore Sum Average = 2 * Joint Average, only 1 needs to be calculated\n"
     ]
    },
    {
     "name": "stdout",
     "output_type": "stream",
     "text": [
      "  > Success! Extracted 129 features.\n",
      "Processing patient: HCC_063...\n"
     ]
    },
    {
     "name": "stderr",
     "output_type": "stream",
     "text": [
      "parameter force2D must be set to True to enable shape2D extraction\n",
      "GLCM is symmetrical, therefore Sum Average = 2 * Joint Average, only 1 needs to be calculated\n"
     ]
    },
    {
     "name": "stdout",
     "output_type": "stream",
     "text": [
      "  > Success! Extracted 129 features.\n",
      "Processing patient: HCC_064...\n"
     ]
    },
    {
     "name": "stderr",
     "output_type": "stream",
     "text": [
      "parameter force2D must be set to True to enable shape2D extraction\n",
      "GLCM is symmetrical, therefore Sum Average = 2 * Joint Average, only 1 needs to be calculated\n"
     ]
    },
    {
     "name": "stdout",
     "output_type": "stream",
     "text": [
      "  > Success! Extracted 129 features.\n",
      "Processing patient: HCC_065...\n"
     ]
    },
    {
     "name": "stderr",
     "output_type": "stream",
     "text": [
      "parameter force2D must be set to True to enable shape2D extraction\n",
      "GLCM is symmetrical, therefore Sum Average = 2 * Joint Average, only 1 needs to be calculated\n"
     ]
    },
    {
     "name": "stdout",
     "output_type": "stream",
     "text": [
      "  > Success! Extracted 129 features.\n",
      "Processing patient: HCC_066...\n"
     ]
    },
    {
     "name": "stderr",
     "output_type": "stream",
     "text": [
      "parameter force2D must be set to True to enable shape2D extraction\n",
      "GLCM is symmetrical, therefore Sum Average = 2 * Joint Average, only 1 needs to be calculated\n"
     ]
    },
    {
     "name": "stdout",
     "output_type": "stream",
     "text": [
      "  > Success! Extracted 129 features.\n",
      "Processing patient: HCC_067...\n"
     ]
    },
    {
     "name": "stderr",
     "output_type": "stream",
     "text": [
      "parameter force2D must be set to True to enable shape2D extraction\n",
      "GLCM is symmetrical, therefore Sum Average = 2 * Joint Average, only 1 needs to be calculated\n"
     ]
    },
    {
     "name": "stdout",
     "output_type": "stream",
     "text": [
      "  > Success! Extracted 129 features.\n",
      "Processing patient: HCC_068...\n"
     ]
    },
    {
     "name": "stderr",
     "output_type": "stream",
     "text": [
      "parameter force2D must be set to True to enable shape2D extraction\n",
      "GLCM is symmetrical, therefore Sum Average = 2 * Joint Average, only 1 needs to be calculated\n"
     ]
    },
    {
     "name": "stdout",
     "output_type": "stream",
     "text": [
      "  > Success! Extracted 129 features.\n",
      "Processing patient: HCC_069...\n"
     ]
    },
    {
     "name": "stderr",
     "output_type": "stream",
     "text": [
      "parameter force2D must be set to True to enable shape2D extraction\n",
      "GLCM is symmetrical, therefore Sum Average = 2 * Joint Average, only 1 needs to be calculated\n"
     ]
    },
    {
     "name": "stdout",
     "output_type": "stream",
     "text": [
      "  > Success! Extracted 129 features.\n",
      "Processing patient: HCC_070...\n"
     ]
    },
    {
     "name": "stderr",
     "output_type": "stream",
     "text": [
      "parameter force2D must be set to True to enable shape2D extraction\n",
      "GLCM is symmetrical, therefore Sum Average = 2 * Joint Average, only 1 needs to be calculated\n"
     ]
    },
    {
     "name": "stdout",
     "output_type": "stream",
     "text": [
      "  > Success! Extracted 129 features.\n",
      "Processing patient: HCC_071...\n"
     ]
    },
    {
     "name": "stderr",
     "output_type": "stream",
     "text": [
      "parameter force2D must be set to True to enable shape2D extraction\n",
      "GLCM is symmetrical, therefore Sum Average = 2 * Joint Average, only 1 needs to be calculated\n"
     ]
    },
    {
     "name": "stdout",
     "output_type": "stream",
     "text": [
      "  > Success! Extracted 129 features.\n",
      "Processing patient: HCC_072...\n"
     ]
    },
    {
     "name": "stderr",
     "output_type": "stream",
     "text": [
      "parameter force2D must be set to True to enable shape2D extraction\n",
      "GLCM is symmetrical, therefore Sum Average = 2 * Joint Average, only 1 needs to be calculated\n"
     ]
    },
    {
     "name": "stdout",
     "output_type": "stream",
     "text": [
      "  > Success! Extracted 129 features.\n",
      "Processing patient: HCC_073...\n"
     ]
    },
    {
     "name": "stderr",
     "output_type": "stream",
     "text": [
      "parameter force2D must be set to True to enable shape2D extraction\n",
      "GLCM is symmetrical, therefore Sum Average = 2 * Joint Average, only 1 needs to be calculated\n"
     ]
    },
    {
     "name": "stdout",
     "output_type": "stream",
     "text": [
      "  > Success! Extracted 129 features.\n",
      "Processing patient: HCC_074...\n"
     ]
    },
    {
     "name": "stderr",
     "output_type": "stream",
     "text": [
      "parameter force2D must be set to True to enable shape2D extraction\n",
      "GLCM is symmetrical, therefore Sum Average = 2 * Joint Average, only 1 needs to be calculated\n"
     ]
    },
    {
     "name": "stdout",
     "output_type": "stream",
     "text": [
      "  > Success! Extracted 129 features.\n",
      "Processing patient: HCC_075...\n"
     ]
    },
    {
     "name": "stderr",
     "output_type": "stream",
     "text": [
      "parameter force2D must be set to True to enable shape2D extraction\n",
      "GLCM is symmetrical, therefore Sum Average = 2 * Joint Average, only 1 needs to be calculated\n"
     ]
    },
    {
     "name": "stdout",
     "output_type": "stream",
     "text": [
      "  > Success! Extracted 129 features.\n",
      "Processing patient: HCC_076...\n"
     ]
    },
    {
     "name": "stderr",
     "output_type": "stream",
     "text": [
      "parameter force2D must be set to True to enable shape2D extraction\n",
      "GLCM is symmetrical, therefore Sum Average = 2 * Joint Average, only 1 needs to be calculated\n"
     ]
    },
    {
     "name": "stdout",
     "output_type": "stream",
     "text": [
      "  > Success! Extracted 129 features.\n",
      "Processing patient: HCC_077...\n",
      "  > FAILED for patient HCC_077. Error: No labels found in this mask (i.e. nothing is segmented)!\n",
      "Processing patient: HCC_078...\n"
     ]
    },
    {
     "name": "stderr",
     "output_type": "stream",
     "text": [
      "parameter force2D must be set to True to enable shape2D extraction\n",
      "GLCM is symmetrical, therefore Sum Average = 2 * Joint Average, only 1 needs to be calculated\n"
     ]
    },
    {
     "name": "stdout",
     "output_type": "stream",
     "text": [
      "  > Success! Extracted 129 features.\n",
      "Processing patient: HCC_079...\n"
     ]
    },
    {
     "name": "stderr",
     "output_type": "stream",
     "text": [
      "parameter force2D must be set to True to enable shape2D extraction\n",
      "GLCM is symmetrical, therefore Sum Average = 2 * Joint Average, only 1 needs to be calculated\n"
     ]
    },
    {
     "name": "stdout",
     "output_type": "stream",
     "text": [
      "  > Success! Extracted 129 features.\n",
      "Processing patient: HCC_080...\n"
     ]
    },
    {
     "name": "stderr",
     "output_type": "stream",
     "text": [
      "parameter force2D must be set to True to enable shape2D extraction\n",
      "GLCM is symmetrical, therefore Sum Average = 2 * Joint Average, only 1 needs to be calculated\n"
     ]
    },
    {
     "name": "stdout",
     "output_type": "stream",
     "text": [
      "  > Success! Extracted 129 features.\n",
      "Processing patient: HCC_081...\n"
     ]
    },
    {
     "name": "stderr",
     "output_type": "stream",
     "text": [
      "parameter force2D must be set to True to enable shape2D extraction\n",
      "GLCM is symmetrical, therefore Sum Average = 2 * Joint Average, only 1 needs to be calculated\n"
     ]
    },
    {
     "name": "stdout",
     "output_type": "stream",
     "text": [
      "  > Success! Extracted 129 features.\n",
      "Processing patient: HCC_082...\n"
     ]
    },
    {
     "name": "stderr",
     "output_type": "stream",
     "text": [
      "parameter force2D must be set to True to enable shape2D extraction\n",
      "GLCM is symmetrical, therefore Sum Average = 2 * Joint Average, only 1 needs to be calculated\n"
     ]
    },
    {
     "name": "stdout",
     "output_type": "stream",
     "text": [
      "  > Success! Extracted 129 features.\n",
      "Processing patient: HCC_083...\n"
     ]
    },
    {
     "name": "stderr",
     "output_type": "stream",
     "text": [
      "parameter force2D must be set to True to enable shape2D extraction\n",
      "GLCM is symmetrical, therefore Sum Average = 2 * Joint Average, only 1 needs to be calculated\n"
     ]
    },
    {
     "name": "stdout",
     "output_type": "stream",
     "text": [
      "  > Success! Extracted 129 features.\n",
      "Processing patient: HCC_084...\n"
     ]
    },
    {
     "name": "stderr",
     "output_type": "stream",
     "text": [
      "parameter force2D must be set to True to enable shape2D extraction\n",
      "GLCM is symmetrical, therefore Sum Average = 2 * Joint Average, only 1 needs to be calculated\n"
     ]
    },
    {
     "name": "stdout",
     "output_type": "stream",
     "text": [
      "  > Success! Extracted 129 features.\n",
      "Processing patient: HCC_085...\n"
     ]
    },
    {
     "name": "stderr",
     "output_type": "stream",
     "text": [
      "parameter force2D must be set to True to enable shape2D extraction\n",
      "GLCM is symmetrical, therefore Sum Average = 2 * Joint Average, only 1 needs to be calculated\n"
     ]
    },
    {
     "name": "stdout",
     "output_type": "stream",
     "text": [
      "  > Success! Extracted 129 features.\n",
      "Processing patient: HCC_086...\n"
     ]
    },
    {
     "name": "stderr",
     "output_type": "stream",
     "text": [
      "parameter force2D must be set to True to enable shape2D extraction\n",
      "GLCM is symmetrical, therefore Sum Average = 2 * Joint Average, only 1 needs to be calculated\n"
     ]
    },
    {
     "name": "stdout",
     "output_type": "stream",
     "text": [
      "  > Success! Extracted 129 features.\n",
      "Processing patient: HCC_087...\n"
     ]
    },
    {
     "name": "stderr",
     "output_type": "stream",
     "text": [
      "parameter force2D must be set to True to enable shape2D extraction\n",
      "GLCM is symmetrical, therefore Sum Average = 2 * Joint Average, only 1 needs to be calculated\n"
     ]
    },
    {
     "name": "stdout",
     "output_type": "stream",
     "text": [
      "  > Success! Extracted 129 features.\n",
      "Processing patient: HCC_088...\n"
     ]
    },
    {
     "name": "stderr",
     "output_type": "stream",
     "text": [
      "parameter force2D must be set to True to enable shape2D extraction\n",
      "GLCM is symmetrical, therefore Sum Average = 2 * Joint Average, only 1 needs to be calculated\n"
     ]
    },
    {
     "name": "stdout",
     "output_type": "stream",
     "text": [
      "  > Success! Extracted 129 features.\n",
      "Processing patient: HCC_089...\n"
     ]
    },
    {
     "name": "stderr",
     "output_type": "stream",
     "text": [
      "parameter force2D must be set to True to enable shape2D extraction\n",
      "GLCM is symmetrical, therefore Sum Average = 2 * Joint Average, only 1 needs to be calculated\n"
     ]
    },
    {
     "name": "stdout",
     "output_type": "stream",
     "text": [
      "  > Success! Extracted 129 features.\n",
      "Processing patient: HCC_090...\n"
     ]
    },
    {
     "name": "stderr",
     "output_type": "stream",
     "text": [
      "parameter force2D must be set to True to enable shape2D extraction\n",
      "GLCM is symmetrical, therefore Sum Average = 2 * Joint Average, only 1 needs to be calculated\n"
     ]
    },
    {
     "name": "stdout",
     "output_type": "stream",
     "text": [
      "  > Success! Extracted 129 features.\n",
      "Processing patient: HCC_091...\n"
     ]
    },
    {
     "name": "stderr",
     "output_type": "stream",
     "text": [
      "parameter force2D must be set to True to enable shape2D extraction\n",
      "GLCM is symmetrical, therefore Sum Average = 2 * Joint Average, only 1 needs to be calculated\n"
     ]
    },
    {
     "name": "stdout",
     "output_type": "stream",
     "text": [
      "  > Success! Extracted 129 features.\n",
      "Processing patient: HCC_092...\n"
     ]
    },
    {
     "name": "stderr",
     "output_type": "stream",
     "text": [
      "parameter force2D must be set to True to enable shape2D extraction\n",
      "GLCM is symmetrical, therefore Sum Average = 2 * Joint Average, only 1 needs to be calculated\n"
     ]
    },
    {
     "name": "stdout",
     "output_type": "stream",
     "text": [
      "  > Success! Extracted 129 features.\n",
      "Processing patient: HCC_093...\n"
     ]
    },
    {
     "name": "stderr",
     "output_type": "stream",
     "text": [
      "parameter force2D must be set to True to enable shape2D extraction\n",
      "GLCM is symmetrical, therefore Sum Average = 2 * Joint Average, only 1 needs to be calculated\n"
     ]
    },
    {
     "name": "stdout",
     "output_type": "stream",
     "text": [
      "  > Success! Extracted 129 features.\n",
      "Processing patient: HCC_094...\n"
     ]
    },
    {
     "name": "stderr",
     "output_type": "stream",
     "text": [
      "parameter force2D must be set to True to enable shape2D extraction\n",
      "GLCM is symmetrical, therefore Sum Average = 2 * Joint Average, only 1 needs to be calculated\n"
     ]
    },
    {
     "name": "stdout",
     "output_type": "stream",
     "text": [
      "  > Success! Extracted 129 features.\n",
      "Processing patient: HCC_095...\n"
     ]
    },
    {
     "name": "stderr",
     "output_type": "stream",
     "text": [
      "parameter force2D must be set to True to enable shape2D extraction\n",
      "GLCM is symmetrical, therefore Sum Average = 2 * Joint Average, only 1 needs to be calculated\n"
     ]
    },
    {
     "name": "stdout",
     "output_type": "stream",
     "text": [
      "  > Success! Extracted 129 features.\n",
      "Processing patient: HCC_096...\n"
     ]
    },
    {
     "name": "stderr",
     "output_type": "stream",
     "text": [
      "parameter force2D must be set to True to enable shape2D extraction\n",
      "GLCM is symmetrical, therefore Sum Average = 2 * Joint Average, only 1 needs to be calculated\n"
     ]
    },
    {
     "name": "stdout",
     "output_type": "stream",
     "text": [
      "  > Success! Extracted 129 features.\n",
      "Processing patient: HCC_097...\n"
     ]
    },
    {
     "name": "stderr",
     "output_type": "stream",
     "text": [
      "parameter force2D must be set to True to enable shape2D extraction\n",
      "GLCM is symmetrical, therefore Sum Average = 2 * Joint Average, only 1 needs to be calculated\n"
     ]
    },
    {
     "name": "stdout",
     "output_type": "stream",
     "text": [
      "  > Success! Extracted 129 features.\n",
      "Processing patient: HCC_098...\n"
     ]
    },
    {
     "name": "stderr",
     "output_type": "stream",
     "text": [
      "parameter force2D must be set to True to enable shape2D extraction\n",
      "GLCM is symmetrical, therefore Sum Average = 2 * Joint Average, only 1 needs to be calculated\n"
     ]
    },
    {
     "name": "stdout",
     "output_type": "stream",
     "text": [
      "  > Success! Extracted 129 features.\n",
      "Processing patient: HCC_099...\n"
     ]
    },
    {
     "name": "stderr",
     "output_type": "stream",
     "text": [
      "parameter force2D must be set to True to enable shape2D extraction\n",
      "GLCM is symmetrical, therefore Sum Average = 2 * Joint Average, only 1 needs to be calculated\n"
     ]
    },
    {
     "name": "stdout",
     "output_type": "stream",
     "text": [
      "  > Success! Extracted 129 features.\n",
      "Processing patient: HCC_100...\n"
     ]
    },
    {
     "name": "stderr",
     "output_type": "stream",
     "text": [
      "parameter force2D must be set to True to enable shape2D extraction\n",
      "GLCM is symmetrical, therefore Sum Average = 2 * Joint Average, only 1 needs to be calculated\n"
     ]
    },
    {
     "name": "stdout",
     "output_type": "stream",
     "text": [
      "  > Success! Extracted 129 features.\n",
      "Processing patient: HCC_101...\n",
      "  > FAILED for patient HCC_101. Error: No labels found in this mask (i.e. nothing is segmented)!\n",
      "Processing patient: HCC_102...\n",
      "  > FAILED for patient HCC_102. Error: No labels found in this mask (i.e. nothing is segmented)!\n",
      "Processing patient: HCC_103...\n"
     ]
    },
    {
     "name": "stderr",
     "output_type": "stream",
     "text": [
      "parameter force2D must be set to True to enable shape2D extraction\n",
      "GLCM is symmetrical, therefore Sum Average = 2 * Joint Average, only 1 needs to be calculated\n"
     ]
    },
    {
     "name": "stdout",
     "output_type": "stream",
     "text": [
      "  > Success! Extracted 129 features.\n",
      "Processing patient: HCC_104...\n"
     ]
    },
    {
     "name": "stderr",
     "output_type": "stream",
     "text": [
      "parameter force2D must be set to True to enable shape2D extraction\n",
      "GLCM is symmetrical, therefore Sum Average = 2 * Joint Average, only 1 needs to be calculated\n"
     ]
    },
    {
     "name": "stdout",
     "output_type": "stream",
     "text": [
      "  > Success! Extracted 129 features.\n",
      "Processing patient: HCC_105...\n"
     ]
    },
    {
     "name": "stderr",
     "output_type": "stream",
     "text": [
      "parameter force2D must be set to True to enable shape2D extraction\n",
      "GLCM is symmetrical, therefore Sum Average = 2 * Joint Average, only 1 needs to be calculated\n"
     ]
    },
    {
     "name": "stdout",
     "output_type": "stream",
     "text": [
      "  > Success! Extracted 129 features.\n",
      "\n",
      "Feature extraction complete.\n"
     ]
    }
   ],
   "source": [
    "# --- Main Loop ---\n",
    "\n",
    "# This will store the results for all patients\n",
    "all_features = []\n",
    "\n",
    "# Geting a sorted list of all patient folders\n",
    "patient_folders = sorted([f for f in os.listdir(data_base_path) if os.path.isdir(os.path.join(data_base_path, f))])\n",
    "\n",
    "print(f\"Found {len(patient_folders)} patients. Starting extraction...\")\n",
    "\n",
    "# Looping through each patient folder\n",
    "\n",
    "for patient_id in patient_folders:\n",
    "    print(f\"Processing patient: {patient_id}...\")\n",
    "    patient_path = os.path.join(data_base_path, patient_id)\n",
    "    \n",
    "    # --- Step 1: Find Image and Mask files (using our robust logic from Task 03) ---\n",
    "\n",
    "    image_series_path = ''\n",
    "    mask_file_path = ''\n",
    "\n",
    "    # Walking through all the directories and files inside the patient folder\n",
    "    # to find the image series and mask file\n",
    "    for root, dirs, files in os.walk(patient_path):\n",
    "        if 'SEGMENTATION' in root.upper():\n",
    "            # If I find a segmentation folder, I assume it contains the mask\n",
    "            if files: mask_file_path = os.path.join(root, files[0])\n",
    "\n",
    "        if len(files) > 50 and files[0].endswith('.dcm'):\n",
    "            # If I find a folder with more than 50 DICOM files, I assume it's the image series\n",
    "            image_series_path = root\n",
    "\n",
    "    # --- Step 2: Load and Resample (if paths were found) ---\n",
    "\n",
    "    if image_series_path and mask_file_path:\n",
    "        try:\n",
    "            \n",
    "            # Load image\n",
    "            image_reader = sitk.ImageSeriesReader()\n",
    "            dicom_names = image_reader.GetGDCMSeriesFileNames(image_series_path)\n",
    "            image_reader.SetFileNames(dicom_names)\n",
    "            image_3d = image_reader.Execute()\n",
    "\n",
    "            # Load mask\n",
    "            mask_3d = sitk.ReadImage(mask_file_path)\n",
    "\n",
    "            # Resample mask to match image\n",
    "            resampler = sitk.ResampleImageFilter()\n",
    "            resampler.SetReferenceImage(image_3d)\n",
    "            resampler.SetInterpolator(sitk.sitkNearestNeighbor)\n",
    "            resampled_mask_3d = resampler.Execute(mask_3d)\n",
    "\n",
    "            # --- Step 3: Extract Features ---\n",
    "            # The extractor takes the image and the resampled mask\n",
    "            # It's crucial to use the original image and the resampled mask, not the original mask\n",
    "            feature_vector = extractor.execute(image_3d, resampled_mask_3d, label=255)\n",
    "            \n",
    "            # Add the patient ID to our results\n",
    "            feature_vector['PatientID'] = patient_id\n",
    "            all_features.append(feature_vector)\n",
    "            \n",
    "            print(f\"  > Success! Extracted {len(feature_vector)-1} features.\")\n",
    "\n",
    "        except Exception as e:\n",
    "            print(f\"  > FAILED for patient {patient_id}. Error: {e}\")\n",
    "    else:\n",
    "        print(f\"  > FAILED for patient {patient_id}. Could not find image or mask path.\")\n",
    "\n",
    "print(\"\\nFeature extraction complete.\")"
   ]
  },
  {
   "cell_type": "code",
   "execution_count": 5,
   "id": "10201461",
   "metadata": {},
   "outputs": [
    {
     "name": "stdout",
     "output_type": "stream",
     "text": [
      "Successfully saved 98 patient records to:\n",
      "c:\\Thesis_Project\\Results\\radiomics_features.csv\n"
     ]
    },
    {
     "data": {
      "text/html": [
       "<div>\n",
       "<style scoped>\n",
       "    .dataframe tbody tr th:only-of-type {\n",
       "        vertical-align: middle;\n",
       "    }\n",
       "\n",
       "    .dataframe tbody tr th {\n",
       "        vertical-align: top;\n",
       "    }\n",
       "\n",
       "    .dataframe thead th {\n",
       "        text-align: right;\n",
       "    }\n",
       "</style>\n",
       "<table border=\"1\" class=\"dataframe\">\n",
       "  <thead>\n",
       "    <tr style=\"text-align: right;\">\n",
       "      <th></th>\n",
       "      <th>PatientID</th>\n",
       "      <th>diagnostics_Versions_PyRadiomics</th>\n",
       "      <th>diagnostics_Versions_Numpy</th>\n",
       "      <th>diagnostics_Versions_SimpleITK</th>\n",
       "      <th>diagnostics_Versions_PyWavelet</th>\n",
       "      <th>diagnostics_Versions_Python</th>\n",
       "      <th>diagnostics_Configuration_Settings</th>\n",
       "      <th>diagnostics_Configuration_EnabledImageTypes</th>\n",
       "      <th>diagnostics_Image-original_Hash</th>\n",
       "      <th>diagnostics_Image-original_Dimensionality</th>\n",
       "      <th>...</th>\n",
       "      <th>original_glszm_SmallAreaHighGrayLevelEmphasis</th>\n",
       "      <th>original_glszm_SmallAreaLowGrayLevelEmphasis</th>\n",
       "      <th>original_glszm_ZoneEntropy</th>\n",
       "      <th>original_glszm_ZonePercentage</th>\n",
       "      <th>original_glszm_ZoneVariance</th>\n",
       "      <th>original_ngtdm_Busyness</th>\n",
       "      <th>original_ngtdm_Coarseness</th>\n",
       "      <th>original_ngtdm_Complexity</th>\n",
       "      <th>original_ngtdm_Contrast</th>\n",
       "      <th>original_ngtdm_Strength</th>\n",
       "    </tr>\n",
       "  </thead>\n",
       "  <tbody>\n",
       "    <tr>\n",
       "      <th>0</th>\n",
       "      <td>HCC_002</td>\n",
       "      <td>v3.0.1</td>\n",
       "      <td>2.2.6</td>\n",
       "      <td>2.5.2</td>\n",
       "      <td>1.8.0</td>\n",
       "      <td>3.10.16</td>\n",
       "      <td>{'minimumROIDimensions': 2, 'minimumROISize': ...</td>\n",
       "      <td>{'Original': {}}</td>\n",
       "      <td>fd7992bb639fb9faf665ba819bbd34498377504f</td>\n",
       "      <td>3D</td>\n",
       "      <td>...</td>\n",
       "      <td>1099.8149208591517</td>\n",
       "      <td>0.0023697801381916167</td>\n",
       "      <td>7.583554384864127</td>\n",
       "      <td>0.26679577935087484</td>\n",
       "      <td>2054.359117482585</td>\n",
       "      <td>0.2396853067339907</td>\n",
       "      <td>0.0008502342467176705</td>\n",
       "      <td>5433.018956955054</td>\n",
       "      <td>0.06080326794438817</td>\n",
       "      <td>5.615451453425239</td>\n",
       "    </tr>\n",
       "    <tr>\n",
       "      <th>1</th>\n",
       "      <td>HCC_003</td>\n",
       "      <td>v3.0.1</td>\n",
       "      <td>2.2.6</td>\n",
       "      <td>2.5.2</td>\n",
       "      <td>1.8.0</td>\n",
       "      <td>3.10.16</td>\n",
       "      <td>{'minimumROIDimensions': 2, 'minimumROISize': ...</td>\n",
       "      <td>{'Original': {}}</td>\n",
       "      <td>25aeb8d1ec7731ede2658379e04e15b3befd6497</td>\n",
       "      <td>3D</td>\n",
       "      <td>...</td>\n",
       "      <td>769.3533178996998</td>\n",
       "      <td>0.023946351412725417</td>\n",
       "      <td>7.485852328292948</td>\n",
       "      <td>0.12228727025187203</td>\n",
       "      <td>4584.584626934664</td>\n",
       "      <td>0.7698898280558546</td>\n",
       "      <td>0.00045715253239660977</td>\n",
       "      <td>3697.1129554536174</td>\n",
       "      <td>0.26981151141155885</td>\n",
       "      <td>2.4314885704488103</td>\n",
       "    </tr>\n",
       "    <tr>\n",
       "      <th>2</th>\n",
       "      <td>HCC_004</td>\n",
       "      <td>v3.0.1</td>\n",
       "      <td>2.2.6</td>\n",
       "      <td>2.5.2</td>\n",
       "      <td>1.8.0</td>\n",
       "      <td>3.10.16</td>\n",
       "      <td>{'minimumROIDimensions': 2, 'minimumROISize': ...</td>\n",
       "      <td>{'Original': {}}</td>\n",
       "      <td>3b109c7a737933c2ffe0dd9f7ff6ba61aa1617af</td>\n",
       "      <td>3D</td>\n",
       "      <td>...</td>\n",
       "      <td>982.9051042609103</td>\n",
       "      <td>0.005597864447674355</td>\n",
       "      <td>8.184989238560847</td>\n",
       "      <td>0.1478127217304788</td>\n",
       "      <td>71788.31617227747</td>\n",
       "      <td>6.842687288463462</td>\n",
       "      <td>3.058283611455279e-05</td>\n",
       "      <td>18299.8578155048</td>\n",
       "      <td>0.0668671241145693</td>\n",
       "      <td>0.6895097409876039</td>\n",
       "    </tr>\n",
       "    <tr>\n",
       "      <th>3</th>\n",
       "      <td>HCC_005</td>\n",
       "      <td>v3.0.1</td>\n",
       "      <td>2.2.6</td>\n",
       "      <td>2.5.2</td>\n",
       "      <td>1.8.0</td>\n",
       "      <td>3.10.16</td>\n",
       "      <td>{'minimumROIDimensions': 2, 'minimumROISize': ...</td>\n",
       "      <td>{'Original': {}}</td>\n",
       "      <td>b3321933601c857f30931e33f848083b44d67fbe</td>\n",
       "      <td>3D</td>\n",
       "      <td>...</td>\n",
       "      <td>1077.3630471870777</td>\n",
       "      <td>0.0011338962311964428</td>\n",
       "      <td>7.141550907621083</td>\n",
       "      <td>0.11574919622918968</td>\n",
       "      <td>222863.08800993662</td>\n",
       "      <td>10.955859892357402</td>\n",
       "      <td>1.6832631818601294e-05</td>\n",
       "      <td>3817.8404985062903</td>\n",
       "      <td>0.015906301239814284</td>\n",
       "      <td>0.08767486633063029</td>\n",
       "    </tr>\n",
       "    <tr>\n",
       "      <th>4</th>\n",
       "      <td>HCC_006</td>\n",
       "      <td>v3.0.1</td>\n",
       "      <td>2.2.6</td>\n",
       "      <td>2.5.2</td>\n",
       "      <td>1.8.0</td>\n",
       "      <td>3.10.16</td>\n",
       "      <td>{'minimumROIDimensions': 2, 'minimumROISize': ...</td>\n",
       "      <td>{'Original': {}}</td>\n",
       "      <td>a0a1238368bdb1bbc105ea0be520016c306efe99</td>\n",
       "      <td>3D</td>\n",
       "      <td>...</td>\n",
       "      <td>1291.330916101148</td>\n",
       "      <td>0.0028918655074671516</td>\n",
       "      <td>7.605537387592789</td>\n",
       "      <td>0.12340219491115088</td>\n",
       "      <td>78501.19701343217</td>\n",
       "      <td>6.983019626887953</td>\n",
       "      <td>2.1857447738666883e-05</td>\n",
       "      <td>5438.366683688181</td>\n",
       "      <td>0.028211533424528937</td>\n",
       "      <td>0.18943655461842052</td>\n",
       "    </tr>\n",
       "  </tbody>\n",
       "</table>\n",
       "<p>5 rows × 130 columns</p>\n",
       "</div>"
      ],
      "text/plain": [
       "  PatientID diagnostics_Versions_PyRadiomics diagnostics_Versions_Numpy  \\\n",
       "0   HCC_002                           v3.0.1                      2.2.6   \n",
       "1   HCC_003                           v3.0.1                      2.2.6   \n",
       "2   HCC_004                           v3.0.1                      2.2.6   \n",
       "3   HCC_005                           v3.0.1                      2.2.6   \n",
       "4   HCC_006                           v3.0.1                      2.2.6   \n",
       "\n",
       "  diagnostics_Versions_SimpleITK diagnostics_Versions_PyWavelet  \\\n",
       "0                          2.5.2                          1.8.0   \n",
       "1                          2.5.2                          1.8.0   \n",
       "2                          2.5.2                          1.8.0   \n",
       "3                          2.5.2                          1.8.0   \n",
       "4                          2.5.2                          1.8.0   \n",
       "\n",
       "  diagnostics_Versions_Python  \\\n",
       "0                     3.10.16   \n",
       "1                     3.10.16   \n",
       "2                     3.10.16   \n",
       "3                     3.10.16   \n",
       "4                     3.10.16   \n",
       "\n",
       "                  diagnostics_Configuration_Settings  \\\n",
       "0  {'minimumROIDimensions': 2, 'minimumROISize': ...   \n",
       "1  {'minimumROIDimensions': 2, 'minimumROISize': ...   \n",
       "2  {'minimumROIDimensions': 2, 'minimumROISize': ...   \n",
       "3  {'minimumROIDimensions': 2, 'minimumROISize': ...   \n",
       "4  {'minimumROIDimensions': 2, 'minimumROISize': ...   \n",
       "\n",
       "  diagnostics_Configuration_EnabledImageTypes  \\\n",
       "0                            {'Original': {}}   \n",
       "1                            {'Original': {}}   \n",
       "2                            {'Original': {}}   \n",
       "3                            {'Original': {}}   \n",
       "4                            {'Original': {}}   \n",
       "\n",
       "            diagnostics_Image-original_Hash  \\\n",
       "0  fd7992bb639fb9faf665ba819bbd34498377504f   \n",
       "1  25aeb8d1ec7731ede2658379e04e15b3befd6497   \n",
       "2  3b109c7a737933c2ffe0dd9f7ff6ba61aa1617af   \n",
       "3  b3321933601c857f30931e33f848083b44d67fbe   \n",
       "4  a0a1238368bdb1bbc105ea0be520016c306efe99   \n",
       "\n",
       "  diagnostics_Image-original_Dimensionality  ...  \\\n",
       "0                                        3D  ...   \n",
       "1                                        3D  ...   \n",
       "2                                        3D  ...   \n",
       "3                                        3D  ...   \n",
       "4                                        3D  ...   \n",
       "\n",
       "  original_glszm_SmallAreaHighGrayLevelEmphasis  \\\n",
       "0                            1099.8149208591517   \n",
       "1                             769.3533178996998   \n",
       "2                             982.9051042609103   \n",
       "3                            1077.3630471870777   \n",
       "4                             1291.330916101148   \n",
       "\n",
       "  original_glszm_SmallAreaLowGrayLevelEmphasis  original_glszm_ZoneEntropy  \\\n",
       "0                        0.0023697801381916167           7.583554384864127   \n",
       "1                         0.023946351412725417           7.485852328292948   \n",
       "2                         0.005597864447674355           8.184989238560847   \n",
       "3                        0.0011338962311964428           7.141550907621083   \n",
       "4                        0.0028918655074671516           7.605537387592789   \n",
       "\n",
       "   original_glszm_ZonePercentage  original_glszm_ZoneVariance  \\\n",
       "0            0.26679577935087484            2054.359117482585   \n",
       "1            0.12228727025187203            4584.584626934664   \n",
       "2             0.1478127217304788            71788.31617227747   \n",
       "3            0.11574919622918968           222863.08800993662   \n",
       "4            0.12340219491115088            78501.19701343217   \n",
       "\n",
       "  original_ngtdm_Busyness original_ngtdm_Coarseness original_ngtdm_Complexity  \\\n",
       "0      0.2396853067339907     0.0008502342467176705         5433.018956955054   \n",
       "1      0.7698898280558546    0.00045715253239660977        3697.1129554536174   \n",
       "2       6.842687288463462     3.058283611455279e-05          18299.8578155048   \n",
       "3      10.955859892357402    1.6832631818601294e-05        3817.8404985062903   \n",
       "4       6.983019626887953    2.1857447738666883e-05         5438.366683688181   \n",
       "\n",
       "  original_ngtdm_Contrast  original_ngtdm_Strength  \n",
       "0     0.06080326794438817        5.615451453425239  \n",
       "1     0.26981151141155885       2.4314885704488103  \n",
       "2      0.0668671241145693       0.6895097409876039  \n",
       "3    0.015906301239814284      0.08767486633063029  \n",
       "4    0.028211533424528937      0.18943655461842052  \n",
       "\n",
       "[5 rows x 130 columns]"
      ]
     },
     "execution_count": 5,
     "metadata": {},
     "output_type": "execute_result"
    }
   ],
   "source": [
    "# --- Saving Results ---\n",
    "\n",
    "# Convertint the list of feature dictionaries into a pandas DataFrame\n",
    "# A DataFrame is like a spreadsheet or a table\n",
    "\n",
    "features_df = pd.DataFrame(all_features)\n",
    "\n",
    "# Setting the order of the columns to get the PatientID as the first column for easy reference\n",
    "\n",
    "cols = ['PatientID'] + [col for col in features_df.columns if col != 'PatientID']\n",
    "\n",
    "features_df = features_df[cols]\n",
    "\n",
    "# Setting the output path for the output file\n",
    "output_path = '../Results/radiomics_features.csv'\n",
    "\n",
    "# Saving the DataFrame to a CSV file\n",
    "features_df.to_csv(output_path, index=False)\n",
    "\n",
    "print(f\"Successfully saved {len(features_df)} patient records to:\")\n",
    "print(os.path.abspath(output_path))\n",
    "\n",
    "# Displaying the first 5 rows of the new table\n",
    "features_df.head()"
   ]
  }
 ],
 "metadata": {
  "kernelspec": {
   "display_name": "thesis_env",
   "language": "python",
   "name": "python3"
  },
  "language_info": {
   "codemirror_mode": {
    "name": "ipython",
    "version": 3
   },
   "file_extension": ".py",
   "mimetype": "text/x-python",
   "name": "python",
   "nbconvert_exporter": "python",
   "pygments_lexer": "ipython3",
   "version": "3.10.16"
  }
 },
 "nbformat": 4,
 "nbformat_minor": 5
}
